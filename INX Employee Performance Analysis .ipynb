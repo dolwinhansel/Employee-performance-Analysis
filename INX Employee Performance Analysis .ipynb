{
 "cells": [
  {
   "cell_type": "markdown",
   "metadata": {},
   "source": [
    "## Data Processing "
   ]
  },
  {
   "cell_type": "markdown",
   "metadata": {},
   "source": [
    "### Import Packages "
   ]
  },
  {
   "cell_type": "code",
   "execution_count": 1,
   "metadata": {},
   "outputs": [],
   "source": [
    "# data analysis and wrangling \n",
    "import numpy as np \n",
    "import pandas as pd \n",
    "\n",
    "# Visualization\n",
    "import seaborn as sns \n",
    "import matplotlib.pyplot as plt \n",
    "%matplotlib inline\n",
    "\n",
    "\n",
    "## import and suppress warnings\n",
    "import warnings\n",
    "warnings.filterwarnings('ignore')"
   ]
  },
  {
   "cell_type": "markdown",
   "metadata": {},
   "source": [
    "### Acquire Data"
   ]
  },
  {
   "cell_type": "code",
   "execution_count": 2,
   "metadata": {},
   "outputs": [
    {
     "data": {
      "text/html": [
       "<div>\n",
       "<style scoped>\n",
       "    .dataframe tbody tr th:only-of-type {\n",
       "        vertical-align: middle;\n",
       "    }\n",
       "\n",
       "    .dataframe tbody tr th {\n",
       "        vertical-align: top;\n",
       "    }\n",
       "\n",
       "    .dataframe thead th {\n",
       "        text-align: right;\n",
       "    }\n",
       "</style>\n",
       "<table border=\"1\" class=\"dataframe\">\n",
       "  <thead>\n",
       "    <tr style=\"text-align: right;\">\n",
       "      <th></th>\n",
       "      <th>EmpNumber</th>\n",
       "      <th>Age</th>\n",
       "      <th>Gender</th>\n",
       "      <th>EducationBackground</th>\n",
       "      <th>MaritalStatus</th>\n",
       "      <th>EmpDepartment</th>\n",
       "      <th>EmpJobRole</th>\n",
       "      <th>BusinessTravelFrequency</th>\n",
       "      <th>DistanceFromHome</th>\n",
       "      <th>EmpEducationLevel</th>\n",
       "      <th>...</th>\n",
       "      <th>EmpRelationshipSatisfaction</th>\n",
       "      <th>TotalWorkExperienceInYears</th>\n",
       "      <th>TrainingTimesLastYear</th>\n",
       "      <th>EmpWorkLifeBalance</th>\n",
       "      <th>ExperienceYearsAtThisCompany</th>\n",
       "      <th>ExperienceYearsInCurrentRole</th>\n",
       "      <th>YearsSinceLastPromotion</th>\n",
       "      <th>YearsWithCurrManager</th>\n",
       "      <th>Attrition</th>\n",
       "      <th>PerformanceRating</th>\n",
       "    </tr>\n",
       "  </thead>\n",
       "  <tbody>\n",
       "    <tr>\n",
       "      <th>0</th>\n",
       "      <td>E1001000</td>\n",
       "      <td>32</td>\n",
       "      <td>Male</td>\n",
       "      <td>Marketing</td>\n",
       "      <td>Single</td>\n",
       "      <td>Sales</td>\n",
       "      <td>Sales Executive</td>\n",
       "      <td>Travel_Rarely</td>\n",
       "      <td>10</td>\n",
       "      <td>3</td>\n",
       "      <td>...</td>\n",
       "      <td>4</td>\n",
       "      <td>10</td>\n",
       "      <td>2</td>\n",
       "      <td>2</td>\n",
       "      <td>10</td>\n",
       "      <td>7</td>\n",
       "      <td>0</td>\n",
       "      <td>8</td>\n",
       "      <td>No</td>\n",
       "      <td>3</td>\n",
       "    </tr>\n",
       "    <tr>\n",
       "      <th>1</th>\n",
       "      <td>E1001006</td>\n",
       "      <td>47</td>\n",
       "      <td>Male</td>\n",
       "      <td>Marketing</td>\n",
       "      <td>Single</td>\n",
       "      <td>Sales</td>\n",
       "      <td>Sales Executive</td>\n",
       "      <td>Travel_Rarely</td>\n",
       "      <td>14</td>\n",
       "      <td>4</td>\n",
       "      <td>...</td>\n",
       "      <td>4</td>\n",
       "      <td>20</td>\n",
       "      <td>2</td>\n",
       "      <td>3</td>\n",
       "      <td>7</td>\n",
       "      <td>7</td>\n",
       "      <td>1</td>\n",
       "      <td>7</td>\n",
       "      <td>No</td>\n",
       "      <td>3</td>\n",
       "    </tr>\n",
       "    <tr>\n",
       "      <th>2</th>\n",
       "      <td>E1001007</td>\n",
       "      <td>40</td>\n",
       "      <td>Male</td>\n",
       "      <td>Life Sciences</td>\n",
       "      <td>Married</td>\n",
       "      <td>Sales</td>\n",
       "      <td>Sales Executive</td>\n",
       "      <td>Travel_Frequently</td>\n",
       "      <td>5</td>\n",
       "      <td>4</td>\n",
       "      <td>...</td>\n",
       "      <td>3</td>\n",
       "      <td>20</td>\n",
       "      <td>2</td>\n",
       "      <td>3</td>\n",
       "      <td>18</td>\n",
       "      <td>13</td>\n",
       "      <td>1</td>\n",
       "      <td>12</td>\n",
       "      <td>No</td>\n",
       "      <td>4</td>\n",
       "    </tr>\n",
       "    <tr>\n",
       "      <th>3</th>\n",
       "      <td>E1001009</td>\n",
       "      <td>41</td>\n",
       "      <td>Male</td>\n",
       "      <td>Human Resources</td>\n",
       "      <td>Divorced</td>\n",
       "      <td>Human Resources</td>\n",
       "      <td>Manager</td>\n",
       "      <td>Travel_Rarely</td>\n",
       "      <td>10</td>\n",
       "      <td>4</td>\n",
       "      <td>...</td>\n",
       "      <td>2</td>\n",
       "      <td>23</td>\n",
       "      <td>2</td>\n",
       "      <td>2</td>\n",
       "      <td>21</td>\n",
       "      <td>6</td>\n",
       "      <td>12</td>\n",
       "      <td>6</td>\n",
       "      <td>No</td>\n",
       "      <td>3</td>\n",
       "    </tr>\n",
       "    <tr>\n",
       "      <th>4</th>\n",
       "      <td>E1001010</td>\n",
       "      <td>60</td>\n",
       "      <td>Male</td>\n",
       "      <td>Marketing</td>\n",
       "      <td>Single</td>\n",
       "      <td>Sales</td>\n",
       "      <td>Sales Executive</td>\n",
       "      <td>Travel_Rarely</td>\n",
       "      <td>16</td>\n",
       "      <td>4</td>\n",
       "      <td>...</td>\n",
       "      <td>4</td>\n",
       "      <td>10</td>\n",
       "      <td>1</td>\n",
       "      <td>3</td>\n",
       "      <td>2</td>\n",
       "      <td>2</td>\n",
       "      <td>2</td>\n",
       "      <td>2</td>\n",
       "      <td>No</td>\n",
       "      <td>3</td>\n",
       "    </tr>\n",
       "  </tbody>\n",
       "</table>\n",
       "<p>5 rows × 28 columns</p>\n",
       "</div>"
      ],
      "text/plain": [
       "  EmpNumber  Age Gender EducationBackground MaritalStatus    EmpDepartment  \\\n",
       "0  E1001000   32   Male           Marketing        Single            Sales   \n",
       "1  E1001006   47   Male           Marketing        Single            Sales   \n",
       "2  E1001007   40   Male       Life Sciences       Married            Sales   \n",
       "3  E1001009   41   Male     Human Resources      Divorced  Human Resources   \n",
       "4  E1001010   60   Male           Marketing        Single            Sales   \n",
       "\n",
       "        EmpJobRole BusinessTravelFrequency  DistanceFromHome  \\\n",
       "0  Sales Executive           Travel_Rarely                10   \n",
       "1  Sales Executive           Travel_Rarely                14   \n",
       "2  Sales Executive       Travel_Frequently                 5   \n",
       "3          Manager           Travel_Rarely                10   \n",
       "4  Sales Executive           Travel_Rarely                16   \n",
       "\n",
       "   EmpEducationLevel  ...  EmpRelationshipSatisfaction  \\\n",
       "0                  3  ...                            4   \n",
       "1                  4  ...                            4   \n",
       "2                  4  ...                            3   \n",
       "3                  4  ...                            2   \n",
       "4                  4  ...                            4   \n",
       "\n",
       "   TotalWorkExperienceInYears  TrainingTimesLastYear  EmpWorkLifeBalance  \\\n",
       "0                          10                      2                   2   \n",
       "1                          20                      2                   3   \n",
       "2                          20                      2                   3   \n",
       "3                          23                      2                   2   \n",
       "4                          10                      1                   3   \n",
       "\n",
       "   ExperienceYearsAtThisCompany  ExperienceYearsInCurrentRole  \\\n",
       "0                            10                             7   \n",
       "1                             7                             7   \n",
       "2                            18                            13   \n",
       "3                            21                             6   \n",
       "4                             2                             2   \n",
       "\n",
       "  YearsSinceLastPromotion  YearsWithCurrManager  Attrition  PerformanceRating  \n",
       "0                       0                     8         No                  3  \n",
       "1                       1                     7         No                  3  \n",
       "2                       1                    12         No                  4  \n",
       "3                      12                     6         No                  3  \n",
       "4                       2                     2         No                  3  \n",
       "\n",
       "[5 rows x 28 columns]"
      ]
     },
     "execution_count": 2,
     "metadata": {},
     "output_type": "execute_result"
    }
   ],
   "source": [
    "df = pd.read_excel(\"INX_Future_Inc_Employee_Performance_CDS_Project2_Data_V1.8.xls\")\n",
    "df.head()"
   ]
  },
  {
   "cell_type": "code",
   "execution_count": 3,
   "metadata": {},
   "outputs": [
    {
     "data": {
      "text/html": [
       "<div>\n",
       "<style scoped>\n",
       "    .dataframe tbody tr th:only-of-type {\n",
       "        vertical-align: middle;\n",
       "    }\n",
       "\n",
       "    .dataframe tbody tr th {\n",
       "        vertical-align: top;\n",
       "    }\n",
       "\n",
       "    .dataframe thead th {\n",
       "        text-align: right;\n",
       "    }\n",
       "</style>\n",
       "<table border=\"1\" class=\"dataframe\">\n",
       "  <thead>\n",
       "    <tr style=\"text-align: right;\">\n",
       "      <th></th>\n",
       "      <th>EmpNumber</th>\n",
       "      <th>Age</th>\n",
       "      <th>Gender</th>\n",
       "      <th>EducationBackground</th>\n",
       "      <th>MaritalStatus</th>\n",
       "      <th>EmpDepartment</th>\n",
       "      <th>EmpJobRole</th>\n",
       "      <th>BusinessTravelFrequency</th>\n",
       "      <th>DistanceFromHome</th>\n",
       "      <th>EmpEducationLevel</th>\n",
       "      <th>...</th>\n",
       "      <th>EmpRelationshipSatisfaction</th>\n",
       "      <th>TotalWorkExperienceInYears</th>\n",
       "      <th>TrainingTimesLastYear</th>\n",
       "      <th>EmpWorkLifeBalance</th>\n",
       "      <th>ExperienceYearsAtThisCompany</th>\n",
       "      <th>ExperienceYearsInCurrentRole</th>\n",
       "      <th>YearsSinceLastPromotion</th>\n",
       "      <th>YearsWithCurrManager</th>\n",
       "      <th>Attrition</th>\n",
       "      <th>PerformanceRating</th>\n",
       "    </tr>\n",
       "  </thead>\n",
       "  <tbody>\n",
       "    <tr>\n",
       "      <th>0</th>\n",
       "      <td>E1001000</td>\n",
       "      <td>32</td>\n",
       "      <td>Male</td>\n",
       "      <td>Marketing</td>\n",
       "      <td>Single</td>\n",
       "      <td>Sales</td>\n",
       "      <td>Sales Executive</td>\n",
       "      <td>Travel_Rarely</td>\n",
       "      <td>10</td>\n",
       "      <td>3</td>\n",
       "      <td>...</td>\n",
       "      <td>4</td>\n",
       "      <td>10</td>\n",
       "      <td>2</td>\n",
       "      <td>2</td>\n",
       "      <td>10</td>\n",
       "      <td>7</td>\n",
       "      <td>0</td>\n",
       "      <td>8</td>\n",
       "      <td>No</td>\n",
       "      <td>3</td>\n",
       "    </tr>\n",
       "    <tr>\n",
       "      <th>1</th>\n",
       "      <td>E1001006</td>\n",
       "      <td>47</td>\n",
       "      <td>Male</td>\n",
       "      <td>Marketing</td>\n",
       "      <td>Single</td>\n",
       "      <td>Sales</td>\n",
       "      <td>Sales Executive</td>\n",
       "      <td>Travel_Rarely</td>\n",
       "      <td>14</td>\n",
       "      <td>4</td>\n",
       "      <td>...</td>\n",
       "      <td>4</td>\n",
       "      <td>20</td>\n",
       "      <td>2</td>\n",
       "      <td>3</td>\n",
       "      <td>7</td>\n",
       "      <td>7</td>\n",
       "      <td>1</td>\n",
       "      <td>7</td>\n",
       "      <td>No</td>\n",
       "      <td>3</td>\n",
       "    </tr>\n",
       "    <tr>\n",
       "      <th>2</th>\n",
       "      <td>E1001007</td>\n",
       "      <td>40</td>\n",
       "      <td>Male</td>\n",
       "      <td>Life Sciences</td>\n",
       "      <td>Married</td>\n",
       "      <td>Sales</td>\n",
       "      <td>Sales Executive</td>\n",
       "      <td>Travel_Frequently</td>\n",
       "      <td>5</td>\n",
       "      <td>4</td>\n",
       "      <td>...</td>\n",
       "      <td>3</td>\n",
       "      <td>20</td>\n",
       "      <td>2</td>\n",
       "      <td>3</td>\n",
       "      <td>18</td>\n",
       "      <td>13</td>\n",
       "      <td>1</td>\n",
       "      <td>12</td>\n",
       "      <td>No</td>\n",
       "      <td>4</td>\n",
       "    </tr>\n",
       "    <tr>\n",
       "      <th>3</th>\n",
       "      <td>E1001009</td>\n",
       "      <td>41</td>\n",
       "      <td>Male</td>\n",
       "      <td>Human Resources</td>\n",
       "      <td>Divorced</td>\n",
       "      <td>Human Resources</td>\n",
       "      <td>Manager</td>\n",
       "      <td>Travel_Rarely</td>\n",
       "      <td>10</td>\n",
       "      <td>4</td>\n",
       "      <td>...</td>\n",
       "      <td>2</td>\n",
       "      <td>23</td>\n",
       "      <td>2</td>\n",
       "      <td>2</td>\n",
       "      <td>21</td>\n",
       "      <td>6</td>\n",
       "      <td>12</td>\n",
       "      <td>6</td>\n",
       "      <td>No</td>\n",
       "      <td>3</td>\n",
       "    </tr>\n",
       "    <tr>\n",
       "      <th>4</th>\n",
       "      <td>E1001010</td>\n",
       "      <td>60</td>\n",
       "      <td>Male</td>\n",
       "      <td>Marketing</td>\n",
       "      <td>Single</td>\n",
       "      <td>Sales</td>\n",
       "      <td>Sales Executive</td>\n",
       "      <td>Travel_Rarely</td>\n",
       "      <td>16</td>\n",
       "      <td>4</td>\n",
       "      <td>...</td>\n",
       "      <td>4</td>\n",
       "      <td>10</td>\n",
       "      <td>1</td>\n",
       "      <td>3</td>\n",
       "      <td>2</td>\n",
       "      <td>2</td>\n",
       "      <td>2</td>\n",
       "      <td>2</td>\n",
       "      <td>No</td>\n",
       "      <td>3</td>\n",
       "    </tr>\n",
       "  </tbody>\n",
       "</table>\n",
       "<p>5 rows × 28 columns</p>\n",
       "</div>"
      ],
      "text/plain": [
       "  EmpNumber  Age Gender EducationBackground MaritalStatus    EmpDepartment  \\\n",
       "0  E1001000   32   Male           Marketing        Single            Sales   \n",
       "1  E1001006   47   Male           Marketing        Single            Sales   \n",
       "2  E1001007   40   Male       Life Sciences       Married            Sales   \n",
       "3  E1001009   41   Male     Human Resources      Divorced  Human Resources   \n",
       "4  E1001010   60   Male           Marketing        Single            Sales   \n",
       "\n",
       "        EmpJobRole BusinessTravelFrequency  DistanceFromHome  \\\n",
       "0  Sales Executive           Travel_Rarely                10   \n",
       "1  Sales Executive           Travel_Rarely                14   \n",
       "2  Sales Executive       Travel_Frequently                 5   \n",
       "3          Manager           Travel_Rarely                10   \n",
       "4  Sales Executive           Travel_Rarely                16   \n",
       "\n",
       "   EmpEducationLevel  ...  EmpRelationshipSatisfaction  \\\n",
       "0                  3  ...                            4   \n",
       "1                  4  ...                            4   \n",
       "2                  4  ...                            3   \n",
       "3                  4  ...                            2   \n",
       "4                  4  ...                            4   \n",
       "\n",
       "   TotalWorkExperienceInYears  TrainingTimesLastYear  EmpWorkLifeBalance  \\\n",
       "0                          10                      2                   2   \n",
       "1                          20                      2                   3   \n",
       "2                          20                      2                   3   \n",
       "3                          23                      2                   2   \n",
       "4                          10                      1                   3   \n",
       "\n",
       "   ExperienceYearsAtThisCompany  ExperienceYearsInCurrentRole  \\\n",
       "0                            10                             7   \n",
       "1                             7                             7   \n",
       "2                            18                            13   \n",
       "3                            21                             6   \n",
       "4                             2                             2   \n",
       "\n",
       "  YearsSinceLastPromotion  YearsWithCurrManager  Attrition  PerformanceRating  \n",
       "0                       0                     8         No                  3  \n",
       "1                       1                     7         No                  3  \n",
       "2                       1                    12         No                  4  \n",
       "3                      12                     6         No                  3  \n",
       "4                       2                     2         No                  3  \n",
       "\n",
       "[5 rows x 28 columns]"
      ]
     },
     "execution_count": 3,
     "metadata": {},
     "output_type": "execute_result"
    }
   ],
   "source": [
    "df.to_csv(\"INX_Future_Inc_Employee_Performance_CDS_Project2_Data_V1.8.csv\")\n",
    "df.head()"
   ]
  },
  {
   "cell_type": "markdown",
   "metadata": {},
   "source": [
    "## Analyse Features by describing the data "
   ]
  },
  {
   "cell_type": "code",
   "execution_count": 4,
   "metadata": {},
   "outputs": [
    {
     "name": "stdout",
     "output_type": "stream",
     "text": [
      "['EmpNumber' 'Age' 'Gender' 'EducationBackground' 'MaritalStatus'\n",
      " 'EmpDepartment' 'EmpJobRole' 'BusinessTravelFrequency' 'DistanceFromHome'\n",
      " 'EmpEducationLevel' 'EmpEnvironmentSatisfaction' 'EmpHourlyRate'\n",
      " 'EmpJobInvolvement' 'EmpJobLevel' 'EmpJobSatisfaction'\n",
      " 'NumCompaniesWorked' 'OverTime' 'EmpLastSalaryHikePercent'\n",
      " 'EmpRelationshipSatisfaction' 'TotalWorkExperienceInYears'\n",
      " 'TrainingTimesLastYear' 'EmpWorkLifeBalance'\n",
      " 'ExperienceYearsAtThisCompany' 'ExperienceYearsInCurrentRole'\n",
      " 'YearsSinceLastPromotion' 'YearsWithCurrManager' 'Attrition'\n",
      " 'PerformanceRating']\n"
     ]
    }
   ],
   "source": [
    "print(df.columns.values)"
   ]
  },
  {
   "cell_type": "markdown",
   "metadata": {},
   "source": [
    "## Shape of the data "
   ]
  },
  {
   "cell_type": "code",
   "execution_count": 5,
   "metadata": {},
   "outputs": [
    {
     "data": {
      "text/plain": [
       "(1200, 28)"
      ]
     },
     "execution_count": 5,
     "metadata": {},
     "output_type": "execute_result"
    }
   ],
   "source": [
    "df.shape "
   ]
  },
  {
   "cell_type": "markdown",
   "metadata": {},
   "source": [
    "##### it has 1200 rows and 28 columns "
   ]
  },
  {
   "cell_type": "markdown",
   "metadata": {},
   "source": [
    "## Datatypes of the Feature"
   ]
  },
  {
   "cell_type": "code",
   "execution_count": 6,
   "metadata": {},
   "outputs": [
    {
     "name": "stdout",
     "output_type": "stream",
     "text": [
      "<class 'pandas.core.frame.DataFrame'>\n",
      "RangeIndex: 1200 entries, 0 to 1199\n",
      "Data columns (total 28 columns):\n",
      " #   Column                        Non-Null Count  Dtype \n",
      "---  ------                        --------------  ----- \n",
      " 0   EmpNumber                     1200 non-null   object\n",
      " 1   Age                           1200 non-null   int64 \n",
      " 2   Gender                        1200 non-null   object\n",
      " 3   EducationBackground           1200 non-null   object\n",
      " 4   MaritalStatus                 1200 non-null   object\n",
      " 5   EmpDepartment                 1200 non-null   object\n",
      " 6   EmpJobRole                    1200 non-null   object\n",
      " 7   BusinessTravelFrequency       1200 non-null   object\n",
      " 8   DistanceFromHome              1200 non-null   int64 \n",
      " 9   EmpEducationLevel             1200 non-null   int64 \n",
      " 10  EmpEnvironmentSatisfaction    1200 non-null   int64 \n",
      " 11  EmpHourlyRate                 1200 non-null   int64 \n",
      " 12  EmpJobInvolvement             1200 non-null   int64 \n",
      " 13  EmpJobLevel                   1200 non-null   int64 \n",
      " 14  EmpJobSatisfaction            1200 non-null   int64 \n",
      " 15  NumCompaniesWorked            1200 non-null   int64 \n",
      " 16  OverTime                      1200 non-null   object\n",
      " 17  EmpLastSalaryHikePercent      1200 non-null   int64 \n",
      " 18  EmpRelationshipSatisfaction   1200 non-null   int64 \n",
      " 19  TotalWorkExperienceInYears    1200 non-null   int64 \n",
      " 20  TrainingTimesLastYear         1200 non-null   int64 \n",
      " 21  EmpWorkLifeBalance            1200 non-null   int64 \n",
      " 22  ExperienceYearsAtThisCompany  1200 non-null   int64 \n",
      " 23  ExperienceYearsInCurrentRole  1200 non-null   int64 \n",
      " 24  YearsSinceLastPromotion       1200 non-null   int64 \n",
      " 25  YearsWithCurrManager          1200 non-null   int64 \n",
      " 26  Attrition                     1200 non-null   object\n",
      " 27  PerformanceRating             1200 non-null   int64 \n",
      "dtypes: int64(19), object(9)\n",
      "memory usage: 262.6+ KB\n"
     ]
    }
   ],
   "source": [
    "df.info()"
   ]
  },
  {
   "cell_type": "code",
   "execution_count": 7,
   "metadata": {},
   "outputs": [
    {
     "data": {
      "text/html": [
       "<div>\n",
       "<style scoped>\n",
       "    .dataframe tbody tr th:only-of-type {\n",
       "        vertical-align: middle;\n",
       "    }\n",
       "\n",
       "    .dataframe tbody tr th {\n",
       "        vertical-align: top;\n",
       "    }\n",
       "\n",
       "    .dataframe thead th {\n",
       "        text-align: right;\n",
       "    }\n",
       "</style>\n",
       "<table border=\"1\" class=\"dataframe\">\n",
       "  <thead>\n",
       "    <tr style=\"text-align: right;\">\n",
       "      <th></th>\n",
       "      <th>Age</th>\n",
       "      <th>Gender</th>\n",
       "      <th>EducationBackground</th>\n",
       "      <th>MaritalStatus</th>\n",
       "      <th>EmpDepartment</th>\n",
       "      <th>EmpJobRole</th>\n",
       "      <th>BusinessTravelFrequency</th>\n",
       "      <th>DistanceFromHome</th>\n",
       "      <th>EmpEducationLevel</th>\n",
       "      <th>EmpEnvironmentSatisfaction</th>\n",
       "      <th>...</th>\n",
       "      <th>EmpRelationshipSatisfaction</th>\n",
       "      <th>TotalWorkExperienceInYears</th>\n",
       "      <th>TrainingTimesLastYear</th>\n",
       "      <th>EmpWorkLifeBalance</th>\n",
       "      <th>ExperienceYearsAtThisCompany</th>\n",
       "      <th>ExperienceYearsInCurrentRole</th>\n",
       "      <th>YearsSinceLastPromotion</th>\n",
       "      <th>YearsWithCurrManager</th>\n",
       "      <th>Attrition</th>\n",
       "      <th>PerformanceRating</th>\n",
       "    </tr>\n",
       "  </thead>\n",
       "  <tbody>\n",
       "    <tr>\n",
       "      <th>0</th>\n",
       "      <td>32</td>\n",
       "      <td>Male</td>\n",
       "      <td>Marketing</td>\n",
       "      <td>Single</td>\n",
       "      <td>Sales</td>\n",
       "      <td>Sales Executive</td>\n",
       "      <td>Travel_Rarely</td>\n",
       "      <td>10</td>\n",
       "      <td>3</td>\n",
       "      <td>4</td>\n",
       "      <td>...</td>\n",
       "      <td>4</td>\n",
       "      <td>10</td>\n",
       "      <td>2</td>\n",
       "      <td>2</td>\n",
       "      <td>10</td>\n",
       "      <td>7</td>\n",
       "      <td>0</td>\n",
       "      <td>8</td>\n",
       "      <td>No</td>\n",
       "      <td>3</td>\n",
       "    </tr>\n",
       "    <tr>\n",
       "      <th>1</th>\n",
       "      <td>47</td>\n",
       "      <td>Male</td>\n",
       "      <td>Marketing</td>\n",
       "      <td>Single</td>\n",
       "      <td>Sales</td>\n",
       "      <td>Sales Executive</td>\n",
       "      <td>Travel_Rarely</td>\n",
       "      <td>14</td>\n",
       "      <td>4</td>\n",
       "      <td>4</td>\n",
       "      <td>...</td>\n",
       "      <td>4</td>\n",
       "      <td>20</td>\n",
       "      <td>2</td>\n",
       "      <td>3</td>\n",
       "      <td>7</td>\n",
       "      <td>7</td>\n",
       "      <td>1</td>\n",
       "      <td>7</td>\n",
       "      <td>No</td>\n",
       "      <td>3</td>\n",
       "    </tr>\n",
       "    <tr>\n",
       "      <th>2</th>\n",
       "      <td>40</td>\n",
       "      <td>Male</td>\n",
       "      <td>Life Sciences</td>\n",
       "      <td>Married</td>\n",
       "      <td>Sales</td>\n",
       "      <td>Sales Executive</td>\n",
       "      <td>Travel_Frequently</td>\n",
       "      <td>5</td>\n",
       "      <td>4</td>\n",
       "      <td>4</td>\n",
       "      <td>...</td>\n",
       "      <td>3</td>\n",
       "      <td>20</td>\n",
       "      <td>2</td>\n",
       "      <td>3</td>\n",
       "      <td>18</td>\n",
       "      <td>13</td>\n",
       "      <td>1</td>\n",
       "      <td>12</td>\n",
       "      <td>No</td>\n",
       "      <td>4</td>\n",
       "    </tr>\n",
       "    <tr>\n",
       "      <th>3</th>\n",
       "      <td>41</td>\n",
       "      <td>Male</td>\n",
       "      <td>Human Resources</td>\n",
       "      <td>Divorced</td>\n",
       "      <td>Human Resources</td>\n",
       "      <td>Manager</td>\n",
       "      <td>Travel_Rarely</td>\n",
       "      <td>10</td>\n",
       "      <td>4</td>\n",
       "      <td>2</td>\n",
       "      <td>...</td>\n",
       "      <td>2</td>\n",
       "      <td>23</td>\n",
       "      <td>2</td>\n",
       "      <td>2</td>\n",
       "      <td>21</td>\n",
       "      <td>6</td>\n",
       "      <td>12</td>\n",
       "      <td>6</td>\n",
       "      <td>No</td>\n",
       "      <td>3</td>\n",
       "    </tr>\n",
       "    <tr>\n",
       "      <th>4</th>\n",
       "      <td>60</td>\n",
       "      <td>Male</td>\n",
       "      <td>Marketing</td>\n",
       "      <td>Single</td>\n",
       "      <td>Sales</td>\n",
       "      <td>Sales Executive</td>\n",
       "      <td>Travel_Rarely</td>\n",
       "      <td>16</td>\n",
       "      <td>4</td>\n",
       "      <td>1</td>\n",
       "      <td>...</td>\n",
       "      <td>4</td>\n",
       "      <td>10</td>\n",
       "      <td>1</td>\n",
       "      <td>3</td>\n",
       "      <td>2</td>\n",
       "      <td>2</td>\n",
       "      <td>2</td>\n",
       "      <td>2</td>\n",
       "      <td>No</td>\n",
       "      <td>3</td>\n",
       "    </tr>\n",
       "  </tbody>\n",
       "</table>\n",
       "<p>5 rows × 27 columns</p>\n",
       "</div>"
      ],
      "text/plain": [
       "   Age Gender EducationBackground MaritalStatus    EmpDepartment  \\\n",
       "0   32   Male           Marketing        Single            Sales   \n",
       "1   47   Male           Marketing        Single            Sales   \n",
       "2   40   Male       Life Sciences       Married            Sales   \n",
       "3   41   Male     Human Resources      Divorced  Human Resources   \n",
       "4   60   Male           Marketing        Single            Sales   \n",
       "\n",
       "        EmpJobRole BusinessTravelFrequency  DistanceFromHome  \\\n",
       "0  Sales Executive           Travel_Rarely                10   \n",
       "1  Sales Executive           Travel_Rarely                14   \n",
       "2  Sales Executive       Travel_Frequently                 5   \n",
       "3          Manager           Travel_Rarely                10   \n",
       "4  Sales Executive           Travel_Rarely                16   \n",
       "\n",
       "   EmpEducationLevel  EmpEnvironmentSatisfaction  ...  \\\n",
       "0                  3                           4  ...   \n",
       "1                  4                           4  ...   \n",
       "2                  4                           4  ...   \n",
       "3                  4                           2  ...   \n",
       "4                  4                           1  ...   \n",
       "\n",
       "   EmpRelationshipSatisfaction  TotalWorkExperienceInYears  \\\n",
       "0                            4                          10   \n",
       "1                            4                          20   \n",
       "2                            3                          20   \n",
       "3                            2                          23   \n",
       "4                            4                          10   \n",
       "\n",
       "   TrainingTimesLastYear  EmpWorkLifeBalance  ExperienceYearsAtThisCompany  \\\n",
       "0                      2                   2                            10   \n",
       "1                      2                   3                             7   \n",
       "2                      2                   3                            18   \n",
       "3                      2                   2                            21   \n",
       "4                      1                   3                             2   \n",
       "\n",
       "  ExperienceYearsInCurrentRole  YearsSinceLastPromotion  YearsWithCurrManager  \\\n",
       "0                            7                        0                     8   \n",
       "1                            7                        1                     7   \n",
       "2                           13                        1                    12   \n",
       "3                            6                       12                     6   \n",
       "4                            2                        2                     2   \n",
       "\n",
       "   Attrition  PerformanceRating  \n",
       "0         No                  3  \n",
       "1         No                  3  \n",
       "2         No                  4  \n",
       "3         No                  3  \n",
       "4         No                  3  \n",
       "\n",
       "[5 rows x 27 columns]"
      ]
     },
     "execution_count": 7,
     "metadata": {},
     "output_type": "execute_result"
    }
   ],
   "source": [
    "## dropping column  EmpNumber   \n",
    "df.drop('EmpNumber',axis=1,inplace=True)\n",
    "df.head()"
   ]
  },
  {
   "cell_type": "markdown",
   "metadata": {},
   "source": [
    "## Distribution of Categorical Variables "
   ]
  },
  {
   "cell_type": "code",
   "execution_count": 8,
   "metadata": {},
   "outputs": [
    {
     "data": {
      "text/html": [
       "<div>\n",
       "<style scoped>\n",
       "    .dataframe tbody tr th:only-of-type {\n",
       "        vertical-align: middle;\n",
       "    }\n",
       "\n",
       "    .dataframe tbody tr th {\n",
       "        vertical-align: top;\n",
       "    }\n",
       "\n",
       "    .dataframe thead th {\n",
       "        text-align: right;\n",
       "    }\n",
       "</style>\n",
       "<table border=\"1\" class=\"dataframe\">\n",
       "  <thead>\n",
       "    <tr style=\"text-align: right;\">\n",
       "      <th></th>\n",
       "      <th>Gender</th>\n",
       "      <th>EducationBackground</th>\n",
       "      <th>MaritalStatus</th>\n",
       "      <th>EmpDepartment</th>\n",
       "      <th>EmpJobRole</th>\n",
       "      <th>BusinessTravelFrequency</th>\n",
       "      <th>OverTime</th>\n",
       "      <th>Attrition</th>\n",
       "    </tr>\n",
       "  </thead>\n",
       "  <tbody>\n",
       "    <tr>\n",
       "      <th>count</th>\n",
       "      <td>1200</td>\n",
       "      <td>1200</td>\n",
       "      <td>1200</td>\n",
       "      <td>1200</td>\n",
       "      <td>1200</td>\n",
       "      <td>1200</td>\n",
       "      <td>1200</td>\n",
       "      <td>1200</td>\n",
       "    </tr>\n",
       "    <tr>\n",
       "      <th>unique</th>\n",
       "      <td>2</td>\n",
       "      <td>6</td>\n",
       "      <td>3</td>\n",
       "      <td>6</td>\n",
       "      <td>19</td>\n",
       "      <td>3</td>\n",
       "      <td>2</td>\n",
       "      <td>2</td>\n",
       "    </tr>\n",
       "    <tr>\n",
       "      <th>top</th>\n",
       "      <td>Male</td>\n",
       "      <td>Life Sciences</td>\n",
       "      <td>Married</td>\n",
       "      <td>Sales</td>\n",
       "      <td>Sales Executive</td>\n",
       "      <td>Travel_Rarely</td>\n",
       "      <td>No</td>\n",
       "      <td>No</td>\n",
       "    </tr>\n",
       "    <tr>\n",
       "      <th>freq</th>\n",
       "      <td>725</td>\n",
       "      <td>492</td>\n",
       "      <td>548</td>\n",
       "      <td>373</td>\n",
       "      <td>270</td>\n",
       "      <td>846</td>\n",
       "      <td>847</td>\n",
       "      <td>1022</td>\n",
       "    </tr>\n",
       "  </tbody>\n",
       "</table>\n",
       "</div>"
      ],
      "text/plain": [
       "       Gender EducationBackground MaritalStatus EmpDepartment  \\\n",
       "count    1200                1200          1200          1200   \n",
       "unique      2                   6             3             6   \n",
       "top      Male       Life Sciences       Married         Sales   \n",
       "freq      725                 492           548           373   \n",
       "\n",
       "             EmpJobRole BusinessTravelFrequency OverTime Attrition  \n",
       "count              1200                    1200     1200      1200  \n",
       "unique               19                       3        2         2  \n",
       "top     Sales Executive           Travel_Rarely       No        No  \n",
       "freq                270                     846      847      1022  "
      ]
     },
     "execution_count": 8,
     "metadata": {},
     "output_type": "execute_result"
    }
   ],
   "source": [
    "df.describe(include=['O']) # To see the Distribution of Categorical features"
   ]
  },
  {
   "cell_type": "markdown",
   "metadata": {},
   "source": [
    "## Distribution of Numerical Features "
   ]
  },
  {
   "cell_type": "code",
   "execution_count": 9,
   "metadata": {},
   "outputs": [
    {
     "data": {
      "text/html": [
       "<div>\n",
       "<style scoped>\n",
       "    .dataframe tbody tr th:only-of-type {\n",
       "        vertical-align: middle;\n",
       "    }\n",
       "\n",
       "    .dataframe tbody tr th {\n",
       "        vertical-align: top;\n",
       "    }\n",
       "\n",
       "    .dataframe thead th {\n",
       "        text-align: right;\n",
       "    }\n",
       "</style>\n",
       "<table border=\"1\" class=\"dataframe\">\n",
       "  <thead>\n",
       "    <tr style=\"text-align: right;\">\n",
       "      <th></th>\n",
       "      <th>Age</th>\n",
       "      <th>DistanceFromHome</th>\n",
       "      <th>EmpEducationLevel</th>\n",
       "      <th>EmpEnvironmentSatisfaction</th>\n",
       "      <th>EmpHourlyRate</th>\n",
       "      <th>EmpJobInvolvement</th>\n",
       "      <th>EmpJobLevel</th>\n",
       "      <th>EmpJobSatisfaction</th>\n",
       "      <th>NumCompaniesWorked</th>\n",
       "      <th>EmpLastSalaryHikePercent</th>\n",
       "      <th>EmpRelationshipSatisfaction</th>\n",
       "      <th>TotalWorkExperienceInYears</th>\n",
       "      <th>TrainingTimesLastYear</th>\n",
       "      <th>EmpWorkLifeBalance</th>\n",
       "      <th>ExperienceYearsAtThisCompany</th>\n",
       "      <th>ExperienceYearsInCurrentRole</th>\n",
       "      <th>YearsSinceLastPromotion</th>\n",
       "      <th>YearsWithCurrManager</th>\n",
       "      <th>PerformanceRating</th>\n",
       "    </tr>\n",
       "  </thead>\n",
       "  <tbody>\n",
       "    <tr>\n",
       "      <th>count</th>\n",
       "      <td>1200.000000</td>\n",
       "      <td>1200.000000</td>\n",
       "      <td>1200.00000</td>\n",
       "      <td>1200.000000</td>\n",
       "      <td>1200.000000</td>\n",
       "      <td>1200.000000</td>\n",
       "      <td>1200.000000</td>\n",
       "      <td>1200.000000</td>\n",
       "      <td>1200.000000</td>\n",
       "      <td>1200.000000</td>\n",
       "      <td>1200.000000</td>\n",
       "      <td>1200.000000</td>\n",
       "      <td>1200.000000</td>\n",
       "      <td>1200.000000</td>\n",
       "      <td>1200.000000</td>\n",
       "      <td>1200.000000</td>\n",
       "      <td>1200.000000</td>\n",
       "      <td>1200.000000</td>\n",
       "      <td>1200.000000</td>\n",
       "    </tr>\n",
       "    <tr>\n",
       "      <th>mean</th>\n",
       "      <td>36.918333</td>\n",
       "      <td>9.165833</td>\n",
       "      <td>2.89250</td>\n",
       "      <td>2.715833</td>\n",
       "      <td>65.981667</td>\n",
       "      <td>2.731667</td>\n",
       "      <td>2.067500</td>\n",
       "      <td>2.732500</td>\n",
       "      <td>2.665000</td>\n",
       "      <td>15.222500</td>\n",
       "      <td>2.725000</td>\n",
       "      <td>11.330000</td>\n",
       "      <td>2.785833</td>\n",
       "      <td>2.744167</td>\n",
       "      <td>7.077500</td>\n",
       "      <td>4.291667</td>\n",
       "      <td>2.194167</td>\n",
       "      <td>4.105000</td>\n",
       "      <td>2.948333</td>\n",
       "    </tr>\n",
       "    <tr>\n",
       "      <th>std</th>\n",
       "      <td>9.087289</td>\n",
       "      <td>8.176636</td>\n",
       "      <td>1.04412</td>\n",
       "      <td>1.090599</td>\n",
       "      <td>20.211302</td>\n",
       "      <td>0.707164</td>\n",
       "      <td>1.107836</td>\n",
       "      <td>1.100888</td>\n",
       "      <td>2.469384</td>\n",
       "      <td>3.625918</td>\n",
       "      <td>1.075642</td>\n",
       "      <td>7.797228</td>\n",
       "      <td>1.263446</td>\n",
       "      <td>0.699374</td>\n",
       "      <td>6.236899</td>\n",
       "      <td>3.613744</td>\n",
       "      <td>3.221560</td>\n",
       "      <td>3.541576</td>\n",
       "      <td>0.518866</td>\n",
       "    </tr>\n",
       "    <tr>\n",
       "      <th>min</th>\n",
       "      <td>18.000000</td>\n",
       "      <td>1.000000</td>\n",
       "      <td>1.00000</td>\n",
       "      <td>1.000000</td>\n",
       "      <td>30.000000</td>\n",
       "      <td>1.000000</td>\n",
       "      <td>1.000000</td>\n",
       "      <td>1.000000</td>\n",
       "      <td>0.000000</td>\n",
       "      <td>11.000000</td>\n",
       "      <td>1.000000</td>\n",
       "      <td>0.000000</td>\n",
       "      <td>0.000000</td>\n",
       "      <td>1.000000</td>\n",
       "      <td>0.000000</td>\n",
       "      <td>0.000000</td>\n",
       "      <td>0.000000</td>\n",
       "      <td>0.000000</td>\n",
       "      <td>2.000000</td>\n",
       "    </tr>\n",
       "    <tr>\n",
       "      <th>25%</th>\n",
       "      <td>30.000000</td>\n",
       "      <td>2.000000</td>\n",
       "      <td>2.00000</td>\n",
       "      <td>2.000000</td>\n",
       "      <td>48.000000</td>\n",
       "      <td>2.000000</td>\n",
       "      <td>1.000000</td>\n",
       "      <td>2.000000</td>\n",
       "      <td>1.000000</td>\n",
       "      <td>12.000000</td>\n",
       "      <td>2.000000</td>\n",
       "      <td>6.000000</td>\n",
       "      <td>2.000000</td>\n",
       "      <td>2.000000</td>\n",
       "      <td>3.000000</td>\n",
       "      <td>2.000000</td>\n",
       "      <td>0.000000</td>\n",
       "      <td>2.000000</td>\n",
       "      <td>3.000000</td>\n",
       "    </tr>\n",
       "    <tr>\n",
       "      <th>50%</th>\n",
       "      <td>36.000000</td>\n",
       "      <td>7.000000</td>\n",
       "      <td>3.00000</td>\n",
       "      <td>3.000000</td>\n",
       "      <td>66.000000</td>\n",
       "      <td>3.000000</td>\n",
       "      <td>2.000000</td>\n",
       "      <td>3.000000</td>\n",
       "      <td>2.000000</td>\n",
       "      <td>14.000000</td>\n",
       "      <td>3.000000</td>\n",
       "      <td>10.000000</td>\n",
       "      <td>3.000000</td>\n",
       "      <td>3.000000</td>\n",
       "      <td>5.000000</td>\n",
       "      <td>3.000000</td>\n",
       "      <td>1.000000</td>\n",
       "      <td>3.000000</td>\n",
       "      <td>3.000000</td>\n",
       "    </tr>\n",
       "    <tr>\n",
       "      <th>75%</th>\n",
       "      <td>43.000000</td>\n",
       "      <td>14.000000</td>\n",
       "      <td>4.00000</td>\n",
       "      <td>4.000000</td>\n",
       "      <td>83.000000</td>\n",
       "      <td>3.000000</td>\n",
       "      <td>3.000000</td>\n",
       "      <td>4.000000</td>\n",
       "      <td>4.000000</td>\n",
       "      <td>18.000000</td>\n",
       "      <td>4.000000</td>\n",
       "      <td>15.000000</td>\n",
       "      <td>3.000000</td>\n",
       "      <td>3.000000</td>\n",
       "      <td>10.000000</td>\n",
       "      <td>7.000000</td>\n",
       "      <td>3.000000</td>\n",
       "      <td>7.000000</td>\n",
       "      <td>3.000000</td>\n",
       "    </tr>\n",
       "    <tr>\n",
       "      <th>max</th>\n",
       "      <td>60.000000</td>\n",
       "      <td>29.000000</td>\n",
       "      <td>5.00000</td>\n",
       "      <td>4.000000</td>\n",
       "      <td>100.000000</td>\n",
       "      <td>4.000000</td>\n",
       "      <td>5.000000</td>\n",
       "      <td>4.000000</td>\n",
       "      <td>9.000000</td>\n",
       "      <td>25.000000</td>\n",
       "      <td>4.000000</td>\n",
       "      <td>40.000000</td>\n",
       "      <td>6.000000</td>\n",
       "      <td>4.000000</td>\n",
       "      <td>40.000000</td>\n",
       "      <td>18.000000</td>\n",
       "      <td>15.000000</td>\n",
       "      <td>17.000000</td>\n",
       "      <td>4.000000</td>\n",
       "    </tr>\n",
       "  </tbody>\n",
       "</table>\n",
       "</div>"
      ],
      "text/plain": [
       "               Age  DistanceFromHome  EmpEducationLevel  \\\n",
       "count  1200.000000       1200.000000         1200.00000   \n",
       "mean     36.918333          9.165833            2.89250   \n",
       "std       9.087289          8.176636            1.04412   \n",
       "min      18.000000          1.000000            1.00000   \n",
       "25%      30.000000          2.000000            2.00000   \n",
       "50%      36.000000          7.000000            3.00000   \n",
       "75%      43.000000         14.000000            4.00000   \n",
       "max      60.000000         29.000000            5.00000   \n",
       "\n",
       "       EmpEnvironmentSatisfaction  EmpHourlyRate  EmpJobInvolvement  \\\n",
       "count                 1200.000000    1200.000000        1200.000000   \n",
       "mean                     2.715833      65.981667           2.731667   \n",
       "std                      1.090599      20.211302           0.707164   \n",
       "min                      1.000000      30.000000           1.000000   \n",
       "25%                      2.000000      48.000000           2.000000   \n",
       "50%                      3.000000      66.000000           3.000000   \n",
       "75%                      4.000000      83.000000           3.000000   \n",
       "max                      4.000000     100.000000           4.000000   \n",
       "\n",
       "       EmpJobLevel  EmpJobSatisfaction  NumCompaniesWorked  \\\n",
       "count  1200.000000         1200.000000         1200.000000   \n",
       "mean      2.067500            2.732500            2.665000   \n",
       "std       1.107836            1.100888            2.469384   \n",
       "min       1.000000            1.000000            0.000000   \n",
       "25%       1.000000            2.000000            1.000000   \n",
       "50%       2.000000            3.000000            2.000000   \n",
       "75%       3.000000            4.000000            4.000000   \n",
       "max       5.000000            4.000000            9.000000   \n",
       "\n",
       "       EmpLastSalaryHikePercent  EmpRelationshipSatisfaction  \\\n",
       "count               1200.000000                  1200.000000   \n",
       "mean                  15.222500                     2.725000   \n",
       "std                    3.625918                     1.075642   \n",
       "min                   11.000000                     1.000000   \n",
       "25%                   12.000000                     2.000000   \n",
       "50%                   14.000000                     3.000000   \n",
       "75%                   18.000000                     4.000000   \n",
       "max                   25.000000                     4.000000   \n",
       "\n",
       "       TotalWorkExperienceInYears  TrainingTimesLastYear  EmpWorkLifeBalance  \\\n",
       "count                 1200.000000            1200.000000         1200.000000   \n",
       "mean                    11.330000               2.785833            2.744167   \n",
       "std                      7.797228               1.263446            0.699374   \n",
       "min                      0.000000               0.000000            1.000000   \n",
       "25%                      6.000000               2.000000            2.000000   \n",
       "50%                     10.000000               3.000000            3.000000   \n",
       "75%                     15.000000               3.000000            3.000000   \n",
       "max                     40.000000               6.000000            4.000000   \n",
       "\n",
       "       ExperienceYearsAtThisCompany  ExperienceYearsInCurrentRole  \\\n",
       "count                   1200.000000                   1200.000000   \n",
       "mean                       7.077500                      4.291667   \n",
       "std                        6.236899                      3.613744   \n",
       "min                        0.000000                      0.000000   \n",
       "25%                        3.000000                      2.000000   \n",
       "50%                        5.000000                      3.000000   \n",
       "75%                       10.000000                      7.000000   \n",
       "max                       40.000000                     18.000000   \n",
       "\n",
       "       YearsSinceLastPromotion  YearsWithCurrManager  PerformanceRating  \n",
       "count              1200.000000           1200.000000        1200.000000  \n",
       "mean                  2.194167              4.105000           2.948333  \n",
       "std                   3.221560              3.541576           0.518866  \n",
       "min                   0.000000              0.000000           2.000000  \n",
       "25%                   0.000000              2.000000           3.000000  \n",
       "50%                   1.000000              3.000000           3.000000  \n",
       "75%                   3.000000              7.000000           3.000000  \n",
       "max                  15.000000             17.000000           4.000000  "
      ]
     },
     "execution_count": 9,
     "metadata": {},
     "output_type": "execute_result"
    }
   ],
   "source": [
    "df.describe() # To know the max , min, std of values"
   ]
  },
  {
   "cell_type": "markdown",
   "metadata": {},
   "source": [
    "### Checking if there any Nan and Null value present in the dataset "
   ]
  },
  {
   "cell_type": "code",
   "execution_count": 10,
   "metadata": {},
   "outputs": [
    {
     "data": {
      "text/plain": [
       "False"
      ]
     },
     "execution_count": 10,
     "metadata": {},
     "output_type": "execute_result"
    }
   ],
   "source": [
    "df.isna().values.any()"
   ]
  },
  {
   "cell_type": "code",
   "execution_count": 11,
   "metadata": {},
   "outputs": [
    {
     "data": {
      "text/plain": [
       "False"
      ]
     },
     "execution_count": 11,
     "metadata": {},
     "output_type": "execute_result"
    }
   ],
   "source": [
    "df.isnull().values.any()"
   ]
  },
  {
   "cell_type": "markdown",
   "metadata": {},
   "source": [
    "#### There is no Nan and Null values present in the dataset "
   ]
  },
  {
   "cell_type": "markdown",
   "metadata": {},
   "source": [
    "## Data Exploratory Analysis & Visualization"
   ]
  },
  {
   "cell_type": "markdown",
   "metadata": {},
   "source": [
    "#### Ingenral, one of the few steps to exploring the data would be have to a rough idea of how the features are distributed one each other. To do so, we shall invoke the familiar kdeplot function from the Seaborn plotting library. The distribution has been done by both numerical and categorical features."
   ]
  },
  {
   "cell_type": "code",
   "execution_count": 12,
   "metadata": {},
   "outputs": [
    {
     "name": "stdout",
     "output_type": "stream",
     "text": [
      "Gender : ['Male' 'Female']\n",
      "Male      725\n",
      "Female    475\n",
      "Name: Gender, dtype: int64\n",
      "---------------------------------------------------------\n",
      "EducationBackground : ['Marketing' 'Life Sciences' 'Human Resources' 'Medical' 'Other'\n",
      " 'Technical Degree']\n",
      "Life Sciences       492\n",
      "Medical             384\n",
      "Marketing           137\n",
      "Technical Degree    100\n",
      "Other                66\n",
      "Human Resources      21\n",
      "Name: EducationBackground, dtype: int64\n",
      "---------------------------------------------------------\n",
      "MaritalStatus : ['Single' 'Married' 'Divorced']\n",
      "Married     548\n",
      "Single      384\n",
      "Divorced    268\n",
      "Name: MaritalStatus, dtype: int64\n",
      "---------------------------------------------------------\n",
      "EmpDepartment : ['Sales' 'Human Resources' 'Development' 'Data Science'\n",
      " 'Research & Development' 'Finance']\n",
      "Sales                     373\n",
      "Development               361\n",
      "Research & Development    343\n",
      "Human Resources            54\n",
      "Finance                    49\n",
      "Data Science               20\n",
      "Name: EmpDepartment, dtype: int64\n",
      "---------------------------------------------------------\n",
      "EmpJobRole : ['Sales Executive' 'Manager' 'Developer' 'Sales Representative'\n",
      " 'Human Resources' 'Senior Developer' 'Data Scientist'\n",
      " 'Senior Manager R&D' 'Laboratory Technician' 'Manufacturing Director'\n",
      " 'Research Scientist' 'Healthcare Representative' 'Research Director'\n",
      " 'Manager R&D' 'Finance Manager' 'Technical Architect' 'Business Analyst'\n",
      " 'Technical Lead' 'Delivery Manager']\n",
      "Sales Executive              270\n",
      "Developer                    236\n",
      "Manager R&D                   94\n",
      "Research Scientist            77\n",
      "Sales Representative          69\n",
      "Laboratory Technician         64\n",
      "Senior Developer              52\n",
      "Manager                       51\n",
      "Finance Manager               49\n",
      "Human Resources               45\n",
      "Technical Lead                38\n",
      "Manufacturing Director        33\n",
      "Healthcare Representative     33\n",
      "Data Scientist                20\n",
      "Research Director             19\n",
      "Business Analyst              16\n",
      "Senior Manager R&D            15\n",
      "Delivery Manager              12\n",
      "Technical Architect            7\n",
      "Name: EmpJobRole, dtype: int64\n",
      "---------------------------------------------------------\n",
      "BusinessTravelFrequency : ['Travel_Rarely' 'Travel_Frequently' 'Non-Travel']\n",
      "Travel_Rarely        846\n",
      "Travel_Frequently    222\n",
      "Non-Travel           132\n",
      "Name: BusinessTravelFrequency, dtype: int64\n",
      "---------------------------------------------------------\n",
      "OverTime : ['No' 'Yes']\n",
      "No     847\n",
      "Yes    353\n",
      "Name: OverTime, dtype: int64\n",
      "---------------------------------------------------------\n",
      "Attrition : ['No' 'Yes']\n",
      "No     1022\n",
      "Yes     178\n",
      "Name: Attrition, dtype: int64\n",
      "---------------------------------------------------------\n"
     ]
    }
   ],
   "source": [
    "# print all the data types and their unique values \n",
    "for column in df.columns:\n",
    "    if df[column].dtypes == object:\n",
    "        print(str(column)+' : '+ str(df[column].unique()))\n",
    "        print(df[column].value_counts())\n",
    "        print('---------------------------------------------------------')"
   ]
  },
  {
   "cell_type": "code",
   "execution_count": 13,
   "metadata": {},
   "outputs": [
    {
     "data": {
      "text/plain": [
       "array([3, 4, 2], dtype=int64)"
      ]
     },
     "execution_count": 13,
     "metadata": {},
     "output_type": "execute_result"
    }
   ],
   "source": [
    "df['PerformanceRating'].unique()"
   ]
  },
  {
   "cell_type": "code",
   "execution_count": 14,
   "metadata": {},
   "outputs": [
    {
     "data": {
      "text/plain": [
       "3    0.728333\n",
       "2    0.161667\n",
       "4    0.110000\n",
       "Name: PerformanceRating, dtype: float64"
      ]
     },
     "execution_count": 14,
     "metadata": {},
     "output_type": "execute_result"
    }
   ],
   "source": [
    "df['PerformanceRating'].value_counts(normalize=True)"
   ]
  },
  {
   "cell_type": "code",
   "execution_count": 15,
   "metadata": {},
   "outputs": [
    {
     "data": {
      "text/plain": [
       "<AxesSubplot:>"
      ]
     },
     "execution_count": 15,
     "metadata": {},
     "output_type": "execute_result"
    },
    {
     "data": {
      "image/png": "[encoded data removed]",
      "text/plain": [
       "<Figure size 432x288 with 1 Axes>"
      ]
     },
     "metadata": {
      "needs_background": "light"
     },
     "output_type": "display_data"
    }
   ],
   "source": [
    "y=df['PerformanceRating'].value_counts()\n",
    "sns.barplot(y.index,y.values)"
   ]
  },
  {
   "cell_type": "markdown",
   "metadata": {},
   "source": [
    "## Correaltion of Features"
   ]
  },
  {
   "cell_type": "code",
   "execution_count": 16,
   "metadata": {},
   "outputs": [
    {
     "data": {
      "text/html": [
       "<div>\n",
       "<style scoped>\n",
       "    .dataframe tbody tr th:only-of-type {\n",
       "        vertical-align: middle;\n",
       "    }\n",
       "\n",
       "    .dataframe tbody tr th {\n",
       "        vertical-align: top;\n",
       "    }\n",
       "\n",
       "    .dataframe thead th {\n",
       "        text-align: right;\n",
       "    }\n",
       "</style>\n",
       "<table border=\"1\" class=\"dataframe\">\n",
       "  <thead>\n",
       "    <tr style=\"text-align: right;\">\n",
       "      <th></th>\n",
       "      <th>Age</th>\n",
       "      <th>DistanceFromHome</th>\n",
       "      <th>EmpEducationLevel</th>\n",
       "      <th>EmpEnvironmentSatisfaction</th>\n",
       "      <th>EmpHourlyRate</th>\n",
       "      <th>EmpJobInvolvement</th>\n",
       "      <th>EmpJobLevel</th>\n",
       "      <th>EmpJobSatisfaction</th>\n",
       "      <th>NumCompaniesWorked</th>\n",
       "      <th>EmpLastSalaryHikePercent</th>\n",
       "      <th>EmpRelationshipSatisfaction</th>\n",
       "      <th>TotalWorkExperienceInYears</th>\n",
       "      <th>TrainingTimesLastYear</th>\n",
       "      <th>EmpWorkLifeBalance</th>\n",
       "      <th>ExperienceYearsAtThisCompany</th>\n",
       "      <th>ExperienceYearsInCurrentRole</th>\n",
       "      <th>YearsSinceLastPromotion</th>\n",
       "      <th>YearsWithCurrManager</th>\n",
       "      <th>PerformanceRating</th>\n",
       "    </tr>\n",
       "  </thead>\n",
       "  <tbody>\n",
       "    <tr>\n",
       "      <th>Age</th>\n",
       "      <td>1.000000</td>\n",
       "      <td>0.020937</td>\n",
       "      <td>0.207313</td>\n",
       "      <td>0.013814</td>\n",
       "      <td>0.062867</td>\n",
       "      <td>0.027216</td>\n",
       "      <td>0.509139</td>\n",
       "      <td>-0.002436</td>\n",
       "      <td>0.284408</td>\n",
       "      <td>-0.006105</td>\n",
       "      <td>0.049749</td>\n",
       "      <td>0.680886</td>\n",
       "      <td>-0.016053</td>\n",
       "      <td>-0.019563</td>\n",
       "      <td>0.318852</td>\n",
       "      <td>0.217163</td>\n",
       "      <td>0.228199</td>\n",
       "      <td>0.205098</td>\n",
       "      <td>-0.040164</td>\n",
       "    </tr>\n",
       "    <tr>\n",
       "      <th>DistanceFromHome</th>\n",
       "      <td>0.020937</td>\n",
       "      <td>1.000000</td>\n",
       "      <td>0.045856</td>\n",
       "      <td>-0.017719</td>\n",
       "      <td>0.013730</td>\n",
       "      <td>0.003231</td>\n",
       "      <td>0.017270</td>\n",
       "      <td>-0.003036</td>\n",
       "      <td>-0.021411</td>\n",
       "      <td>0.044974</td>\n",
       "      <td>-0.009509</td>\n",
       "      <td>0.027306</td>\n",
       "      <td>-0.032082</td>\n",
       "      <td>-0.044788</td>\n",
       "      <td>0.021908</td>\n",
       "      <td>0.019898</td>\n",
       "      <td>0.013246</td>\n",
       "      <td>0.017860</td>\n",
       "      <td>-0.046142</td>\n",
       "    </tr>\n",
       "    <tr>\n",
       "      <th>EmpEducationLevel</th>\n",
       "      <td>0.207313</td>\n",
       "      <td>0.045856</td>\n",
       "      <td>1.000000</td>\n",
       "      <td>-0.037103</td>\n",
       "      <td>0.014095</td>\n",
       "      <td>0.027544</td>\n",
       "      <td>0.100734</td>\n",
       "      <td>0.000357</td>\n",
       "      <td>0.128674</td>\n",
       "      <td>0.002358</td>\n",
       "      <td>-0.016690</td>\n",
       "      <td>0.151062</td>\n",
       "      <td>-0.013674</td>\n",
       "      <td>0.010276</td>\n",
       "      <td>0.076332</td>\n",
       "      <td>0.066672</td>\n",
       "      <td>0.054313</td>\n",
       "      <td>0.088988</td>\n",
       "      <td>0.020529</td>\n",
       "    </tr>\n",
       "    <tr>\n",
       "      <th>EmpEnvironmentSatisfaction</th>\n",
       "      <td>0.013814</td>\n",
       "      <td>-0.017719</td>\n",
       "      <td>-0.037103</td>\n",
       "      <td>1.000000</td>\n",
       "      <td>-0.049501</td>\n",
       "      <td>0.004865</td>\n",
       "      <td>-0.008272</td>\n",
       "      <td>-0.004319</td>\n",
       "      <td>0.017270</td>\n",
       "      <td>-0.047271</td>\n",
       "      <td>-0.010504</td>\n",
       "      <td>-0.012894</td>\n",
       "      <td>0.001192</td>\n",
       "      <td>-0.000262</td>\n",
       "      <td>-0.000561</td>\n",
       "      <td>0.025491</td>\n",
       "      <td>0.010732</td>\n",
       "      <td>-0.011702</td>\n",
       "      <td>0.395561</td>\n",
       "    </tr>\n",
       "    <tr>\n",
       "      <th>EmpHourlyRate</th>\n",
       "      <td>0.062867</td>\n",
       "      <td>0.013730</td>\n",
       "      <td>0.014095</td>\n",
       "      <td>-0.049501</td>\n",
       "      <td>1.000000</td>\n",
       "      <td>0.054741</td>\n",
       "      <td>-0.018606</td>\n",
       "      <td>-0.066417</td>\n",
       "      <td>0.040484</td>\n",
       "      <td>-0.015934</td>\n",
       "      <td>0.008783</td>\n",
       "      <td>0.026034</td>\n",
       "      <td>-0.024160</td>\n",
       "      <td>0.016189</td>\n",
       "      <td>-0.000399</td>\n",
       "      <td>-0.011871</td>\n",
       "      <td>-0.010000</td>\n",
       "      <td>-0.004576</td>\n",
       "      <td>-0.043116</td>\n",
       "    </tr>\n",
       "    <tr>\n",
       "      <th>EmpJobInvolvement</th>\n",
       "      <td>0.027216</td>\n",
       "      <td>0.003231</td>\n",
       "      <td>0.027544</td>\n",
       "      <td>0.004865</td>\n",
       "      <td>0.054741</td>\n",
       "      <td>1.000000</td>\n",
       "      <td>-0.034349</td>\n",
       "      <td>-0.005501</td>\n",
       "      <td>0.018211</td>\n",
       "      <td>-0.001742</td>\n",
       "      <td>0.018037</td>\n",
       "      <td>-0.028851</td>\n",
       "      <td>-0.025168</td>\n",
       "      <td>-0.014129</td>\n",
       "      <td>-0.039720</td>\n",
       "      <td>0.002910</td>\n",
       "      <td>-0.019944</td>\n",
       "      <td>0.012924</td>\n",
       "      <td>-0.010539</td>\n",
       "    </tr>\n",
       "    <tr>\n",
       "      <th>EmpJobLevel</th>\n",
       "      <td>0.509139</td>\n",
       "      <td>0.017270</td>\n",
       "      <td>0.100734</td>\n",
       "      <td>-0.008272</td>\n",
       "      <td>-0.018606</td>\n",
       "      <td>-0.034349</td>\n",
       "      <td>1.000000</td>\n",
       "      <td>-0.011853</td>\n",
       "      <td>0.127477</td>\n",
       "      <td>-0.020975</td>\n",
       "      <td>0.002992</td>\n",
       "      <td>0.784229</td>\n",
       "      <td>-0.000389</td>\n",
       "      <td>0.049218</td>\n",
       "      <td>0.540377</td>\n",
       "      <td>0.399235</td>\n",
       "      <td>0.360880</td>\n",
       "      <td>0.374872</td>\n",
       "      <td>-0.076632</td>\n",
       "    </tr>\n",
       "    <tr>\n",
       "      <th>EmpJobSatisfaction</th>\n",
       "      <td>-0.002436</td>\n",
       "      <td>-0.003036</td>\n",
       "      <td>0.000357</td>\n",
       "      <td>-0.004319</td>\n",
       "      <td>-0.066417</td>\n",
       "      <td>-0.005501</td>\n",
       "      <td>-0.011853</td>\n",
       "      <td>1.000000</td>\n",
       "      <td>-0.049865</td>\n",
       "      <td>0.031847</td>\n",
       "      <td>-0.022028</td>\n",
       "      <td>-0.026824</td>\n",
       "      <td>-0.028031</td>\n",
       "      <td>-0.018548</td>\n",
       "      <td>0.001807</td>\n",
       "      <td>0.002018</td>\n",
       "      <td>-0.006508</td>\n",
       "      <td>-0.022096</td>\n",
       "      <td>0.000606</td>\n",
       "    </tr>\n",
       "    <tr>\n",
       "      <th>NumCompaniesWorked</th>\n",
       "      <td>0.284408</td>\n",
       "      <td>-0.021411</td>\n",
       "      <td>0.128674</td>\n",
       "      <td>0.017270</td>\n",
       "      <td>0.040484</td>\n",
       "      <td>0.018211</td>\n",
       "      <td>0.127477</td>\n",
       "      <td>-0.049865</td>\n",
       "      <td>1.000000</td>\n",
       "      <td>-0.011788</td>\n",
       "      <td>0.057917</td>\n",
       "      <td>0.221505</td>\n",
       "      <td>-0.050817</td>\n",
       "      <td>0.002489</td>\n",
       "      <td>-0.129797</td>\n",
       "      <td>-0.097271</td>\n",
       "      <td>-0.031656</td>\n",
       "      <td>-0.109937</td>\n",
       "      <td>0.020980</td>\n",
       "    </tr>\n",
       "    <tr>\n",
       "      <th>EmpLastSalaryHikePercent</th>\n",
       "      <td>-0.006105</td>\n",
       "      <td>0.044974</td>\n",
       "      <td>0.002358</td>\n",
       "      <td>-0.047271</td>\n",
       "      <td>-0.015934</td>\n",
       "      <td>-0.001742</td>\n",
       "      <td>-0.020975</td>\n",
       "      <td>0.031847</td>\n",
       "      <td>-0.011788</td>\n",
       "      <td>1.000000</td>\n",
       "      <td>-0.042892</td>\n",
       "      <td>-0.005933</td>\n",
       "      <td>-0.013439</td>\n",
       "      <td>-0.017001</td>\n",
       "      <td>-0.019830</td>\n",
       "      <td>-0.004957</td>\n",
       "      <td>-0.015911</td>\n",
       "      <td>-0.007666</td>\n",
       "      <td>0.333722</td>\n",
       "    </tr>\n",
       "    <tr>\n",
       "      <th>EmpRelationshipSatisfaction</th>\n",
       "      <td>0.049749</td>\n",
       "      <td>-0.009509</td>\n",
       "      <td>-0.016690</td>\n",
       "      <td>-0.010504</td>\n",
       "      <td>0.008783</td>\n",
       "      <td>0.018037</td>\n",
       "      <td>0.002992</td>\n",
       "      <td>-0.022028</td>\n",
       "      <td>0.057917</td>\n",
       "      <td>-0.042892</td>\n",
       "      <td>1.000000</td>\n",
       "      <td>0.018089</td>\n",
       "      <td>0.025975</td>\n",
       "      <td>-0.004906</td>\n",
       "      <td>0.015612</td>\n",
       "      <td>-0.032131</td>\n",
       "      <td>0.026253</td>\n",
       "      <td>-0.006426</td>\n",
       "      <td>-0.019502</td>\n",
       "    </tr>\n",
       "    <tr>\n",
       "      <th>TotalWorkExperienceInYears</th>\n",
       "      <td>0.680886</td>\n",
       "      <td>0.027306</td>\n",
       "      <td>0.151062</td>\n",
       "      <td>-0.012894</td>\n",
       "      <td>0.026034</td>\n",
       "      <td>-0.028851</td>\n",
       "      <td>0.784229</td>\n",
       "      <td>-0.026824</td>\n",
       "      <td>0.221505</td>\n",
       "      <td>-0.005933</td>\n",
       "      <td>0.018089</td>\n",
       "      <td>1.000000</td>\n",
       "      <td>-0.022113</td>\n",
       "      <td>0.015495</td>\n",
       "      <td>0.633555</td>\n",
       "      <td>0.460700</td>\n",
       "      <td>0.412781</td>\n",
       "      <td>0.460783</td>\n",
       "      <td>-0.068141</td>\n",
       "    </tr>\n",
       "    <tr>\n",
       "      <th>TrainingTimesLastYear</th>\n",
       "      <td>-0.016053</td>\n",
       "      <td>-0.032082</td>\n",
       "      <td>-0.013674</td>\n",
       "      <td>0.001192</td>\n",
       "      <td>-0.024160</td>\n",
       "      <td>-0.025168</td>\n",
       "      <td>-0.000389</td>\n",
       "      <td>-0.028031</td>\n",
       "      <td>-0.050817</td>\n",
       "      <td>-0.013439</td>\n",
       "      <td>0.025975</td>\n",
       "      <td>-0.022113</td>\n",
       "      <td>1.000000</td>\n",
       "      <td>0.037048</td>\n",
       "      <td>0.008564</td>\n",
       "      <td>0.010222</td>\n",
       "      <td>0.018831</td>\n",
       "      <td>-0.013237</td>\n",
       "      <td>-0.005443</td>\n",
       "    </tr>\n",
       "    <tr>\n",
       "      <th>EmpWorkLifeBalance</th>\n",
       "      <td>-0.019563</td>\n",
       "      <td>-0.044788</td>\n",
       "      <td>0.010276</td>\n",
       "      <td>-0.000262</td>\n",
       "      <td>0.016189</td>\n",
       "      <td>-0.014129</td>\n",
       "      <td>0.049218</td>\n",
       "      <td>-0.018548</td>\n",
       "      <td>0.002489</td>\n",
       "      <td>-0.017001</td>\n",
       "      <td>-0.004906</td>\n",
       "      <td>0.015495</td>\n",
       "      <td>0.037048</td>\n",
       "      <td>1.000000</td>\n",
       "      <td>0.023479</td>\n",
       "      <td>0.045719</td>\n",
       "      <td>0.015773</td>\n",
       "      <td>0.010518</td>\n",
       "      <td>0.124429</td>\n",
       "    </tr>\n",
       "    <tr>\n",
       "      <th>ExperienceYearsAtThisCompany</th>\n",
       "      <td>0.318852</td>\n",
       "      <td>0.021908</td>\n",
       "      <td>0.076332</td>\n",
       "      <td>-0.000561</td>\n",
       "      <td>-0.000399</td>\n",
       "      <td>-0.039720</td>\n",
       "      <td>0.540377</td>\n",
       "      <td>0.001807</td>\n",
       "      <td>-0.129797</td>\n",
       "      <td>-0.019830</td>\n",
       "      <td>0.015612</td>\n",
       "      <td>0.633555</td>\n",
       "      <td>0.008564</td>\n",
       "      <td>0.023479</td>\n",
       "      <td>1.000000</td>\n",
       "      <td>0.764102</td>\n",
       "      <td>0.620230</td>\n",
       "      <td>0.759258</td>\n",
       "      <td>-0.111645</td>\n",
       "    </tr>\n",
       "    <tr>\n",
       "      <th>ExperienceYearsInCurrentRole</th>\n",
       "      <td>0.217163</td>\n",
       "      <td>0.019898</td>\n",
       "      <td>0.066672</td>\n",
       "      <td>0.025491</td>\n",
       "      <td>-0.011871</td>\n",
       "      <td>0.002910</td>\n",
       "      <td>0.399235</td>\n",
       "      <td>0.002018</td>\n",
       "      <td>-0.097271</td>\n",
       "      <td>-0.004957</td>\n",
       "      <td>-0.032131</td>\n",
       "      <td>0.460700</td>\n",
       "      <td>0.010222</td>\n",
       "      <td>0.045719</td>\n",
       "      <td>0.764102</td>\n",
       "      <td>1.000000</td>\n",
       "      <td>0.540600</td>\n",
       "      <td>0.728973</td>\n",
       "      <td>-0.147638</td>\n",
       "    </tr>\n",
       "    <tr>\n",
       "      <th>YearsSinceLastPromotion</th>\n",
       "      <td>0.228199</td>\n",
       "      <td>0.013246</td>\n",
       "      <td>0.054313</td>\n",
       "      <td>0.010732</td>\n",
       "      <td>-0.010000</td>\n",
       "      <td>-0.019944</td>\n",
       "      <td>0.360880</td>\n",
       "      <td>-0.006508</td>\n",
       "      <td>-0.031656</td>\n",
       "      <td>-0.015911</td>\n",
       "      <td>0.026253</td>\n",
       "      <td>0.412781</td>\n",
       "      <td>0.018831</td>\n",
       "      <td>0.015773</td>\n",
       "      <td>0.620230</td>\n",
       "      <td>0.540600</td>\n",
       "      <td>1.000000</td>\n",
       "      <td>0.491199</td>\n",
       "      <td>-0.167629</td>\n",
       "    </tr>\n",
       "    <tr>\n",
       "      <th>YearsWithCurrManager</th>\n",
       "      <td>0.205098</td>\n",
       "      <td>0.017860</td>\n",
       "      <td>0.088988</td>\n",
       "      <td>-0.011702</td>\n",
       "      <td>-0.004576</td>\n",
       "      <td>0.012924</td>\n",
       "      <td>0.374872</td>\n",
       "      <td>-0.022096</td>\n",
       "      <td>-0.109937</td>\n",
       "      <td>-0.007666</td>\n",
       "      <td>-0.006426</td>\n",
       "      <td>0.460783</td>\n",
       "      <td>-0.013237</td>\n",
       "      <td>0.010518</td>\n",
       "      <td>0.759258</td>\n",
       "      <td>0.728973</td>\n",
       "      <td>0.491199</td>\n",
       "      <td>1.000000</td>\n",
       "      <td>-0.122313</td>\n",
       "    </tr>\n",
       "    <tr>\n",
       "      <th>PerformanceRating</th>\n",
       "      <td>-0.040164</td>\n",
       "      <td>-0.046142</td>\n",
       "      <td>0.020529</td>\n",
       "      <td>0.395561</td>\n",
       "      <td>-0.043116</td>\n",
       "      <td>-0.010539</td>\n",
       "      <td>-0.076632</td>\n",
       "      <td>0.000606</td>\n",
       "      <td>0.020980</td>\n",
       "      <td>0.333722</td>\n",
       "      <td>-0.019502</td>\n",
       "      <td>-0.068141</td>\n",
       "      <td>-0.005443</td>\n",
       "      <td>0.124429</td>\n",
       "      <td>-0.111645</td>\n",
       "      <td>-0.147638</td>\n",
       "      <td>-0.167629</td>\n",
       "      <td>-0.122313</td>\n",
       "      <td>1.000000</td>\n",
       "    </tr>\n",
       "  </tbody>\n",
       "</table>\n",
       "</div>"
      ],
      "text/plain": [
       "                                   Age  DistanceFromHome  EmpEducationLevel  \\\n",
       "Age                           1.000000          0.020937           0.207313   \n",
       "DistanceFromHome              0.020937          1.000000           0.045856   \n",
       "EmpEducationLevel             0.207313          0.045856           1.000000   \n",
       "EmpEnvironmentSatisfaction    0.013814         -0.017719          -0.037103   \n",
       "EmpHourlyRate                 0.062867          0.013730           0.014095   \n",
       "EmpJobInvolvement             0.027216          0.003231           0.027544   \n",
       "EmpJobLevel                   0.509139          0.017270           0.100734   \n",
       "EmpJobSatisfaction           -0.002436         -0.003036           0.000357   \n",
       "NumCompaniesWorked            0.284408         -0.021411           0.128674   \n",
       "EmpLastSalaryHikePercent     -0.006105          0.044974           0.002358   \n",
       "EmpRelationshipSatisfaction   0.049749         -0.009509          -0.016690   \n",
       "TotalWorkExperienceInYears    0.680886          0.027306           0.151062   \n",
       "TrainingTimesLastYear        -0.016053         -0.032082          -0.013674   \n",
       "EmpWorkLifeBalance           -0.019563         -0.044788           0.010276   \n",
       "ExperienceYearsAtThisCompany  0.318852          0.021908           0.076332   \n",
       "ExperienceYearsInCurrentRole  0.217163          0.019898           0.066672   \n",
       "YearsSinceLastPromotion       0.228199          0.013246           0.054313   \n",
       "YearsWithCurrManager          0.205098          0.017860           0.088988   \n",
       "PerformanceRating            -0.040164         -0.046142           0.020529   \n",
       "\n",
       "                              EmpEnvironmentSatisfaction  EmpHourlyRate  \\\n",
       "Age                                             0.013814       0.062867   \n",
       "DistanceFromHome                               -0.017719       0.013730   \n",
       "EmpEducationLevel                              -0.037103       0.014095   \n",
       "EmpEnvironmentSatisfaction                      1.000000      -0.049501   \n",
       "EmpHourlyRate                                  -0.049501       1.000000   \n",
       "EmpJobInvolvement                               0.004865       0.054741   \n",
       "EmpJobLevel                                    -0.008272      -0.018606   \n",
       "EmpJobSatisfaction                             -0.004319      -0.066417   \n",
       "NumCompaniesWorked                              0.017270       0.040484   \n",
       "EmpLastSalaryHikePercent                       -0.047271      -0.015934   \n",
       "EmpRelationshipSatisfaction                    -0.010504       0.008783   \n",
       "TotalWorkExperienceInYears                     -0.012894       0.026034   \n",
       "TrainingTimesLastYear                           0.001192      -0.024160   \n",
       "EmpWorkLifeBalance                             -0.000262       0.016189   \n",
       "ExperienceYearsAtThisCompany                   -0.000561      -0.000399   \n",
       "ExperienceYearsInCurrentRole                    0.025491      -0.011871   \n",
       "YearsSinceLastPromotion                         0.010732      -0.010000   \n",
       "YearsWithCurrManager                           -0.011702      -0.004576   \n",
       "PerformanceRating                               0.395561      -0.043116   \n",
       "\n",
       "                              EmpJobInvolvement  EmpJobLevel  \\\n",
       "Age                                    0.027216     0.509139   \n",
       "DistanceFromHome                       0.003231     0.017270   \n",
       "EmpEducationLevel                      0.027544     0.100734   \n",
       "EmpEnvironmentSatisfaction             0.004865    -0.008272   \n",
       "EmpHourlyRate                          0.054741    -0.018606   \n",
       "EmpJobInvolvement                      1.000000    -0.034349   \n",
       "EmpJobLevel                           -0.034349     1.000000   \n",
       "EmpJobSatisfaction                    -0.005501    -0.011853   \n",
       "NumCompaniesWorked                     0.018211     0.127477   \n",
       "EmpLastSalaryHikePercent              -0.001742    -0.020975   \n",
       "EmpRelationshipSatisfaction            0.018037     0.002992   \n",
       "TotalWorkExperienceInYears            -0.028851     0.784229   \n",
       "TrainingTimesLastYear                 -0.025168    -0.000389   \n",
       "EmpWorkLifeBalance                    -0.014129     0.049218   \n",
       "ExperienceYearsAtThisCompany          -0.039720     0.540377   \n",
       "ExperienceYearsInCurrentRole           0.002910     0.399235   \n",
       "YearsSinceLastPromotion               -0.019944     0.360880   \n",
       "YearsWithCurrManager                   0.012924     0.374872   \n",
       "PerformanceRating                     -0.010539    -0.076632   \n",
       "\n",
       "                              EmpJobSatisfaction  NumCompaniesWorked  \\\n",
       "Age                                    -0.002436            0.284408   \n",
       "DistanceFromHome                       -0.003036           -0.021411   \n",
       "EmpEducationLevel                       0.000357            0.128674   \n",
       "EmpEnvironmentSatisfaction             -0.004319            0.017270   \n",
       "EmpHourlyRate                          -0.066417            0.040484   \n",
       "EmpJobInvolvement                      -0.005501            0.018211   \n",
       "EmpJobLevel                            -0.011853            0.127477   \n",
       "EmpJobSatisfaction                      1.000000           -0.049865   \n",
       "NumCompaniesWorked                     -0.049865            1.000000   \n",
       "EmpLastSalaryHikePercent                0.031847           -0.011788   \n",
       "EmpRelationshipSatisfaction            -0.022028            0.057917   \n",
       "TotalWorkExperienceInYears             -0.026824            0.221505   \n",
       "TrainingTimesLastYear                  -0.028031           -0.050817   \n",
       "EmpWorkLifeBalance                     -0.018548            0.002489   \n",
       "ExperienceYearsAtThisCompany            0.001807           -0.129797   \n",
       "ExperienceYearsInCurrentRole            0.002018           -0.097271   \n",
       "YearsSinceLastPromotion                -0.006508           -0.031656   \n",
       "YearsWithCurrManager                   -0.022096           -0.109937   \n",
       "PerformanceRating                       0.000606            0.020980   \n",
       "\n",
       "                              EmpLastSalaryHikePercent  \\\n",
       "Age                                          -0.006105   \n",
       "DistanceFromHome                              0.044974   \n",
       "EmpEducationLevel                             0.002358   \n",
       "EmpEnvironmentSatisfaction                   -0.047271   \n",
       "EmpHourlyRate                                -0.015934   \n",
       "EmpJobInvolvement                            -0.001742   \n",
       "EmpJobLevel                                  -0.020975   \n",
       "EmpJobSatisfaction                            0.031847   \n",
       "NumCompaniesWorked                           -0.011788   \n",
       "EmpLastSalaryHikePercent                      1.000000   \n",
       "EmpRelationshipSatisfaction                  -0.042892   \n",
       "TotalWorkExperienceInYears                   -0.005933   \n",
       "TrainingTimesLastYear                        -0.013439   \n",
       "EmpWorkLifeBalance                           -0.017001   \n",
       "ExperienceYearsAtThisCompany                 -0.019830   \n",
       "ExperienceYearsInCurrentRole                 -0.004957   \n",
       "YearsSinceLastPromotion                      -0.015911   \n",
       "YearsWithCurrManager                         -0.007666   \n",
       "PerformanceRating                             0.333722   \n",
       "\n",
       "                              EmpRelationshipSatisfaction  \\\n",
       "Age                                              0.049749   \n",
       "DistanceFromHome                                -0.009509   \n",
       "EmpEducationLevel                               -0.016690   \n",
       "EmpEnvironmentSatisfaction                      -0.010504   \n",
       "EmpHourlyRate                                    0.008783   \n",
       "EmpJobInvolvement                                0.018037   \n",
       "EmpJobLevel                                      0.002992   \n",
       "EmpJobSatisfaction                              -0.022028   \n",
       "NumCompaniesWorked                               0.057917   \n",
       "EmpLastSalaryHikePercent                        -0.042892   \n",
       "EmpRelationshipSatisfaction                      1.000000   \n",
       "TotalWorkExperienceInYears                       0.018089   \n",
       "TrainingTimesLastYear                            0.025975   \n",
       "EmpWorkLifeBalance                              -0.004906   \n",
       "ExperienceYearsAtThisCompany                     0.015612   \n",
       "ExperienceYearsInCurrentRole                    -0.032131   \n",
       "YearsSinceLastPromotion                          0.026253   \n",
       "YearsWithCurrManager                            -0.006426   \n",
       "PerformanceRating                               -0.019502   \n",
       "\n",
       "                              TotalWorkExperienceInYears  \\\n",
       "Age                                             0.680886   \n",
       "DistanceFromHome                                0.027306   \n",
       "EmpEducationLevel                               0.151062   \n",
       "EmpEnvironmentSatisfaction                     -0.012894   \n",
       "EmpHourlyRate                                   0.026034   \n",
       "EmpJobInvolvement                              -0.028851   \n",
       "EmpJobLevel                                     0.784229   \n",
       "EmpJobSatisfaction                             -0.026824   \n",
       "NumCompaniesWorked                              0.221505   \n",
       "EmpLastSalaryHikePercent                       -0.005933   \n",
       "EmpRelationshipSatisfaction                     0.018089   \n",
       "TotalWorkExperienceInYears                      1.000000   \n",
       "TrainingTimesLastYear                          -0.022113   \n",
       "EmpWorkLifeBalance                              0.015495   \n",
       "ExperienceYearsAtThisCompany                    0.633555   \n",
       "ExperienceYearsInCurrentRole                    0.460700   \n",
       "YearsSinceLastPromotion                         0.412781   \n",
       "YearsWithCurrManager                            0.460783   \n",
       "PerformanceRating                              -0.068141   \n",
       "\n",
       "                              TrainingTimesLastYear  EmpWorkLifeBalance  \\\n",
       "Age                                       -0.016053           -0.019563   \n",
       "DistanceFromHome                          -0.032082           -0.044788   \n",
       "EmpEducationLevel                         -0.013674            0.010276   \n",
       "EmpEnvironmentSatisfaction                 0.001192           -0.000262   \n",
       "EmpHourlyRate                             -0.024160            0.016189   \n",
       "EmpJobInvolvement                         -0.025168           -0.014129   \n",
       "EmpJobLevel                               -0.000389            0.049218   \n",
       "EmpJobSatisfaction                        -0.028031           -0.018548   \n",
       "NumCompaniesWorked                        -0.050817            0.002489   \n",
       "EmpLastSalaryHikePercent                  -0.013439           -0.017001   \n",
       "EmpRelationshipSatisfaction                0.025975           -0.004906   \n",
       "TotalWorkExperienceInYears                -0.022113            0.015495   \n",
       "TrainingTimesLastYear                      1.000000            0.037048   \n",
       "EmpWorkLifeBalance                         0.037048            1.000000   \n",
       "ExperienceYearsAtThisCompany               0.008564            0.023479   \n",
       "ExperienceYearsInCurrentRole               0.010222            0.045719   \n",
       "YearsSinceLastPromotion                    0.018831            0.015773   \n",
       "YearsWithCurrManager                      -0.013237            0.010518   \n",
       "PerformanceRating                         -0.005443            0.124429   \n",
       "\n",
       "                              ExperienceYearsAtThisCompany  \\\n",
       "Age                                               0.318852   \n",
       "DistanceFromHome                                  0.021908   \n",
       "EmpEducationLevel                                 0.076332   \n",
       "EmpEnvironmentSatisfaction                       -0.000561   \n",
       "EmpHourlyRate                                    -0.000399   \n",
       "EmpJobInvolvement                                -0.039720   \n",
       "EmpJobLevel                                       0.540377   \n",
       "EmpJobSatisfaction                                0.001807   \n",
       "NumCompaniesWorked                               -0.129797   \n",
       "EmpLastSalaryHikePercent                         -0.019830   \n",
       "EmpRelationshipSatisfaction                       0.015612   \n",
       "TotalWorkExperienceInYears                        0.633555   \n",
       "TrainingTimesLastYear                             0.008564   \n",
       "EmpWorkLifeBalance                                0.023479   \n",
       "ExperienceYearsAtThisCompany                      1.000000   \n",
       "ExperienceYearsInCurrentRole                      0.764102   \n",
       "YearsSinceLastPromotion                           0.620230   \n",
       "YearsWithCurrManager                              0.759258   \n",
       "PerformanceRating                                -0.111645   \n",
       "\n",
       "                              ExperienceYearsInCurrentRole  \\\n",
       "Age                                               0.217163   \n",
       "DistanceFromHome                                  0.019898   \n",
       "EmpEducationLevel                                 0.066672   \n",
       "EmpEnvironmentSatisfaction                        0.025491   \n",
       "EmpHourlyRate                                    -0.011871   \n",
       "EmpJobInvolvement                                 0.002910   \n",
       "EmpJobLevel                                       0.399235   \n",
       "EmpJobSatisfaction                                0.002018   \n",
       "NumCompaniesWorked                               -0.097271   \n",
       "EmpLastSalaryHikePercent                         -0.004957   \n",
       "EmpRelationshipSatisfaction                      -0.032131   \n",
       "TotalWorkExperienceInYears                        0.460700   \n",
       "TrainingTimesLastYear                             0.010222   \n",
       "EmpWorkLifeBalance                                0.045719   \n",
       "ExperienceYearsAtThisCompany                      0.764102   \n",
       "ExperienceYearsInCurrentRole                      1.000000   \n",
       "YearsSinceLastPromotion                           0.540600   \n",
       "YearsWithCurrManager                              0.728973   \n",
       "PerformanceRating                                -0.147638   \n",
       "\n",
       "                              YearsSinceLastPromotion  YearsWithCurrManager  \\\n",
       "Age                                          0.228199              0.205098   \n",
       "DistanceFromHome                             0.013246              0.017860   \n",
       "EmpEducationLevel                            0.054313              0.088988   \n",
       "EmpEnvironmentSatisfaction                   0.010732             -0.011702   \n",
       "EmpHourlyRate                               -0.010000             -0.004576   \n",
       "EmpJobInvolvement                           -0.019944              0.012924   \n",
       "EmpJobLevel                                  0.360880              0.374872   \n",
       "EmpJobSatisfaction                          -0.006508             -0.022096   \n",
       "NumCompaniesWorked                          -0.031656             -0.109937   \n",
       "EmpLastSalaryHikePercent                    -0.015911             -0.007666   \n",
       "EmpRelationshipSatisfaction                  0.026253             -0.006426   \n",
       "TotalWorkExperienceInYears                   0.412781              0.460783   \n",
       "TrainingTimesLastYear                        0.018831             -0.013237   \n",
       "EmpWorkLifeBalance                           0.015773              0.010518   \n",
       "ExperienceYearsAtThisCompany                 0.620230              0.759258   \n",
       "ExperienceYearsInCurrentRole                 0.540600              0.728973   \n",
       "YearsSinceLastPromotion                      1.000000              0.491199   \n",
       "YearsWithCurrManager                         0.491199              1.000000   \n",
       "PerformanceRating                           -0.167629             -0.122313   \n",
       "\n",
       "                              PerformanceRating  \n",
       "Age                                   -0.040164  \n",
       "DistanceFromHome                      -0.046142  \n",
       "EmpEducationLevel                      0.020529  \n",
       "EmpEnvironmentSatisfaction             0.395561  \n",
       "EmpHourlyRate                         -0.043116  \n",
       "EmpJobInvolvement                     -0.010539  \n",
       "EmpJobLevel                           -0.076632  \n",
       "EmpJobSatisfaction                     0.000606  \n",
       "NumCompaniesWorked                     0.020980  \n",
       "EmpLastSalaryHikePercent               0.333722  \n",
       "EmpRelationshipSatisfaction           -0.019502  \n",
       "TotalWorkExperienceInYears            -0.068141  \n",
       "TrainingTimesLastYear                 -0.005443  \n",
       "EmpWorkLifeBalance                     0.124429  \n",
       "ExperienceYearsAtThisCompany          -0.111645  \n",
       "ExperienceYearsInCurrentRole          -0.147638  \n",
       "YearsSinceLastPromotion               -0.167629  \n",
       "YearsWithCurrManager                  -0.122313  \n",
       "PerformanceRating                      1.000000  "
      ]
     },
     "execution_count": 16,
     "metadata": {},
     "output_type": "execute_result"
    }
   ],
   "source": [
    "corr=df.corr()\n",
    "corr"
   ]
  },
  {
   "cell_type": "code",
   "execution_count": 17,
   "metadata": {},
   "outputs": [
    {
     "data": {
      "text/plain": [
       "<AxesSubplot:>"
      ]
     },
     "execution_count": 17,
     "metadata": {},
     "output_type": "execute_result"
    },
    {
     "data": {
      "image/png": "[encoded data removed]",
      "text/plain": [
       "<Figure size 1440x720 with 2 Axes>"
      ]
     },
     "metadata": {
      "needs_background": "light"
     },
     "output_type": "display_data"
    }
   ],
   "source": [
    "fig ,ax = plt.subplots(figsize=(20,10))\n",
    "sns.heatmap(corr,annot=True,linewidths=0.4,fmt= '.2f',cmap=\"coolwarm\",ax=ax)"
   ]
  },
  {
   "cell_type": "code",
   "execution_count": 18,
   "metadata": {},
   "outputs": [
    {
     "name": "stdout",
     "output_type": "stream",
     "text": [
      "PerformanceRating               1.000000\n",
      "EmpEnvironmentSatisfaction      0.395561\n",
      "EmpLastSalaryHikePercent        0.333722\n",
      "EmpWorkLifeBalance              0.124429\n",
      "NumCompaniesWorked              0.020980\n",
      "EmpEducationLevel               0.020529\n",
      "EmpJobSatisfaction              0.000606\n",
      "TrainingTimesLastYear          -0.005443\n",
      "EmpJobInvolvement              -0.010539\n",
      "EmpRelationshipSatisfaction    -0.019502\n",
      "Age                            -0.040164\n",
      "EmpHourlyRate                  -0.043116\n",
      "DistanceFromHome               -0.046142\n",
      "TotalWorkExperienceInYears     -0.068141\n",
      "EmpJobLevel                    -0.076632\n",
      "ExperienceYearsAtThisCompany   -0.111645\n",
      "YearsWithCurrManager           -0.122313\n",
      "ExperienceYearsInCurrentRole   -0.147638\n",
      "YearsSinceLastPromotion        -0.167629\n",
      "Name: PerformanceRating, dtype: float64\n"
     ]
    }
   ],
   "source": [
    "# Check correlation with target variable \n",
    "print(corr['PerformanceRating'].sort_values(ascending=False))"
   ]
  },
  {
   "cell_type": "markdown",
   "metadata": {},
   "source": [
    "#### From the heatmap we can say very less features are correlated to the Target Variable "
   ]
  },
  {
   "cell_type": "code",
   "execution_count": null,
   "metadata": {},
   "outputs": [],
   "source": []
  },
  {
   "cell_type": "markdown",
   "metadata": {},
   "source": [
    "## Distribution of Categorical Features "
   ]
  },
  {
   "cell_type": "code",
   "execution_count": 19,
   "metadata": {},
   "outputs": [
    {
     "name": "stdout",
     "output_type": "stream",
     "text": [
      "Index(['Gender', 'EducationBackground', 'MaritalStatus', 'EmpDepartment',\n",
      "       'EmpJobRole', 'BusinessTravelFrequency', 'OverTime', 'Attrition'],\n",
      "      dtype='object')\n",
      "(8,)\n"
     ]
    }
   ],
   "source": [
    "categorical_feature = df.columns[df.dtypes=='object']\n",
    "print(categorical_feature)\n",
    "print(categorical_feature.shape)"
   ]
  },
  {
   "cell_type": "code",
   "execution_count": 20,
   "metadata": {},
   "outputs": [
    {
     "data": {
      "text/html": [
       "<style  type=\"text/css\" >\n",
       "#T_11655498_33c5_11eb_9bf2_40f02f99b4fdrow0_col0,#T_11655498_33c5_11eb_9bf2_40f02f99b4fdrow0_col2,#T_11655498_33c5_11eb_9bf2_40f02f99b4fdrow1_col0,#T_11655498_33c5_11eb_9bf2_40f02f99b4fdrow1_col1,#T_11655498_33c5_11eb_9bf2_40f02f99b4fdrow1_col2,#T_11655498_33c5_11eb_9bf2_40f02f99b4fdrow2_col0,#T_11655498_33c5_11eb_9bf2_40f02f99b4fdrow2_col2{\n",
       "            background-color:  #ff00ff;\n",
       "            color:  #f1f1f1;\n",
       "        }#T_11655498_33c5_11eb_9bf2_40f02f99b4fdrow0_col1,#T_11655498_33c5_11eb_9bf2_40f02f99b4fdrow2_col1{\n",
       "            background-color:  #ffff00;\n",
       "            color:  #000000;\n",
       "        }</style><table id=\"T_11655498_33c5_11eb_9bf2_40f02f99b4fd\" ><thead>    <tr>        <th class=\"index_name level0\" >PerformanceRating</th>        <th class=\"col_heading level0 col0\" >2</th>        <th class=\"col_heading level0 col1\" >3</th>        <th class=\"col_heading level0 col2\" >4</th>    </tr>    <tr>        <th class=\"index_name level0\" >Gender</th>        <th class=\"blank\" ></th>        <th class=\"blank\" ></th>        <th class=\"blank\" ></th>    </tr></thead><tbody>\n",
       "                <tr>\n",
       "                        <th id=\"T_11655498_33c5_11eb_9bf2_40f02f99b4fdlevel0_row0\" class=\"row_heading level0 row0\" >Female</th>\n",
       "                        <td id=\"T_11655498_33c5_11eb_9bf2_40f02f99b4fdrow0_col0\" class=\"data row0 col0\" >0.160000</td>\n",
       "                        <td id=\"T_11655498_33c5_11eb_9bf2_40f02f99b4fdrow0_col1\" class=\"data row0 col1\" >0.730000</td>\n",
       "                        <td id=\"T_11655498_33c5_11eb_9bf2_40f02f99b4fdrow0_col2\" class=\"data row0 col2\" >0.110000</td>\n",
       "            </tr>\n",
       "            <tr>\n",
       "                        <th id=\"T_11655498_33c5_11eb_9bf2_40f02f99b4fdlevel0_row1\" class=\"row_heading level0 row1\" >Male</th>\n",
       "                        <td id=\"T_11655498_33c5_11eb_9bf2_40f02f99b4fdrow1_col0\" class=\"data row1 col0\" >0.160000</td>\n",
       "                        <td id=\"T_11655498_33c5_11eb_9bf2_40f02f99b4fdrow1_col1\" class=\"data row1 col1\" >0.720000</td>\n",
       "                        <td id=\"T_11655498_33c5_11eb_9bf2_40f02f99b4fdrow1_col2\" class=\"data row1 col2\" >0.110000</td>\n",
       "            </tr>\n",
       "            <tr>\n",
       "                        <th id=\"T_11655498_33c5_11eb_9bf2_40f02f99b4fdlevel0_row2\" class=\"row_heading level0 row2\" >All</th>\n",
       "                        <td id=\"T_11655498_33c5_11eb_9bf2_40f02f99b4fdrow2_col0\" class=\"data row2 col0\" >0.160000</td>\n",
       "                        <td id=\"T_11655498_33c5_11eb_9bf2_40f02f99b4fdrow2_col1\" class=\"data row2 col1\" >0.730000</td>\n",
       "                        <td id=\"T_11655498_33c5_11eb_9bf2_40f02f99b4fdrow2_col2\" class=\"data row2 col2\" >0.110000</td>\n",
       "            </tr>\n",
       "    </tbody></table>"
      ],
      "text/plain": [
       "<pandas.io.formats.style.Styler at 0x23268048b08>"
      ]
     },
     "execution_count": 20,
     "metadata": {},
     "output_type": "execute_result"
    },
    {
     "data": {
      "image/png": "[encoded data removed]",
      "text/plain": [
       "<Figure size 576x360 with 1 Axes>"
      ]
     },
     "metadata": {
      "needs_background": "light"
     },
     "output_type": "display_data"
    }
   ],
   "source": [
    "df.groupby('Gender')['PerformanceRating']\\\n",
    "    .value_counts()\\\n",
    "    .unstack(level=1)\\\n",
    "    .plot.bar(stacked=False,figsize=(8,5))\n",
    "pd.crosstab(df.Gender, df.PerformanceRating, margins=True, normalize='index').round(2).style.background_gradient(cmap='spring')"
   ]
  },
  {
   "cell_type": "markdown",
   "metadata": {},
   "source": [
    "#### Males have average Performance rating compare to Females "
   ]
  },
  {
   "cell_type": "code",
   "execution_count": 21,
   "metadata": {},
   "outputs": [
    {
     "data": {
      "text/html": [
       "<style  type=\"text/css\" >\n",
       "#T_11fa8e1c_33c5_11eb_90e3_40f02f99b4fdrow0_col0{\n",
       "            background-color:  #ff906f;\n",
       "            color:  #000000;\n",
       "        }#T_11fa8e1c_33c5_11eb_90e3_40f02f99b4fdrow0_col1{\n",
       "            background-color:  #ff708f;\n",
       "            color:  #000000;\n",
       "        }#T_11fa8e1c_33c5_11eb_90e3_40f02f99b4fdrow0_col2,#T_11fa8e1c_33c5_11eb_90e3_40f02f99b4fdrow2_col1,#T_11fa8e1c_33c5_11eb_90e3_40f02f99b4fdrow2_col2,#T_11fa8e1c_33c5_11eb_90e3_40f02f99b4fdrow3_col2,#T_11fa8e1c_33c5_11eb_90e3_40f02f99b4fdrow4_col0{\n",
       "            background-color:  #ff00ff;\n",
       "            color:  #f1f1f1;\n",
       "        }#T_11fa8e1c_33c5_11eb_90e3_40f02f99b4fdrow1_col0,#T_11fa8e1c_33c5_11eb_90e3_40f02f99b4fdrow3_col0,#T_11fa8e1c_33c5_11eb_90e3_40f02f99b4fdrow6_col0{\n",
       "            background-color:  #ffb04f;\n",
       "            color:  #000000;\n",
       "        }#T_11fa8e1c_33c5_11eb_90e3_40f02f99b4fdrow1_col1,#T_11fa8e1c_33c5_11eb_90e3_40f02f99b4fdrow3_col1,#T_11fa8e1c_33c5_11eb_90e3_40f02f99b4fdrow6_col1{\n",
       "            background-color:  #ff40bf;\n",
       "            color:  #000000;\n",
       "        }#T_11fa8e1c_33c5_11eb_90e3_40f02f99b4fdrow1_col2,#T_11fa8e1c_33c5_11eb_90e3_40f02f99b4fdrow2_col0,#T_11fa8e1c_33c5_11eb_90e3_40f02f99b4fdrow4_col1,#T_11fa8e1c_33c5_11eb_90e3_40f02f99b4fdrow5_col2{\n",
       "            background-color:  #ffff00;\n",
       "            color:  #000000;\n",
       "        }#T_11fa8e1c_33c5_11eb_90e3_40f02f99b4fdrow4_col2,#T_11fa8e1c_33c5_11eb_90e3_40f02f99b4fdrow6_col2{\n",
       "            background-color:  #ff807f;\n",
       "            color:  #000000;\n",
       "        }#T_11fa8e1c_33c5_11eb_90e3_40f02f99b4fdrow5_col0{\n",
       "            background-color:  #ffd02f;\n",
       "            color:  #000000;\n",
       "        }#T_11fa8e1c_33c5_11eb_90e3_40f02f99b4fdrow5_col1{\n",
       "            background-color:  #ff10ef;\n",
       "            color:  #f1f1f1;\n",
       "        }</style><table id=\"T_11fa8e1c_33c5_11eb_90e3_40f02f99b4fd\" ><thead>    <tr>        <th class=\"index_name level0\" >PerformanceRating</th>        <th class=\"col_heading level0 col0\" >2</th>        <th class=\"col_heading level0 col1\" >3</th>        <th class=\"col_heading level0 col2\" >4</th>    </tr>    <tr>        <th class=\"index_name level0\" >EducationBackground</th>        <th class=\"blank\" ></th>        <th class=\"blank\" ></th>        <th class=\"blank\" ></th>    </tr></thead><tbody>\n",
       "                <tr>\n",
       "                        <th id=\"T_11fa8e1c_33c5_11eb_90e3_40f02f99b4fdlevel0_row0\" class=\"row_heading level0 row0\" >Human Resources</th>\n",
       "                        <td id=\"T_11fa8e1c_33c5_11eb_90e3_40f02f99b4fdrow0_col0\" class=\"data row0 col0\" >0.140000</td>\n",
       "                        <td id=\"T_11fa8e1c_33c5_11eb_90e3_40f02f99b4fdrow0_col1\" class=\"data row0 col1\" >0.760000</td>\n",
       "                        <td id=\"T_11fa8e1c_33c5_11eb_90e3_40f02f99b4fdrow0_col2\" class=\"data row0 col2\" >0.100000</td>\n",
       "            </tr>\n",
       "            <tr>\n",
       "                        <th id=\"T_11fa8e1c_33c5_11eb_90e3_40f02f99b4fdlevel0_row1\" class=\"row_heading level0 row1\" >Life Sciences</th>\n",
       "                        <td id=\"T_11fa8e1c_33c5_11eb_90e3_40f02f99b4fdrow1_col0\" class=\"data row1 col0\" >0.160000</td>\n",
       "                        <td id=\"T_11fa8e1c_33c5_11eb_90e3_40f02f99b4fdrow1_col1\" class=\"data row1 col1\" >0.730000</td>\n",
       "                        <td id=\"T_11fa8e1c_33c5_11eb_90e3_40f02f99b4fdrow1_col2\" class=\"data row1 col2\" >0.120000</td>\n",
       "            </tr>\n",
       "            <tr>\n",
       "                        <th id=\"T_11fa8e1c_33c5_11eb_90e3_40f02f99b4fdlevel0_row2\" class=\"row_heading level0 row2\" >Marketing</th>\n",
       "                        <td id=\"T_11fa8e1c_33c5_11eb_90e3_40f02f99b4fdrow2_col0\" class=\"data row2 col0\" >0.210000</td>\n",
       "                        <td id=\"T_11fa8e1c_33c5_11eb_90e3_40f02f99b4fdrow2_col1\" class=\"data row2 col1\" >0.690000</td>\n",
       "                        <td id=\"T_11fa8e1c_33c5_11eb_90e3_40f02f99b4fdrow2_col2\" class=\"data row2 col2\" >0.100000</td>\n",
       "            </tr>\n",
       "            <tr>\n",
       "                        <th id=\"T_11fa8e1c_33c5_11eb_90e3_40f02f99b4fdlevel0_row3\" class=\"row_heading level0 row3\" >Medical</th>\n",
       "                        <td id=\"T_11fa8e1c_33c5_11eb_90e3_40f02f99b4fdrow3_col0\" class=\"data row3 col0\" >0.160000</td>\n",
       "                        <td id=\"T_11fa8e1c_33c5_11eb_90e3_40f02f99b4fdrow3_col1\" class=\"data row3 col1\" >0.730000</td>\n",
       "                        <td id=\"T_11fa8e1c_33c5_11eb_90e3_40f02f99b4fdrow3_col2\" class=\"data row3 col2\" >0.100000</td>\n",
       "            </tr>\n",
       "            <tr>\n",
       "                        <th id=\"T_11fa8e1c_33c5_11eb_90e3_40f02f99b4fdlevel0_row4\" class=\"row_heading level0 row4\" >Other</th>\n",
       "                        <td id=\"T_11fa8e1c_33c5_11eb_90e3_40f02f99b4fdrow4_col0\" class=\"data row4 col0\" >0.050000</td>\n",
       "                        <td id=\"T_11fa8e1c_33c5_11eb_90e3_40f02f99b4fdrow4_col1\" class=\"data row4 col1\" >0.850000</td>\n",
       "                        <td id=\"T_11fa8e1c_33c5_11eb_90e3_40f02f99b4fdrow4_col2\" class=\"data row4 col2\" >0.110000</td>\n",
       "            </tr>\n",
       "            <tr>\n",
       "                        <th id=\"T_11fa8e1c_33c5_11eb_90e3_40f02f99b4fdlevel0_row5\" class=\"row_heading level0 row5\" >Technical Degree</th>\n",
       "                        <td id=\"T_11fa8e1c_33c5_11eb_90e3_40f02f99b4fdrow5_col0\" class=\"data row5 col0\" >0.180000</td>\n",
       "                        <td id=\"T_11fa8e1c_33c5_11eb_90e3_40f02f99b4fdrow5_col1\" class=\"data row5 col1\" >0.700000</td>\n",
       "                        <td id=\"T_11fa8e1c_33c5_11eb_90e3_40f02f99b4fdrow5_col2\" class=\"data row5 col2\" >0.120000</td>\n",
       "            </tr>\n",
       "            <tr>\n",
       "                        <th id=\"T_11fa8e1c_33c5_11eb_90e3_40f02f99b4fdlevel0_row6\" class=\"row_heading level0 row6\" >All</th>\n",
       "                        <td id=\"T_11fa8e1c_33c5_11eb_90e3_40f02f99b4fdrow6_col0\" class=\"data row6 col0\" >0.160000</td>\n",
       "                        <td id=\"T_11fa8e1c_33c5_11eb_90e3_40f02f99b4fdrow6_col1\" class=\"data row6 col1\" >0.730000</td>\n",
       "                        <td id=\"T_11fa8e1c_33c5_11eb_90e3_40f02f99b4fdrow6_col2\" class=\"data row6 col2\" >0.110000</td>\n",
       "            </tr>\n",
       "    </tbody></table>"
      ],
      "text/plain": [
       "<pandas.io.formats.style.Styler at 0x23268bbd108>"
      ]
     },
     "execution_count": 21,
     "metadata": {},
     "output_type": "execute_result"
    },
    {
     "data": {
      "image/png": "[encoded data removed]",
      "text/plain": [
       "<Figure size 720x432 with 1 Axes>"
      ]
     },
     "metadata": {
      "needs_background": "light"
     },
     "output_type": "display_data"
    }
   ],
   "source": [
    "df.groupby('EducationBackground')['PerformanceRating']\\\n",
    "    .value_counts()\\\n",
    "    .unstack(level=1)\\\n",
    "    .plot.bar(stacked=False,figsize=(10,6))\n",
    "pd.crosstab(df.EducationBackground, df.PerformanceRating, margins=True, normalize='index').round(2).style.background_gradient(cmap='spring')"
   ]
  },
  {
   "cell_type": "markdown",
   "metadata": {},
   "source": [
    "#### Employees from life sciences have the highest Performance rating "
   ]
  },
  {
   "cell_type": "code",
   "execution_count": 22,
   "metadata": {},
   "outputs": [
    {
     "data": {
      "text/html": [
       "<style  type=\"text/css\" >\n",
       "#T_12a4fe30_33c5_11eb_a617_40f02f99b4fdrow0_col0,#T_12a4fe30_33c5_11eb_a617_40f02f99b4fdrow0_col2,#T_12a4fe30_33c5_11eb_a617_40f02f99b4fdrow1_col1,#T_12a4fe30_33c5_11eb_a617_40f02f99b4fdrow1_col2,#T_12a4fe30_33c5_11eb_a617_40f02f99b4fdrow2_col1{\n",
       "            background-color:  #ff00ff;\n",
       "            color:  #f1f1f1;\n",
       "        }#T_12a4fe30_33c5_11eb_a617_40f02f99b4fdrow0_col1,#T_12a4fe30_33c5_11eb_a617_40f02f99b4fdrow1_col0,#T_12a4fe30_33c5_11eb_a617_40f02f99b4fdrow2_col2{\n",
       "            background-color:  #ffff00;\n",
       "            color:  #000000;\n",
       "        }#T_12a4fe30_33c5_11eb_a617_40f02f99b4fdrow2_col0{\n",
       "            background-color:  #ff3fc0;\n",
       "            color:  #000000;\n",
       "        }#T_12a4fe30_33c5_11eb_a617_40f02f99b4fdrow3_col0{\n",
       "            background-color:  #ff807f;\n",
       "            color:  #000000;\n",
       "        }#T_12a4fe30_33c5_11eb_a617_40f02f99b4fdrow3_col1{\n",
       "            background-color:  #ff40bf;\n",
       "            color:  #000000;\n",
       "        }#T_12a4fe30_33c5_11eb_a617_40f02f99b4fdrow3_col2{\n",
       "            background-color:  #ff55aa;\n",
       "            color:  #000000;\n",
       "        }</style><table id=\"T_12a4fe30_33c5_11eb_a617_40f02f99b4fd\" ><thead>    <tr>        <th class=\"index_name level0\" >PerformanceRating</th>        <th class=\"col_heading level0 col0\" >2</th>        <th class=\"col_heading level0 col1\" >3</th>        <th class=\"col_heading level0 col2\" >4</th>    </tr>    <tr>        <th class=\"index_name level0\" >MaritalStatus</th>        <th class=\"blank\" ></th>        <th class=\"blank\" ></th>        <th class=\"blank\" ></th>    </tr></thead><tbody>\n",
       "                <tr>\n",
       "                        <th id=\"T_12a4fe30_33c5_11eb_a617_40f02f99b4fdlevel0_row0\" class=\"row_heading level0 row0\" >Divorced</th>\n",
       "                        <td id=\"T_12a4fe30_33c5_11eb_a617_40f02f99b4fdrow0_col0\" class=\"data row0 col0\" >0.140000</td>\n",
       "                        <td id=\"T_12a4fe30_33c5_11eb_a617_40f02f99b4fdrow0_col1\" class=\"data row0 col1\" >0.760000</td>\n",
       "                        <td id=\"T_12a4fe30_33c5_11eb_a617_40f02f99b4fdrow0_col2\" class=\"data row0 col2\" >0.100000</td>\n",
       "            </tr>\n",
       "            <tr>\n",
       "                        <th id=\"T_12a4fe30_33c5_11eb_a617_40f02f99b4fdlevel0_row1\" class=\"row_heading level0 row1\" >Married</th>\n",
       "                        <td id=\"T_12a4fe30_33c5_11eb_a617_40f02f99b4fdrow1_col0\" class=\"data row1 col0\" >0.180000</td>\n",
       "                        <td id=\"T_12a4fe30_33c5_11eb_a617_40f02f99b4fdrow1_col1\" class=\"data row1 col1\" >0.720000</td>\n",
       "                        <td id=\"T_12a4fe30_33c5_11eb_a617_40f02f99b4fdrow1_col2\" class=\"data row1 col2\" >0.100000</td>\n",
       "            </tr>\n",
       "            <tr>\n",
       "                        <th id=\"T_12a4fe30_33c5_11eb_a617_40f02f99b4fdlevel0_row2\" class=\"row_heading level0 row2\" >Single</th>\n",
       "                        <td id=\"T_12a4fe30_33c5_11eb_a617_40f02f99b4fdrow2_col0\" class=\"data row2 col0\" >0.150000</td>\n",
       "                        <td id=\"T_12a4fe30_33c5_11eb_a617_40f02f99b4fdrow2_col1\" class=\"data row2 col1\" >0.720000</td>\n",
       "                        <td id=\"T_12a4fe30_33c5_11eb_a617_40f02f99b4fdrow2_col2\" class=\"data row2 col2\" >0.130000</td>\n",
       "            </tr>\n",
       "            <tr>\n",
       "                        <th id=\"T_12a4fe30_33c5_11eb_a617_40f02f99b4fdlevel0_row3\" class=\"row_heading level0 row3\" >All</th>\n",
       "                        <td id=\"T_12a4fe30_33c5_11eb_a617_40f02f99b4fdrow3_col0\" class=\"data row3 col0\" >0.160000</td>\n",
       "                        <td id=\"T_12a4fe30_33c5_11eb_a617_40f02f99b4fdrow3_col1\" class=\"data row3 col1\" >0.730000</td>\n",
       "                        <td id=\"T_12a4fe30_33c5_11eb_a617_40f02f99b4fdrow3_col2\" class=\"data row3 col2\" >0.110000</td>\n",
       "            </tr>\n",
       "    </tbody></table>"
      ],
      "text/plain": [
       "<pandas.io.formats.style.Styler at 0x23268c8bdc8>"
      ]
     },
     "execution_count": 22,
     "metadata": {},
     "output_type": "execute_result"
    },
    {
     "data": {
      "image/png": "[encoded data removed]",
      "text/plain": [
       "<Figure size 720x432 with 1 Axes>"
      ]
     },
     "metadata": {
      "needs_background": "light"
     },
     "output_type": "display_data"
    }
   ],
   "source": [
    "df.groupby('MaritalStatus')['PerformanceRating']\\\n",
    "    .value_counts()\\\n",
    "    .unstack(level=1)\\\n",
    "    .plot.bar(stacked=False,figsize=(10,6))\n",
    "pd.crosstab(df.MaritalStatus, df.PerformanceRating, margins=True, normalize='index').round(2).style.background_gradient(cmap='spring')"
   ]
  },
  {
   "cell_type": "markdown",
   "metadata": {},
   "source": [
    "#### Married people have the highest Performance Rating "
   ]
  },
  {
   "cell_type": "code",
   "execution_count": 23,
   "metadata": {},
   "outputs": [
    {
     "data": {
      "text/html": [
       "<style  type=\"text/css\" >\n",
       "#T_133a60ac_33c5_11eb_baec_40f02f99b4fdrow0_col0{\n",
       "            background-color:  #ff09f6;\n",
       "            color:  #f1f1f1;\n",
       "        }#T_133a60ac_33c5_11eb_baec_40f02f99b4fdrow0_col1,#T_133a60ac_33c5_11eb_baec_40f02f99b4fdrow1_col2,#T_133a60ac_33c5_11eb_baec_40f02f99b4fdrow2_col0,#T_133a60ac_33c5_11eb_baec_40f02f99b4fdrow4_col2{\n",
       "            background-color:  #ffff00;\n",
       "            color:  #000000;\n",
       "        }#T_133a60ac_33c5_11eb_baec_40f02f99b4fdrow0_col2,#T_133a60ac_33c5_11eb_baec_40f02f99b4fdrow6_col1{\n",
       "            background-color:  #ff807f;\n",
       "            color:  #000000;\n",
       "        }#T_133a60ac_33c5_11eb_baec_40f02f99b4fdrow1_col0,#T_133a60ac_33c5_11eb_baec_40f02f99b4fdrow2_col1,#T_133a60ac_33c5_11eb_baec_40f02f99b4fdrow2_col2{\n",
       "            background-color:  #ff00ff;\n",
       "            color:  #f1f1f1;\n",
       "        }#T_133a60ac_33c5_11eb_baec_40f02f99b4fdrow1_col1{\n",
       "            background-color:  #fff50a;\n",
       "            color:  #000000;\n",
       "        }#T_133a60ac_33c5_11eb_baec_40f02f99b4fdrow3_col0{\n",
       "            background-color:  #ff8e71;\n",
       "            color:  #000000;\n",
       "        }#T_133a60ac_33c5_11eb_baec_40f02f99b4fdrow3_col1{\n",
       "            background-color:  #ff5fa0;\n",
       "            color:  #000000;\n",
       "        }#T_133a60ac_33c5_11eb_baec_40f02f99b4fdrow3_col2,#T_133a60ac_33c5_11eb_baec_40f02f99b4fdrow6_col2{\n",
       "            background-color:  #ffc03f;\n",
       "            color:  #000000;\n",
       "        }#T_133a60ac_33c5_11eb_baec_40f02f99b4fdrow4_col0{\n",
       "            background-color:  #ff9768;\n",
       "            color:  #000000;\n",
       "        }#T_133a60ac_33c5_11eb_baec_40f02f99b4fdrow4_col1{\n",
       "            background-color:  #ff4ab5;\n",
       "            color:  #000000;\n",
       "        }#T_133a60ac_33c5_11eb_baec_40f02f99b4fdrow5_col0{\n",
       "            background-color:  #ffb44b;\n",
       "            color:  #000000;\n",
       "        }#T_133a60ac_33c5_11eb_baec_40f02f99b4fdrow5_col1{\n",
       "            background-color:  #ff40bf;\n",
       "            color:  #000000;\n",
       "        }#T_133a60ac_33c5_11eb_baec_40f02f99b4fdrow5_col2{\n",
       "            background-color:  #ff3fc0;\n",
       "            color:  #000000;\n",
       "        }#T_133a60ac_33c5_11eb_baec_40f02f99b4fdrow6_col0{\n",
       "            background-color:  #ff718e;\n",
       "            color:  #000000;\n",
       "        }</style><table id=\"T_133a60ac_33c5_11eb_baec_40f02f99b4fd\" ><thead>    <tr>        <th class=\"index_name level0\" >PerformanceRating</th>        <th class=\"col_heading level0 col0\" >2</th>        <th class=\"col_heading level0 col1\" >3</th>        <th class=\"col_heading level0 col2\" >4</th>    </tr>    <tr>        <th class=\"index_name level0\" >EmpDepartment</th>        <th class=\"blank\" ></th>        <th class=\"blank\" ></th>        <th class=\"blank\" ></th>    </tr></thead><tbody>\n",
       "                <tr>\n",
       "                        <th id=\"T_133a60ac_33c5_11eb_baec_40f02f99b4fdlevel0_row0\" class=\"row_heading level0 row0\" >Data Science</th>\n",
       "                        <td id=\"T_133a60ac_33c5_11eb_baec_40f02f99b4fdrow0_col0\" class=\"data row0 col0\" >0.050000</td>\n",
       "                        <td id=\"T_133a60ac_33c5_11eb_baec_40f02f99b4fdrow0_col1\" class=\"data row0 col1\" >0.850000</td>\n",
       "                        <td id=\"T_133a60ac_33c5_11eb_baec_40f02f99b4fdrow0_col2\" class=\"data row0 col2\" >0.100000</td>\n",
       "            </tr>\n",
       "            <tr>\n",
       "                        <th id=\"T_133a60ac_33c5_11eb_baec_40f02f99b4fdlevel0_row1\" class=\"row_heading level0 row1\" >Development</th>\n",
       "                        <td id=\"T_133a60ac_33c5_11eb_baec_40f02f99b4fdrow1_col0\" class=\"data row1 col0\" >0.040000</td>\n",
       "                        <td id=\"T_133a60ac_33c5_11eb_baec_40f02f99b4fdrow1_col1\" class=\"data row1 col1\" >0.840000</td>\n",
       "                        <td id=\"T_133a60ac_33c5_11eb_baec_40f02f99b4fdrow1_col2\" class=\"data row1 col2\" >0.120000</td>\n",
       "            </tr>\n",
       "            <tr>\n",
       "                        <th id=\"T_133a60ac_33c5_11eb_baec_40f02f99b4fdlevel0_row2\" class=\"row_heading level0 row2\" >Finance</th>\n",
       "                        <td id=\"T_133a60ac_33c5_11eb_baec_40f02f99b4fdrow2_col0\" class=\"data row2 col0\" >0.310000</td>\n",
       "                        <td id=\"T_133a60ac_33c5_11eb_baec_40f02f99b4fdrow2_col1\" class=\"data row2 col1\" >0.610000</td>\n",
       "                        <td id=\"T_133a60ac_33c5_11eb_baec_40f02f99b4fdrow2_col2\" class=\"data row2 col2\" >0.080000</td>\n",
       "            </tr>\n",
       "            <tr>\n",
       "                        <th id=\"T_133a60ac_33c5_11eb_baec_40f02f99b4fdlevel0_row3\" class=\"row_heading level0 row3\" >Human Resources</th>\n",
       "                        <td id=\"T_133a60ac_33c5_11eb_baec_40f02f99b4fdrow3_col0\" class=\"data row3 col0\" >0.190000</td>\n",
       "                        <td id=\"T_133a60ac_33c5_11eb_baec_40f02f99b4fdrow3_col1\" class=\"data row3 col1\" >0.700000</td>\n",
       "                        <td id=\"T_133a60ac_33c5_11eb_baec_40f02f99b4fdrow3_col2\" class=\"data row3 col2\" >0.110000</td>\n",
       "            </tr>\n",
       "            <tr>\n",
       "                        <th id=\"T_133a60ac_33c5_11eb_baec_40f02f99b4fdlevel0_row4\" class=\"row_heading level0 row4\" >Research & Development</th>\n",
       "                        <td id=\"T_133a60ac_33c5_11eb_baec_40f02f99b4fdrow4_col0\" class=\"data row4 col0\" >0.200000</td>\n",
       "                        <td id=\"T_133a60ac_33c5_11eb_baec_40f02f99b4fdrow4_col1\" class=\"data row4 col1\" >0.680000</td>\n",
       "                        <td id=\"T_133a60ac_33c5_11eb_baec_40f02f99b4fdrow4_col2\" class=\"data row4 col2\" >0.120000</td>\n",
       "            </tr>\n",
       "            <tr>\n",
       "                        <th id=\"T_133a60ac_33c5_11eb_baec_40f02f99b4fdlevel0_row5\" class=\"row_heading level0 row5\" >Sales</th>\n",
       "                        <td id=\"T_133a60ac_33c5_11eb_baec_40f02f99b4fdrow5_col0\" class=\"data row5 col0\" >0.230000</td>\n",
       "                        <td id=\"T_133a60ac_33c5_11eb_baec_40f02f99b4fdrow5_col1\" class=\"data row5 col1\" >0.670000</td>\n",
       "                        <td id=\"T_133a60ac_33c5_11eb_baec_40f02f99b4fdrow5_col2\" class=\"data row5 col2\" >0.090000</td>\n",
       "            </tr>\n",
       "            <tr>\n",
       "                        <th id=\"T_133a60ac_33c5_11eb_baec_40f02f99b4fdlevel0_row6\" class=\"row_heading level0 row6\" >All</th>\n",
       "                        <td id=\"T_133a60ac_33c5_11eb_baec_40f02f99b4fdrow6_col0\" class=\"data row6 col0\" >0.160000</td>\n",
       "                        <td id=\"T_133a60ac_33c5_11eb_baec_40f02f99b4fdrow6_col1\" class=\"data row6 col1\" >0.730000</td>\n",
       "                        <td id=\"T_133a60ac_33c5_11eb_baec_40f02f99b4fdrow6_col2\" class=\"data row6 col2\" >0.110000</td>\n",
       "            </tr>\n",
       "    </tbody></table>"
      ],
      "text/plain": [
       "<pandas.io.formats.style.Styler at 0x23267d75a08>"
      ]
     },
     "execution_count": 23,
     "metadata": {},
     "output_type": "execute_result"
    },
    {
     "data": {
      "image/png": "[encoded data removed]",
      "text/plain": [
       "<Figure size 720x432 with 1 Axes>"
      ]
     },
     "metadata": {
      "needs_background": "light"
     },
     "output_type": "display_data"
    }
   ],
   "source": [
    "df.groupby('EmpDepartment')['PerformanceRating']\\\n",
    "    .value_counts()\\\n",
    "    .unstack(level=1)\\\n",
    "    .plot.bar(stacked=False,figsize=(10,6))\n",
    "pd.crosstab(df.EmpDepartment, df.PerformanceRating, margins=True, normalize='index').round(2).style.background_gradient(cmap='spring')"
   ]
  },
  {
   "cell_type": "code",
   "execution_count": 24,
   "metadata": {},
   "outputs": [
    {
     "data": {
      "text/plain": [
       "Sales                     0.310833\n",
       "Development               0.300833\n",
       "Research & Development    0.285833\n",
       "Human Resources           0.045000\n",
       "Finance                   0.040833\n",
       "Data Science              0.016667\n",
       "Name: EmpDepartment, dtype: float64"
      ]
     },
     "execution_count": 24,
     "metadata": {},
     "output_type": "execute_result"
    }
   ],
   "source": [
    "df.EmpDepartment.value_counts(normalize=True)"
   ]
  },
  {
   "cell_type": "markdown",
   "metadata": {},
   "source": [
    "#### In the EmpDepartment Development department has highest performance rating compare to other Departments "
   ]
  },
  {
   "cell_type": "code",
   "execution_count": 25,
   "metadata": {},
   "outputs": [
    {
     "data": {
      "image/png": "[encoded data removed]",
      "text/plain": [
       "<Figure size 2160x720 with 1 Axes>"
      ]
     },
     "metadata": {
      "needs_background": "light"
     },
     "output_type": "display_data"
    },
    {
     "name": "stdout",
     "output_type": "stream",
     "text": [
      "EmpJobRole                 PerformanceRating\n",
      "Business Analyst           3                     13\n",
      "                           4                      3\n",
      "Data Scientist             3                     17\n",
      "                           4                      2\n",
      "                           2                      1\n",
      "Delivery Manager           3                     12\n",
      "Developer                  3                    199\n",
      "                           4                     31\n",
      "                           2                      6\n",
      "Finance Manager            3                     30\n",
      "                           2                     15\n",
      "                           4                      4\n",
      "Healthcare Representative  3                     22\n",
      "                           2                      8\n",
      "                           4                      3\n",
      "Human Resources            3                     31\n",
      "                           2                      9\n",
      "                           4                      5\n",
      "Laboratory Technician      3                     45\n",
      "                           2                     14\n",
      "                           4                      5\n",
      "Manager                    3                     29\n",
      "                           2                     12\n",
      "                           4                     10\n",
      "Manager R&D                3                     66\n",
      "                           2                     17\n",
      "                           4                     11\n",
      "Manufacturing Director     3                     28\n",
      "                           2                      3\n",
      "                           4                      2\n",
      "Research Director          3                     11\n",
      "                           2                      5\n",
      "                           4                      3\n",
      "Research Scientist         3                     46\n",
      "                           2                     17\n",
      "                           4                     14\n",
      "Sales Executive            3                    181\n",
      "                           2                     64\n",
      "                           4                     25\n",
      "Sales Representative       3                     54\n",
      "                           2                     12\n",
      "                           4                      3\n",
      "Senior Developer           3                     40\n",
      "                           2                      6\n",
      "                           4                      6\n",
      "Senior Manager R&D         3                     10\n",
      "                           2                      4\n",
      "                           4                      1\n",
      "Technical Architect        3                      7\n",
      "Technical Lead             3                     33\n",
      "                           4                      4\n",
      "                           2                      1\n",
      "Name: PerformanceRating, dtype: int64\n"
     ]
    }
   ],
   "source": [
    "from matplotlib import rcParams\n",
    "rcParams['figure.figsize'] = 30,10\n",
    "sns.barplot(x='EmpJobRole',y='PerformanceRating',data=df)\n",
    "sns.despine(left=True, bottom=True)\n",
    "plt.show()\n",
    "print(df.groupby('EmpJobRole').PerformanceRating.value_counts())"
   ]
  },
  {
   "cell_type": "code",
   "execution_count": 26,
   "metadata": {},
   "outputs": [
    {
     "data": {
      "image/png": "[encoded data removed]",
      "text/plain": [
       "<Figure size 504x360 with 1 Axes>"
      ]
     },
     "metadata": {
      "needs_background": "light"
     },
     "output_type": "display_data"
    },
    {
     "name": "stdout",
     "output_type": "stream",
     "text": [
      "BusinessTravelFrequency  PerformanceRating\n",
      "Non-Travel               3                     93\n",
      "                         2                     21\n",
      "                         4                     18\n",
      "Travel_Frequently        3                    154\n",
      "                         2                     37\n",
      "                         4                     31\n",
      "Travel_Rarely            3                    627\n",
      "                         2                    136\n",
      "                         4                     83\n",
      "Name: PerformanceRating, dtype: int64\n"
     ]
    }
   ],
   "source": [
    "from matplotlib import rcParams\n",
    "rcParams['figure.figsize'] = 7,5\n",
    "sns.barplot(x='BusinessTravelFrequency',y='PerformanceRating',data=df,color = 'cyan', edgecolor = 'green')\n",
    "plt.show()\n",
    "print(df.groupby('BusinessTravelFrequency').PerformanceRating.value_counts())"
   ]
  },
  {
   "cell_type": "code",
   "execution_count": 27,
   "metadata": {},
   "outputs": [
    {
     "data": {
      "text/html": [
       "<style  type=\"text/css\" >\n",
       "#T_1899412c_33c5_11eb_a1a5_40f02f99b4fdrow0_col0,#T_1899412c_33c5_11eb_a1a5_40f02f99b4fdrow0_col2,#T_1899412c_33c5_11eb_a1a5_40f02f99b4fdrow1_col1,#T_1899412c_33c5_11eb_a1a5_40f02f99b4fdrow2_col2{\n",
       "            background-color:  #ffff00;\n",
       "            color:  #000000;\n",
       "        }#T_1899412c_33c5_11eb_a1a5_40f02f99b4fdrow0_col1,#T_1899412c_33c5_11eb_a1a5_40f02f99b4fdrow1_col0,#T_1899412c_33c5_11eb_a1a5_40f02f99b4fdrow1_col2{\n",
       "            background-color:  #ff00ff;\n",
       "            color:  #f1f1f1;\n",
       "        }#T_1899412c_33c5_11eb_a1a5_40f02f99b4fdrow2_col0{\n",
       "            background-color:  #ffb649;\n",
       "            color:  #000000;\n",
       "        }#T_1899412c_33c5_11eb_a1a5_40f02f99b4fdrow2_col1{\n",
       "            background-color:  #ff55aa;\n",
       "            color:  #000000;\n",
       "        }</style><table id=\"T_1899412c_33c5_11eb_a1a5_40f02f99b4fd\" ><thead>    <tr>        <th class=\"index_name level0\" >PerformanceRating</th>        <th class=\"col_heading level0 col0\" >2</th>        <th class=\"col_heading level0 col1\" >3</th>        <th class=\"col_heading level0 col2\" >4</th>    </tr>    <tr>        <th class=\"index_name level0\" >OverTime</th>        <th class=\"blank\" ></th>        <th class=\"blank\" ></th>        <th class=\"blank\" ></th>    </tr></thead><tbody>\n",
       "                <tr>\n",
       "                        <th id=\"T_1899412c_33c5_11eb_a1a5_40f02f99b4fdlevel0_row0\" class=\"row_heading level0 row0\" >No</th>\n",
       "                        <td id=\"T_1899412c_33c5_11eb_a1a5_40f02f99b4fdrow0_col0\" class=\"data row0 col0\" >0.180000</td>\n",
       "                        <td id=\"T_1899412c_33c5_11eb_a1a5_40f02f99b4fdrow0_col1\" class=\"data row0 col1\" >0.700000</td>\n",
       "                        <td id=\"T_1899412c_33c5_11eb_a1a5_40f02f99b4fdrow0_col2\" class=\"data row0 col2\" >0.110000</td>\n",
       "            </tr>\n",
       "            <tr>\n",
       "                        <th id=\"T_1899412c_33c5_11eb_a1a5_40f02f99b4fdlevel0_row1\" class=\"row_heading level0 row1\" >Yes</th>\n",
       "                        <td id=\"T_1899412c_33c5_11eb_a1a5_40f02f99b4fdrow1_col0\" class=\"data row1 col0\" >0.110000</td>\n",
       "                        <td id=\"T_1899412c_33c5_11eb_a1a5_40f02f99b4fdrow1_col1\" class=\"data row1 col1\" >0.790000</td>\n",
       "                        <td id=\"T_1899412c_33c5_11eb_a1a5_40f02f99b4fdrow1_col2\" class=\"data row1 col2\" >0.100000</td>\n",
       "            </tr>\n",
       "            <tr>\n",
       "                        <th id=\"T_1899412c_33c5_11eb_a1a5_40f02f99b4fdlevel0_row2\" class=\"row_heading level0 row2\" >All</th>\n",
       "                        <td id=\"T_1899412c_33c5_11eb_a1a5_40f02f99b4fdrow2_col0\" class=\"data row2 col0\" >0.160000</td>\n",
       "                        <td id=\"T_1899412c_33c5_11eb_a1a5_40f02f99b4fdrow2_col1\" class=\"data row2 col1\" >0.730000</td>\n",
       "                        <td id=\"T_1899412c_33c5_11eb_a1a5_40f02f99b4fdrow2_col2\" class=\"data row2 col2\" >0.110000</td>\n",
       "            </tr>\n",
       "    </tbody></table>"
      ],
      "text/plain": [
       "<pandas.io.formats.style.Styler at 0x2326903a408>"
      ]
     },
     "execution_count": 27,
     "metadata": {},
     "output_type": "execute_result"
    },
    {
     "data": {
      "image/png": "[encoded data removed]",
      "text/plain": [
       "<Figure size 720x432 with 1 Axes>"
      ]
     },
     "metadata": {
      "needs_background": "light"
     },
     "output_type": "display_data"
    }
   ],
   "source": [
    "df.groupby('OverTime')['PerformanceRating']\\\n",
    "    .value_counts()\\\n",
    "    .unstack(level=1)\\\n",
    "    .plot.bar(stacked=False,figsize=(10,6))\n",
    "pd.crosstab(df.OverTime, df.PerformanceRating, margins=True, normalize='index').round(2).style.background_gradient(cmap='spring')"
   ]
  },
  {
   "cell_type": "code",
   "execution_count": 28,
   "metadata": {},
   "outputs": [
    {
     "data": {
      "text/html": [
       "<style  type=\"text/css\" >\n",
       "#T_1944c322_33c5_11eb_bfe7_40f02f99b4fdrow0_col0,#T_1944c322_33c5_11eb_bfe7_40f02f99b4fdrow1_col1,#T_1944c322_33c5_11eb_bfe7_40f02f99b4fdrow1_col2{\n",
       "            background-color:  #ff00ff;\n",
       "            color:  #f1f1f1;\n",
       "        }#T_1944c322_33c5_11eb_bfe7_40f02f99b4fdrow0_col1,#T_1944c322_33c5_11eb_bfe7_40f02f99b4fdrow0_col2,#T_1944c322_33c5_11eb_bfe7_40f02f99b4fdrow1_col0,#T_1944c322_33c5_11eb_bfe7_40f02f99b4fdrow2_col1,#T_1944c322_33c5_11eb_bfe7_40f02f99b4fdrow2_col2{\n",
       "            background-color:  #ffff00;\n",
       "            color:  #000000;\n",
       "        }#T_1944c322_33c5_11eb_bfe7_40f02f99b4fdrow2_col0{\n",
       "            background-color:  #ff33cc;\n",
       "            color:  #000000;\n",
       "        }</style><table id=\"T_1944c322_33c5_11eb_bfe7_40f02f99b4fd\" ><thead>    <tr>        <th class=\"index_name level0\" >PerformanceRating</th>        <th class=\"col_heading level0 col0\" >2</th>        <th class=\"col_heading level0 col1\" >3</th>        <th class=\"col_heading level0 col2\" >4</th>    </tr>    <tr>        <th class=\"index_name level0\" >Attrition</th>        <th class=\"blank\" ></th>        <th class=\"blank\" ></th>        <th class=\"blank\" ></th>    </tr></thead><tbody>\n",
       "                <tr>\n",
       "                        <th id=\"T_1944c322_33c5_11eb_bfe7_40f02f99b4fdlevel0_row0\" class=\"row_heading level0 row0\" >No</th>\n",
       "                        <td id=\"T_1944c322_33c5_11eb_bfe7_40f02f99b4fdrow0_col0\" class=\"data row0 col0\" >0.150000</td>\n",
       "                        <td id=\"T_1944c322_33c5_11eb_bfe7_40f02f99b4fdrow0_col1\" class=\"data row0 col1\" >0.730000</td>\n",
       "                        <td id=\"T_1944c322_33c5_11eb_bfe7_40f02f99b4fdrow0_col2\" class=\"data row0 col2\" >0.110000</td>\n",
       "            </tr>\n",
       "            <tr>\n",
       "                        <th id=\"T_1944c322_33c5_11eb_bfe7_40f02f99b4fdlevel0_row1\" class=\"row_heading level0 row1\" >Yes</th>\n",
       "                        <td id=\"T_1944c322_33c5_11eb_bfe7_40f02f99b4fdrow1_col0\" class=\"data row1 col0\" >0.200000</td>\n",
       "                        <td id=\"T_1944c322_33c5_11eb_bfe7_40f02f99b4fdrow1_col1\" class=\"data row1 col1\" >0.700000</td>\n",
       "                        <td id=\"T_1944c322_33c5_11eb_bfe7_40f02f99b4fdrow1_col2\" class=\"data row1 col2\" >0.100000</td>\n",
       "            </tr>\n",
       "            <tr>\n",
       "                        <th id=\"T_1944c322_33c5_11eb_bfe7_40f02f99b4fdlevel0_row2\" class=\"row_heading level0 row2\" >All</th>\n",
       "                        <td id=\"T_1944c322_33c5_11eb_bfe7_40f02f99b4fdrow2_col0\" class=\"data row2 col0\" >0.160000</td>\n",
       "                        <td id=\"T_1944c322_33c5_11eb_bfe7_40f02f99b4fdrow2_col1\" class=\"data row2 col1\" >0.730000</td>\n",
       "                        <td id=\"T_1944c322_33c5_11eb_bfe7_40f02f99b4fdrow2_col2\" class=\"data row2 col2\" >0.110000</td>\n",
       "            </tr>\n",
       "    </tbody></table>"
      ],
      "text/plain": [
       "<pandas.io.formats.style.Styler at 0x23268f3c2c8>"
      ]
     },
     "execution_count": 28,
     "metadata": {},
     "output_type": "execute_result"
    },
    {
     "data": {
      "image/png": "[encoded data removed]",
      "text/plain": [
       "<Figure size 720x432 with 1 Axes>"
      ]
     },
     "metadata": {
      "needs_background": "light"
     },
     "output_type": "display_data"
    }
   ],
   "source": [
    "df.groupby('Attrition')['PerformanceRating']\\\n",
    "    .value_counts()\\\n",
    "    .unstack(level=1)\\\n",
    "    .plot.bar(stacked=False,figsize=(10,6))\n",
    "pd.crosstab(df.Attrition, df.PerformanceRating, margins=True, normalize='index').round(2).style.background_gradient(cmap='spring')"
   ]
  },
  {
   "cell_type": "markdown",
   "metadata": {},
   "source": [
    "#### we can assume that performance rating is depends on number of employees working in the perticular department,overtime of the employees increase the Performance rating and those who has good performance rate is unlikely to leave the organization."
   ]
  },
  {
   "cell_type": "markdown",
   "metadata": {},
   "source": [
    "## Distribution of Numerical Features"
   ]
  },
  {
   "cell_type": "code",
   "execution_count": 29,
   "metadata": {},
   "outputs": [
    {
     "name": "stdout",
     "output_type": "stream",
     "text": [
      "Index(['Age', 'DistanceFromHome', 'EmpEducationLevel',\n",
      "       'EmpEnvironmentSatisfaction', 'EmpHourlyRate', 'EmpJobInvolvement',\n",
      "       'EmpJobLevel', 'EmpJobSatisfaction', 'NumCompaniesWorked',\n",
      "       'EmpLastSalaryHikePercent', 'EmpRelationshipSatisfaction',\n",
      "       'TotalWorkExperienceInYears', 'TrainingTimesLastYear',\n",
      "       'EmpWorkLifeBalance', 'ExperienceYearsAtThisCompany',\n",
      "       'ExperienceYearsInCurrentRole', 'YearsSinceLastPromotion',\n",
      "       'YearsWithCurrManager', 'PerformanceRating'],\n",
      "      dtype='object')\n",
      "(19,)\n"
     ]
    }
   ],
   "source": [
    "Numeric_feature = df.columns[df.dtypes!='object']\n",
    "print(Numeric_feature)\n",
    "print(Numeric_feature.shape)"
   ]
  },
  {
   "cell_type": "code",
   "execution_count": 30,
   "metadata": {},
   "outputs": [
    {
     "data": {
      "image/png": "[encoded data removed]",
      "text/plain": [
       "<Figure size 432x288 with 1 Axes>"
      ]
     },
     "metadata": {
      "needs_background": "light"
     },
     "output_type": "display_data"
    },
    {
     "data": {
      "image/png": "[encoded data removed]",
      "text/plain": [
       "<Figure size 432x288 with 1 Axes>"
      ]
     },
     "metadata": {
      "needs_background": "light"
     },
     "output_type": "display_data"
    },
    {
     "data": {
      "image/png": "[encoded data removed]",
      "text/plain": [
       "<Figure size 432x288 with 1 Axes>"
      ]
     },
     "metadata": {
      "needs_background": "light"
     },
     "output_type": "display_data"
    },
    {
     "data": {
      "image/png": "[encoded data removed]",
      "text/plain": [
       "<Figure size 432x288 with 1 Axes>"
      ]
     },
     "metadata": {
      "needs_background": "light"
     },
     "output_type": "display_data"
    },
    {
     "data": {
      "image/png": "[encoded data removed]",
      "text/plain": [
       "<Figure size 432x288 with 1 Axes>"
      ]
     },
     "metadata": {
      "needs_background": "light"
     },
     "output_type": "display_data"
    },
    {
     "data": {
      "image/png": "[encoded data removed]",
      "text/plain": [
       "<Figure size 432x288 with 1 Axes>"
      ]
     },
     "metadata": {
      "needs_background": "light"
     },
     "output_type": "display_data"
    },
    {
     "data": {
      "image/png": "[encoded data removed]",
      "text/plain": [
       "<Figure size 432x288 with 1 Axes>"
      ]
     },
     "metadata": {
      "needs_background": "light"
     },
     "output_type": "display_data"
    },
    {
     "data": {
      "image/png": "[encoded data removed]",
      "text/plain": [
       "<Figure size 432x288 with 1 Axes>"
      ]
     },
     "metadata": {
      "needs_background": "light"
     },
     "output_type": "display_data"
    },
    {
     "data": {
      "image/png": "[encoded data removed]",
      "text/plain": [
       "<Figure size 432x288 with 1 Axes>"
      ]
     },
     "metadata": {
      "needs_background": "light"
     },
     "output_type": "display_data"
    },
    {
     "data": {
      "image/png": "[encoded data removed]",
      "text/plain": [
       "<Figure size 432x288 with 1 Axes>"
      ]
     },
     "metadata": {
      "needs_background": "light"
     },
     "output_type": "display_data"
    },
    {
     "data": {
      "image/png": "[encoded data removed]",
      "text/plain": [
       "<Figure size 432x288 with 1 Axes>"
      ]
     },
     "metadata": {
      "needs_background": "light"
     },
     "output_type": "display_data"
    },
    {
     "data": {
      "image/png": "[encoded data removed]",
      "text/plain": [
       "<Figure size 432x288 with 1 Axes>"
      ]
     },
     "metadata": {
      "needs_background": "light"
     },
     "output_type": "display_data"
    },
    {
     "data": {
      "image/png": "[encoded data removed]",
      "text/plain": [
       "<Figure size 432x288 with 1 Axes>"
      ]
     },
     "metadata": {
      "needs_background": "light"
     },
     "output_type": "display_data"
    },
    {
     "data": {
      "image/png": "[encoded data removed]",
      "text/plain": [
       "<Figure size 432x288 with 1 Axes>"
      ]
     },
     "metadata": {
      "needs_background": "light"
     },
     "output_type": "display_data"
    },
    {
     "data": {
      "image/png": "[encoded data removed]",
      "text/plain": [
       "<Figure size 432x288 with 1 Axes>"
      ]
     },
     "metadata": {
      "needs_background": "light"
     },
     "output_type": "display_data"
    },
    {
     "data": {
      "image/png": "[encoded data removed]",
      "text/plain": [
       "<Figure size 432x288 with 1 Axes>"
      ]
     },
     "metadata": {
      "needs_background": "light"
     },
     "output_type": "display_data"
    },
    {
     "data": {
      "image/png": "[encoded data removed]",
      "text/plain": [
       "<Figure size 432x288 with 1 Axes>"
      ]
     },
     "metadata": {
      "needs_background": "light"
     },
     "output_type": "display_data"
    },
    {
     "data": {
      "image/png": "[encoded data removed]",
      "text/plain": [
       "<Figure size 432x288 with 1 Axes>"
      ]
     },
     "metadata": {
      "needs_background": "light"
     },
     "output_type": "display_data"
    },
    {
     "data": {
      "image/png": "[encoded data removed]",
      "text/plain": [
       "<Figure size 432x288 with 1 Axes>"
      ]
     },
     "metadata": {
      "needs_background": "light"
     },
     "output_type": "display_data"
    }
   ],
   "source": [
    "for feature in df[Numeric_feature]:\n",
    "    data=df.copy()\n",
    "    plt.figure(figsize=(6,4))\n",
    "    plt.hist(df[feature])\n",
    "    plt.title(feature)\n",
    "    plt.show()"
   ]
  },
  {
   "cell_type": "markdown",
   "metadata": {},
   "source": [
    "#### This help us determine, among other early insights,how representative is the training dataset of the actual problem domain,the distribution can be derived or visualized between the numerical or categorical features present in the data."
   ]
  },
  {
   "cell_type": "markdown",
   "metadata": {},
   "source": [
    "#### The age distribution starting from 18 to 60 where most of the employees are lying between 30-40 age count"
   ]
  },
  {
   "cell_type": "markdown",
   "metadata": {},
   "source": [
    "#### The distance from home to office is distributing from 0 unit to 30 unit which can be kilometre or mile. The most of the employees are coming from the range of 0 to 5 units."
   ]
  },
  {
   "cell_type": "markdown",
   "metadata": {},
   "source": [
    "#### The hourly rate range is 65 to 95 for majority employees work in this company."
   ]
  },
  {
   "cell_type": "markdown",
   "metadata": {},
   "source": [
    "#### In General, Most of Employees work up to 5 years in this company."
   ]
  },
  {
   "cell_type": "markdown",
   "metadata": {},
   "source": [
    "#### Most of the employees get 11% to 15% of salary hike in this company."
   ]
  },
  {
   "cell_type": "markdown",
   "metadata": {},
   "source": [
    "## Feature Engineering "
   ]
  },
  {
   "cell_type": "code",
   "execution_count": 31,
   "metadata": {},
   "outputs": [
    {
     "data": {
      "text/html": [
       "<div>\n",
       "<style scoped>\n",
       "    .dataframe tbody tr th:only-of-type {\n",
       "        vertical-align: middle;\n",
       "    }\n",
       "\n",
       "    .dataframe tbody tr th {\n",
       "        vertical-align: top;\n",
       "    }\n",
       "\n",
       "    .dataframe thead th {\n",
       "        text-align: right;\n",
       "    }\n",
       "</style>\n",
       "<table border=\"1\" class=\"dataframe\">\n",
       "  <thead>\n",
       "    <tr style=\"text-align: right;\">\n",
       "      <th></th>\n",
       "      <th>Age</th>\n",
       "      <th>Gender</th>\n",
       "      <th>EducationBackground</th>\n",
       "      <th>MaritalStatus</th>\n",
       "      <th>EmpDepartment</th>\n",
       "      <th>EmpJobRole</th>\n",
       "      <th>BusinessTravelFrequency</th>\n",
       "      <th>DistanceFromHome</th>\n",
       "      <th>EmpEducationLevel</th>\n",
       "      <th>EmpEnvironmentSatisfaction</th>\n",
       "      <th>...</th>\n",
       "      <th>EmpRelationshipSatisfaction</th>\n",
       "      <th>TotalWorkExperienceInYears</th>\n",
       "      <th>TrainingTimesLastYear</th>\n",
       "      <th>EmpWorkLifeBalance</th>\n",
       "      <th>ExperienceYearsAtThisCompany</th>\n",
       "      <th>ExperienceYearsInCurrentRole</th>\n",
       "      <th>YearsSinceLastPromotion</th>\n",
       "      <th>YearsWithCurrManager</th>\n",
       "      <th>Attrition</th>\n",
       "      <th>PerformanceRating</th>\n",
       "    </tr>\n",
       "  </thead>\n",
       "  <tbody>\n",
       "    <tr>\n",
       "      <th>0</th>\n",
       "      <td>32</td>\n",
       "      <td>Male</td>\n",
       "      <td>Marketing</td>\n",
       "      <td>Single</td>\n",
       "      <td>Sales</td>\n",
       "      <td>Sales Executive</td>\n",
       "      <td>Travel_Rarely</td>\n",
       "      <td>10</td>\n",
       "      <td>3</td>\n",
       "      <td>4</td>\n",
       "      <td>...</td>\n",
       "      <td>4</td>\n",
       "      <td>10</td>\n",
       "      <td>2</td>\n",
       "      <td>2</td>\n",
       "      <td>10</td>\n",
       "      <td>7</td>\n",
       "      <td>0</td>\n",
       "      <td>8</td>\n",
       "      <td>No</td>\n",
       "      <td>3</td>\n",
       "    </tr>\n",
       "    <tr>\n",
       "      <th>1</th>\n",
       "      <td>47</td>\n",
       "      <td>Male</td>\n",
       "      <td>Marketing</td>\n",
       "      <td>Single</td>\n",
       "      <td>Sales</td>\n",
       "      <td>Sales Executive</td>\n",
       "      <td>Travel_Rarely</td>\n",
       "      <td>14</td>\n",
       "      <td>4</td>\n",
       "      <td>4</td>\n",
       "      <td>...</td>\n",
       "      <td>4</td>\n",
       "      <td>20</td>\n",
       "      <td>2</td>\n",
       "      <td>3</td>\n",
       "      <td>7</td>\n",
       "      <td>7</td>\n",
       "      <td>1</td>\n",
       "      <td>7</td>\n",
       "      <td>No</td>\n",
       "      <td>3</td>\n",
       "    </tr>\n",
       "    <tr>\n",
       "      <th>2</th>\n",
       "      <td>40</td>\n",
       "      <td>Male</td>\n",
       "      <td>Life Sciences</td>\n",
       "      <td>Married</td>\n",
       "      <td>Sales</td>\n",
       "      <td>Sales Executive</td>\n",
       "      <td>Travel_Frequently</td>\n",
       "      <td>5</td>\n",
       "      <td>4</td>\n",
       "      <td>4</td>\n",
       "      <td>...</td>\n",
       "      <td>3</td>\n",
       "      <td>20</td>\n",
       "      <td>2</td>\n",
       "      <td>3</td>\n",
       "      <td>18</td>\n",
       "      <td>13</td>\n",
       "      <td>1</td>\n",
       "      <td>12</td>\n",
       "      <td>No</td>\n",
       "      <td>4</td>\n",
       "    </tr>\n",
       "    <tr>\n",
       "      <th>3</th>\n",
       "      <td>41</td>\n",
       "      <td>Male</td>\n",
       "      <td>Human Resources</td>\n",
       "      <td>Divorced</td>\n",
       "      <td>Human Resources</td>\n",
       "      <td>Manager</td>\n",
       "      <td>Travel_Rarely</td>\n",
       "      <td>10</td>\n",
       "      <td>4</td>\n",
       "      <td>2</td>\n",
       "      <td>...</td>\n",
       "      <td>2</td>\n",
       "      <td>23</td>\n",
       "      <td>2</td>\n",
       "      <td>2</td>\n",
       "      <td>21</td>\n",
       "      <td>6</td>\n",
       "      <td>12</td>\n",
       "      <td>6</td>\n",
       "      <td>No</td>\n",
       "      <td>3</td>\n",
       "    </tr>\n",
       "    <tr>\n",
       "      <th>4</th>\n",
       "      <td>60</td>\n",
       "      <td>Male</td>\n",
       "      <td>Marketing</td>\n",
       "      <td>Single</td>\n",
       "      <td>Sales</td>\n",
       "      <td>Sales Executive</td>\n",
       "      <td>Travel_Rarely</td>\n",
       "      <td>16</td>\n",
       "      <td>4</td>\n",
       "      <td>1</td>\n",
       "      <td>...</td>\n",
       "      <td>4</td>\n",
       "      <td>10</td>\n",
       "      <td>1</td>\n",
       "      <td>3</td>\n",
       "      <td>2</td>\n",
       "      <td>2</td>\n",
       "      <td>2</td>\n",
       "      <td>2</td>\n",
       "      <td>No</td>\n",
       "      <td>3</td>\n",
       "    </tr>\n",
       "  </tbody>\n",
       "</table>\n",
       "<p>5 rows × 27 columns</p>\n",
       "</div>"
      ],
      "text/plain": [
       "   Age Gender EducationBackground MaritalStatus    EmpDepartment  \\\n",
       "0   32   Male           Marketing        Single            Sales   \n",
       "1   47   Male           Marketing        Single            Sales   \n",
       "2   40   Male       Life Sciences       Married            Sales   \n",
       "3   41   Male     Human Resources      Divorced  Human Resources   \n",
       "4   60   Male           Marketing        Single            Sales   \n",
       "\n",
       "        EmpJobRole BusinessTravelFrequency  DistanceFromHome  \\\n",
       "0  Sales Executive           Travel_Rarely                10   \n",
       "1  Sales Executive           Travel_Rarely                14   \n",
       "2  Sales Executive       Travel_Frequently                 5   \n",
       "3          Manager           Travel_Rarely                10   \n",
       "4  Sales Executive           Travel_Rarely                16   \n",
       "\n",
       "   EmpEducationLevel  EmpEnvironmentSatisfaction  ...  \\\n",
       "0                  3                           4  ...   \n",
       "1                  4                           4  ...   \n",
       "2                  4                           4  ...   \n",
       "3                  4                           2  ...   \n",
       "4                  4                           1  ...   \n",
       "\n",
       "   EmpRelationshipSatisfaction  TotalWorkExperienceInYears  \\\n",
       "0                            4                          10   \n",
       "1                            4                          20   \n",
       "2                            3                          20   \n",
       "3                            2                          23   \n",
       "4                            4                          10   \n",
       "\n",
       "   TrainingTimesLastYear  EmpWorkLifeBalance  ExperienceYearsAtThisCompany  \\\n",
       "0                      2                   2                            10   \n",
       "1                      2                   3                             7   \n",
       "2                      2                   3                            18   \n",
       "3                      2                   2                            21   \n",
       "4                      1                   3                             2   \n",
       "\n",
       "  ExperienceYearsInCurrentRole  YearsSinceLastPromotion  YearsWithCurrManager  \\\n",
       "0                            7                        0                     8   \n",
       "1                            7                        1                     7   \n",
       "2                           13                        1                    12   \n",
       "3                            6                       12                     6   \n",
       "4                            2                        2                     2   \n",
       "\n",
       "   Attrition  PerformanceRating  \n",
       "0         No                  3  \n",
       "1         No                  3  \n",
       "2         No                  4  \n",
       "3         No                  3  \n",
       "4         No                  3  \n",
       "\n",
       "[5 rows x 27 columns]"
      ]
     },
     "execution_count": 31,
     "metadata": {},
     "output_type": "execute_result"
    }
   ],
   "source": [
    "df.head()"
   ]
  },
  {
   "cell_type": "code",
   "execution_count": 32,
   "metadata": {},
   "outputs": [],
   "source": [
    "#handling the Categorical features with encode techinque \n",
    "from sklearn.preprocessing import LabelEncoder\n",
    "enc=LabelEncoder()"
   ]
  },
  {
   "cell_type": "code",
   "execution_count": 33,
   "metadata": {},
   "outputs": [],
   "source": [
    "df[['Gender', 'EducationBackground', 'MaritalStatus', 'EmpDepartment','EmpJobRole', 'BusinessTravelFrequency', 'OverTime', 'Attrition']]=df[['Gender', 'EducationBackground', 'MaritalStatus', 'EmpDepartment','EmpJobRole', 'BusinessTravelFrequency', 'OverTime', 'Attrition']].apply(enc.fit_transform)"
   ]
  },
  {
   "cell_type": "code",
   "execution_count": 34,
   "metadata": {},
   "outputs": [
    {
     "data": {
      "text/html": [
       "<div>\n",
       "<style scoped>\n",
       "    .dataframe tbody tr th:only-of-type {\n",
       "        vertical-align: middle;\n",
       "    }\n",
       "\n",
       "    .dataframe tbody tr th {\n",
       "        vertical-align: top;\n",
       "    }\n",
       "\n",
       "    .dataframe thead th {\n",
       "        text-align: right;\n",
       "    }\n",
       "</style>\n",
       "<table border=\"1\" class=\"dataframe\">\n",
       "  <thead>\n",
       "    <tr style=\"text-align: right;\">\n",
       "      <th></th>\n",
       "      <th>Age</th>\n",
       "      <th>Gender</th>\n",
       "      <th>EducationBackground</th>\n",
       "      <th>MaritalStatus</th>\n",
       "      <th>EmpDepartment</th>\n",
       "      <th>EmpJobRole</th>\n",
       "      <th>BusinessTravelFrequency</th>\n",
       "      <th>DistanceFromHome</th>\n",
       "      <th>EmpEducationLevel</th>\n",
       "      <th>EmpEnvironmentSatisfaction</th>\n",
       "      <th>...</th>\n",
       "      <th>EmpRelationshipSatisfaction</th>\n",
       "      <th>TotalWorkExperienceInYears</th>\n",
       "      <th>TrainingTimesLastYear</th>\n",
       "      <th>EmpWorkLifeBalance</th>\n",
       "      <th>ExperienceYearsAtThisCompany</th>\n",
       "      <th>ExperienceYearsInCurrentRole</th>\n",
       "      <th>YearsSinceLastPromotion</th>\n",
       "      <th>YearsWithCurrManager</th>\n",
       "      <th>Attrition</th>\n",
       "      <th>PerformanceRating</th>\n",
       "    </tr>\n",
       "  </thead>\n",
       "  <tbody>\n",
       "    <tr>\n",
       "      <th>0</th>\n",
       "      <td>32</td>\n",
       "      <td>1</td>\n",
       "      <td>2</td>\n",
       "      <td>2</td>\n",
       "      <td>5</td>\n",
       "      <td>13</td>\n",
       "      <td>2</td>\n",
       "      <td>10</td>\n",
       "      <td>3</td>\n",
       "      <td>4</td>\n",
       "      <td>...</td>\n",
       "      <td>4</td>\n",
       "      <td>10</td>\n",
       "      <td>2</td>\n",
       "      <td>2</td>\n",
       "      <td>10</td>\n",
       "      <td>7</td>\n",
       "      <td>0</td>\n",
       "      <td>8</td>\n",
       "      <td>0</td>\n",
       "      <td>3</td>\n",
       "    </tr>\n",
       "    <tr>\n",
       "      <th>1</th>\n",
       "      <td>47</td>\n",
       "      <td>1</td>\n",
       "      <td>2</td>\n",
       "      <td>2</td>\n",
       "      <td>5</td>\n",
       "      <td>13</td>\n",
       "      <td>2</td>\n",
       "      <td>14</td>\n",
       "      <td>4</td>\n",
       "      <td>4</td>\n",
       "      <td>...</td>\n",
       "      <td>4</td>\n",
       "      <td>20</td>\n",
       "      <td>2</td>\n",
       "      <td>3</td>\n",
       "      <td>7</td>\n",
       "      <td>7</td>\n",
       "      <td>1</td>\n",
       "      <td>7</td>\n",
       "      <td>0</td>\n",
       "      <td>3</td>\n",
       "    </tr>\n",
       "    <tr>\n",
       "      <th>2</th>\n",
       "      <td>40</td>\n",
       "      <td>1</td>\n",
       "      <td>1</td>\n",
       "      <td>1</td>\n",
       "      <td>5</td>\n",
       "      <td>13</td>\n",
       "      <td>1</td>\n",
       "      <td>5</td>\n",
       "      <td>4</td>\n",
       "      <td>4</td>\n",
       "      <td>...</td>\n",
       "      <td>3</td>\n",
       "      <td>20</td>\n",
       "      <td>2</td>\n",
       "      <td>3</td>\n",
       "      <td>18</td>\n",
       "      <td>13</td>\n",
       "      <td>1</td>\n",
       "      <td>12</td>\n",
       "      <td>0</td>\n",
       "      <td>4</td>\n",
       "    </tr>\n",
       "    <tr>\n",
       "      <th>3</th>\n",
       "      <td>41</td>\n",
       "      <td>1</td>\n",
       "      <td>0</td>\n",
       "      <td>0</td>\n",
       "      <td>3</td>\n",
       "      <td>8</td>\n",
       "      <td>2</td>\n",
       "      <td>10</td>\n",
       "      <td>4</td>\n",
       "      <td>2</td>\n",
       "      <td>...</td>\n",
       "      <td>2</td>\n",
       "      <td>23</td>\n",
       "      <td>2</td>\n",
       "      <td>2</td>\n",
       "      <td>21</td>\n",
       "      <td>6</td>\n",
       "      <td>12</td>\n",
       "      <td>6</td>\n",
       "      <td>0</td>\n",
       "      <td>3</td>\n",
       "    </tr>\n",
       "    <tr>\n",
       "      <th>4</th>\n",
       "      <td>60</td>\n",
       "      <td>1</td>\n",
       "      <td>2</td>\n",
       "      <td>2</td>\n",
       "      <td>5</td>\n",
       "      <td>13</td>\n",
       "      <td>2</td>\n",
       "      <td>16</td>\n",
       "      <td>4</td>\n",
       "      <td>1</td>\n",
       "      <td>...</td>\n",
       "      <td>4</td>\n",
       "      <td>10</td>\n",
       "      <td>1</td>\n",
       "      <td>3</td>\n",
       "      <td>2</td>\n",
       "      <td>2</td>\n",
       "      <td>2</td>\n",
       "      <td>2</td>\n",
       "      <td>0</td>\n",
       "      <td>3</td>\n",
       "    </tr>\n",
       "  </tbody>\n",
       "</table>\n",
       "<p>5 rows × 27 columns</p>\n",
       "</div>"
      ],
      "text/plain": [
       "   Age  Gender  EducationBackground  MaritalStatus  EmpDepartment  EmpJobRole  \\\n",
       "0   32       1                    2              2              5          13   \n",
       "1   47       1                    2              2              5          13   \n",
       "2   40       1                    1              1              5          13   \n",
       "3   41       1                    0              0              3           8   \n",
       "4   60       1                    2              2              5          13   \n",
       "\n",
       "   BusinessTravelFrequency  DistanceFromHome  EmpEducationLevel  \\\n",
       "0                        2                10                  3   \n",
       "1                        2                14                  4   \n",
       "2                        1                 5                  4   \n",
       "3                        2                10                  4   \n",
       "4                        2                16                  4   \n",
       "\n",
       "   EmpEnvironmentSatisfaction  ...  EmpRelationshipSatisfaction  \\\n",
       "0                           4  ...                            4   \n",
       "1                           4  ...                            4   \n",
       "2                           4  ...                            3   \n",
       "3                           2  ...                            2   \n",
       "4                           1  ...                            4   \n",
       "\n",
       "   TotalWorkExperienceInYears  TrainingTimesLastYear  EmpWorkLifeBalance  \\\n",
       "0                          10                      2                   2   \n",
       "1                          20                      2                   3   \n",
       "2                          20                      2                   3   \n",
       "3                          23                      2                   2   \n",
       "4                          10                      1                   3   \n",
       "\n",
       "   ExperienceYearsAtThisCompany  ExperienceYearsInCurrentRole  \\\n",
       "0                            10                             7   \n",
       "1                             7                             7   \n",
       "2                            18                            13   \n",
       "3                            21                             6   \n",
       "4                             2                             2   \n",
       "\n",
       "   YearsSinceLastPromotion  YearsWithCurrManager  Attrition  PerformanceRating  \n",
       "0                        0                     8          0                  3  \n",
       "1                        1                     7          0                  3  \n",
       "2                        1                    12          0                  4  \n",
       "3                       12                     6          0                  3  \n",
       "4                        2                     2          0                  3  \n",
       "\n",
       "[5 rows x 27 columns]"
      ]
     },
     "execution_count": 34,
     "metadata": {},
     "output_type": "execute_result"
    }
   ],
   "source": [
    "df.head()"
   ]
  },
  {
   "cell_type": "code",
   "execution_count": 35,
   "metadata": {},
   "outputs": [
    {
     "data": {
      "text/plain": [
       "(1200, 27)"
      ]
     },
     "execution_count": 35,
     "metadata": {},
     "output_type": "execute_result"
    }
   ],
   "source": [
    "df.shape"
   ]
  },
  {
   "cell_type": "code",
   "execution_count": 36,
   "metadata": {},
   "outputs": [],
   "source": [
    "# split data in dependent and independent features \n",
    "X=df.drop(['PerformanceRating'],axis=1)\n",
    "y=df['PerformanceRating']"
   ]
  },
  {
   "cell_type": "markdown",
   "metadata": {},
   "source": [
    "## Feature importance and Selection "
   ]
  },
  {
   "cell_type": "code",
   "execution_count": 37,
   "metadata": {},
   "outputs": [
    {
     "data": {
      "text/plain": [
       "ExtraTreesRegressor()"
      ]
     },
     "execution_count": 37,
     "metadata": {},
     "output_type": "execute_result"
    }
   ],
   "source": [
    "from sklearn.ensemble import ExtraTreesRegressor\n",
    "model=ExtraTreesRegressor()\n",
    "model.fit(X,y)"
   ]
  },
  {
   "cell_type": "code",
   "execution_count": 38,
   "metadata": {},
   "outputs": [
    {
     "data": {
      "text/plain": [
       "array([0.0106124 , 0.00572249, 0.01019923, 0.00914928, 0.07138492,\n",
       "       0.02134405, 0.00852009, 0.01036255, 0.01126273, 0.23033424,\n",
       "       0.01181342, 0.0102989 , 0.00897277, 0.01063922, 0.00924906,\n",
       "       0.00610681, 0.23558009, 0.00969554, 0.00889363, 0.01452917,\n",
       "       0.04329075, 0.01575181, 0.05209215, 0.14620543, 0.02087679,\n",
       "       0.0071125 ])"
      ]
     },
     "execution_count": 38,
     "metadata": {},
     "output_type": "execute_result"
    }
   ],
   "source": [
    "model.feature_importances_"
   ]
  },
  {
   "cell_type": "code",
   "execution_count": 39,
   "metadata": {},
   "outputs": [
    {
     "data": {
      "text/plain": [
       "<AxesSubplot:>"
      ]
     },
     "execution_count": 39,
     "metadata": {},
     "output_type": "execute_result"
    },
    {
     "data": {
      "image/png": "[encoded data removed]",
      "text/plain": [
       "<Figure size 504x360 with 1 Axes>"
      ]
     },
     "metadata": {
      "needs_background": "light"
     },
     "output_type": "display_data"
    }
   ],
   "source": [
    "important_feature=pd.Series(data=model.feature_importances_,index=X.columns)\n",
    "important_feature.nlargest(20).plot(kind='barh')"
   ]
  },
  {
   "cell_type": "markdown",
   "metadata": {},
   "source": [
    "### The top three important features that affecting the employee Performance are \n",
    "Employment Environment Satisfaction,\n",
    "Employee Salary Hike Percentage,\n",
    "Years Since the last Promotion.\n",
    "\n"
   ]
  },
  {
   "cell_type": "code",
   "execution_count": 40,
   "metadata": {},
   "outputs": [],
   "source": [
    "# Lasso regression for select the important features for Modelling\n",
    "from sklearn.linear_model import Lasso\n",
    "from sklearn.feature_selection import SelectFromModel"
   ]
  },
  {
   "cell_type": "code",
   "execution_count": 41,
   "metadata": {},
   "outputs": [
    {
     "data": {
      "text/plain": [
       "SelectFromModel(estimator=Lasso(alpha=0.05, random_state=20))"
      ]
     },
     "execution_count": 41,
     "metadata": {},
     "output_type": "execute_result"
    }
   ],
   "source": [
    "feature_Selection_model=SelectFromModel(Lasso(alpha=0.05,random_state=20))\n",
    "feature_Selection_model.fit(X,y)"
   ]
  },
  {
   "cell_type": "code",
   "execution_count": 42,
   "metadata": {},
   "outputs": [
    {
     "data": {
      "text/plain": [
       "array([False, False, False, False,  True,  True, False,  True, False,\n",
       "        True,  True, False, False, False, False, False,  True, False,\n",
       "       False, False, False, False,  True,  True, False, False])"
      ]
     },
     "execution_count": 42,
     "metadata": {},
     "output_type": "execute_result"
    }
   ],
   "source": [
    "feature_Selection_model.get_support()"
   ]
  },
  {
   "cell_type": "code",
   "execution_count": 43,
   "metadata": {},
   "outputs": [
    {
     "name": "stdout",
     "output_type": "stream",
     "text": [
      "total features:26\n",
      "selected feature:8 \n",
      "feature with coeeficient sharnk to zero:18\n"
     ]
    }
   ],
   "source": [
    "selected_feature=X.columns[(feature_Selection_model.get_support())]\n",
    "print('total features:{}'.format((X.shape[1])))\n",
    "print('selected feature:{} '.format(len(selected_feature)))\n",
    "print('feature with coeeficient sharnk to zero:{}'.format(np.sum(feature_Selection_model.estimator_.coef_==0))) #skipped features"
   ]
  },
  {
   "cell_type": "code",
   "execution_count": 44,
   "metadata": {},
   "outputs": [],
   "source": [
    "# Splitting the data into train test\n",
    "from sklearn.model_selection import train_test_split\n",
    "X_train,X_test,y_train,y_test=train_test_split(X,y,test_size=0.3,random_state=10)"
   ]
  },
  {
   "cell_type": "markdown",
   "metadata": {},
   "source": [
    "## Implementing Machine learning Models "
   ]
  },
  {
   "cell_type": "markdown",
   "metadata": {},
   "source": [
    "### Logistic Regression "
   ]
  },
  {
   "cell_type": "code",
   "execution_count": 45,
   "metadata": {},
   "outputs": [
    {
     "data": {
      "text/plain": [
       "0.7944444444444444"
      ]
     },
     "execution_count": 45,
     "metadata": {},
     "output_type": "execute_result"
    }
   ],
   "source": [
    "from sklearn.metrics import accuracy_score,classification_report,confusion_matrix\n",
    "from sklearn.linear_model import LogisticRegression \n",
    "log_model=LogisticRegression()\n",
    "log_model.fit(X_train,y_train)\n",
    "y_predict=log_model.predict(X_test)\n",
    "LR_accuracy=accuracy_score(y_test,y_predict)\n",
    "LR_accuracy"
   ]
  },
  {
   "cell_type": "markdown",
   "metadata": {},
   "source": [
    "## KNN"
   ]
  },
  {
   "cell_type": "code",
   "execution_count": 46,
   "metadata": {},
   "outputs": [],
   "source": [
    "from sklearn.neighbors import KNeighborsClassifier"
   ]
  },
  {
   "cell_type": "code",
   "execution_count": 47,
   "metadata": {},
   "outputs": [
    {
     "data": {
      "text/plain": [
       "0.7333333333333333"
      ]
     },
     "execution_count": 47,
     "metadata": {},
     "output_type": "execute_result"
    }
   ],
   "source": [
    "knn_model=KNeighborsClassifier(n_neighbors=10)\n",
    "knn_model.fit(X_train,y_train)\n",
    "y_predict1=knn_model.predict(X_test)\n",
    "knn_accuracy=accuracy_score(y_test,y_predict1)\n",
    "knn_accuracy"
   ]
  },
  {
   "cell_type": "code",
   "execution_count": 48,
   "metadata": {},
   "outputs": [],
   "source": [
    "error_rate = []\n",
    "for i in range(1,40):\n",
    "    model = KNeighborsClassifier(n_neighbors=i)\n",
    "    model.fit(X_train,y_train)\n",
    "    pred_i = model.predict(X_test)\n",
    "    error_rate.append(np.mean(pred_i != y_test))"
   ]
  },
  {
   "cell_type": "code",
   "execution_count": 49,
   "metadata": {},
   "outputs": [
    {
     "data": {
      "text/plain": [
       "Text(0, 0.5, 'Error_rate')"
      ]
     },
     "execution_count": 49,
     "metadata": {},
     "output_type": "execute_result"
    },
    {
     "data": {
      "image/png": "[encoded data removed]",
      "text/plain": [
       "<Figure size 720x432 with 1 Axes>"
      ]
     },
     "metadata": {
      "needs_background": "light"
     },
     "output_type": "display_data"
    }
   ],
   "source": [
    "plt.figure(figsize=(10,6))\n",
    "plt.plot(range(1,40),error_rate,color='blue',linestyle='dashed',marker='o',markerfacecolor='green',markersize=10)\n",
    "plt.title('Error_rate vs K')\n",
    "plt.xlabel('K')\n",
    "plt.ylabel('Error_rate')"
   ]
  },
  {
   "cell_type": "code",
   "execution_count": 50,
   "metadata": {},
   "outputs": [
    {
     "data": {
      "text/plain": [
       "0.7444444444444445"
      ]
     },
     "execution_count": 50,
     "metadata": {},
     "output_type": "execute_result"
    }
   ],
   "source": [
    "knn_model=KNeighborsClassifier(n_neighbors=14)\n",
    "knn_model.fit(X_train,y_train)\n",
    "y_predict1=knn_model.predict(X_test)\n",
    "knn_accuracy=accuracy_score(y_test,y_predict1)\n",
    "knn_accuracy"
   ]
  },
  {
   "cell_type": "markdown",
   "metadata": {},
   "source": [
    "### SVM"
   ]
  },
  {
   "cell_type": "code",
   "execution_count": 51,
   "metadata": {},
   "outputs": [
    {
     "data": {
      "text/plain": [
       "0.7333333333333333"
      ]
     },
     "execution_count": 51,
     "metadata": {},
     "output_type": "execute_result"
    }
   ],
   "source": [
    "from sklearn.svm import SVC\n",
    "svm_model=SVC(C=2,gamma=1,kernel='rbf',random_state=10)  #c 0.1 to 1000 ,gamma 0.01 to 10\n",
    "svm_model.fit(X_train,y_train)\n",
    "y_predict2=svm_model.predict(X_test)\n",
    "accuracy_score(y_test,y_predict2)"
   ]
  },
  {
   "cell_type": "code",
   "execution_count": 52,
   "metadata": {},
   "outputs": [
    {
     "data": {
      "text/plain": [
       "GridSearchCV(estimator=SVC(),\n",
       "             param_grid={'C': [1, 10, 100, 500, 1000, 10000],\n",
       "                         'gamma': [0.01, 0.1, 0.5, 1.0], 'kernel': ['rbf']})"
      ]
     },
     "execution_count": 52,
     "metadata": {},
     "output_type": "execute_result"
    }
   ],
   "source": [
    "from sklearn.model_selection import GridSearchCV\n",
    "parameters = { 'kernel':['rbf'],\n",
    "                'C':[1,10,100,500,1000,10000],\n",
    "                'gamma' : [0.01,0.1,0.5,1.0]}\n",
    "grid_model = GridSearchCV(SVC(),parameters)\n",
    "grid_model.fit(X_train, y_train)"
   ]
  },
  {
   "cell_type": "code",
   "execution_count": 53,
   "metadata": {},
   "outputs": [
    {
     "data": {
      "text/plain": [
       "{'C': 1, 'gamma': 0.1, 'kernel': 'rbf'}"
      ]
     },
     "execution_count": 53,
     "metadata": {},
     "output_type": "execute_result"
    }
   ],
   "source": [
    "grid_model.best_params_"
   ]
  },
  {
   "cell_type": "code",
   "execution_count": 54,
   "metadata": {},
   "outputs": [
    {
     "data": {
      "text/plain": [
       "0.7333333333333333"
      ]
     },
     "execution_count": 54,
     "metadata": {},
     "output_type": "execute_result"
    }
   ],
   "source": [
    "from sklearn.svm import SVC\n",
    "svm_model=SVC(C=1, gamma=0.1,kernel='rbf',random_state=10)  #c 0.1 to 1000 ,gamma 0.01 to 10\n",
    "svm_model.fit(X_train,y_train)\n",
    "y_predict2=svm_model.predict(X_test)\n",
    "svm_accuracy=accuracy_score(y_test,y_predict2)\n",
    "svm_accuracy"
   ]
  },
  {
   "cell_type": "markdown",
   "metadata": {},
   "source": [
    "## Xgboost"
   ]
  },
  {
   "cell_type": "code",
   "execution_count": 55,
   "metadata": {},
   "outputs": [],
   "source": [
    "from xgboost import XGBClassifier"
   ]
  },
  {
   "cell_type": "code",
   "execution_count": 56,
   "metadata": {},
   "outputs": [
    {
     "data": {
      "text/plain": [
       "0.925"
      ]
     },
     "execution_count": 56,
     "metadata": {},
     "output_type": "execute_result"
    }
   ],
   "source": [
    "from sklearn.metrics import accuracy_score\n",
    "xgb_model=XGBClassifier()\n",
    "xgb_model.fit(X_train,y_train)\n",
    "y_predict3=xgb_model.predict(X_test)\n",
    "xgb_accuracy=accuracy_score(y_test,y_predict3)\n",
    "xgb_accuracy"
   ]
  },
  {
   "cell_type": "markdown",
   "metadata": {},
   "source": [
    "## Random Forest with GridSearchCV"
   ]
  },
  {
   "cell_type": "code",
   "execution_count": 57,
   "metadata": {},
   "outputs": [
    {
     "data": {
      "text/plain": [
       "GridSearchCV(cv=10,\n",
       "             estimator=RandomForestClassifier(n_estimators=23, random_state=33),\n",
       "             param_grid=[{'criterion': ['gini', 'entropy'],\n",
       "                          'min_samples_leaf': [1, 2, 3],\n",
       "                          'min_samples_split': [2, 3, 4, 5]}],\n",
       "             scoring='accuracy')"
      ]
     },
     "execution_count": 57,
     "metadata": {},
     "output_type": "execute_result"
    }
   ],
   "source": [
    "from sklearn.model_selection import GridSearchCV\n",
    "from sklearn.ensemble import RandomForestClassifier\n",
    "\n",
    "rfg_model=RandomForestClassifier(random_state=33,n_estimators=23)\n",
    "parameters=[{'min_samples_split':[2,3,4,5],'criterion':['gini','entropy'],'min_samples_leaf':[1,2,3]}]\n",
    "\n",
    "model_gridrf=GridSearchCV(estimator=rfg_model, param_grid=parameters, scoring='accuracy',cv=10)\n",
    "model_gridrf.fit(X_train,y_train)"
   ]
  },
  {
   "cell_type": "code",
   "execution_count": 58,
   "metadata": {},
   "outputs": [
    {
     "data": {
      "text/plain": [
       "{'criterion': 'entropy', 'min_samples_leaf': 1, 'min_samples_split': 5}"
      ]
     },
     "execution_count": 58,
     "metadata": {},
     "output_type": "execute_result"
    }
   ],
   "source": [
    "model_gridrf.best_params_"
   ]
  },
  {
   "cell_type": "code",
   "execution_count": 59,
   "metadata": {},
   "outputs": [
    {
     "data": {
      "text/plain": [
       "0.9138888888888889"
      ]
     },
     "execution_count": 59,
     "metadata": {},
     "output_type": "execute_result"
    }
   ],
   "source": [
    "# Predicting the model\n",
    "y_predict4= model_gridrf.predict(X_test)\n",
    "rfg_accuracy=accuracy_score(y_test,y_predict4)\n",
    "rfg_accuracy"
   ]
  },
  {
   "cell_type": "markdown",
   "metadata": {},
   "source": [
    "## Random Forest with RandomizedSearchCV"
   ]
  },
  {
   "cell_type": "code",
   "execution_count": 60,
   "metadata": {},
   "outputs": [],
   "source": [
    "from sklearn.ensemble import RandomForestClassifier\n",
    "rf = RandomForestClassifier()"
   ]
  },
  {
   "cell_type": "code",
   "execution_count": 61,
   "metadata": {},
   "outputs": [
    {
     "name": "stdout",
     "output_type": "stream",
     "text": [
      "[100, 200, 300, 400, 500, 600, 700, 800, 900, 1000, 1100, 1200]\n"
     ]
    }
   ],
   "source": [
    "n_estimators = [int(x) for x in np.linspace(start=100,stop=1200,num=12)]\n",
    "print(n_estimators)"
   ]
  },
  {
   "cell_type": "code",
   "execution_count": 62,
   "metadata": {},
   "outputs": [],
   "source": [
    "from sklearn.model_selection import RandomizedSearchCV"
   ]
  },
  {
   "cell_type": "code",
   "execution_count": 63,
   "metadata": {},
   "outputs": [],
   "source": [
    "n_estimators = [int(x) for x in np.linspace(start=100,stop=1200,num=12)]\n",
    "max_features = ['auto','sqrt']\n",
    "max_depth = [int(x) for x in np.linspace(5,30,num=6)]\n",
    "min_sample_split = [2,5,10,15,100]\n",
    "min_samples_leaf = [1,2,5,10]"
   ]
  },
  {
   "cell_type": "code",
   "execution_count": 64,
   "metadata": {},
   "outputs": [
    {
     "name": "stdout",
     "output_type": "stream",
     "text": [
      "{'n_estimators': [100, 200, 300, 400, 500, 600, 700, 800, 900, 1000, 1100, 1200], 'max_features': ['auto', 'sqrt'], 'max_depth': [5, 10, 15, 20, 25, 30], 'min_samples_split': [2, 5, 10, 15, 100], 'min_samples_leaf': [1, 2, 5, 10]}\n"
     ]
    }
   ],
   "source": [
    "random_grid = {'n_estimators':n_estimators,\n",
    "               'max_features':max_features,\n",
    "               'max_depth':max_depth,\n",
    "               'min_samples_split':min_sample_split,\n",
    "               'min_samples_leaf':min_samples_leaf}\n",
    "print(random_grid)"
   ]
  },
  {
   "cell_type": "code",
   "execution_count": 65,
   "metadata": {},
   "outputs": [],
   "source": [
    "rf = RandomForestClassifier()"
   ]
  },
  {
   "cell_type": "code",
   "execution_count": 66,
   "metadata": {},
   "outputs": [],
   "source": [
    "random_rf = RandomizedSearchCV(estimator=rf,param_distributions=random_grid,scoring='accuracy',n_iter=10,cv=5, verbose=2,random_state=10,n_jobs=1)"
   ]
  },
  {
   "cell_type": "code",
   "execution_count": 67,
   "metadata": {},
   "outputs": [
    {
     "name": "stdout",
     "output_type": "stream",
     "text": [
      "Fitting 5 folds for each of 10 candidates, totalling 50 fits\n",
      "[CV] n_estimators=600, min_samples_split=10, min_samples_leaf=2, max_features=sqrt, max_depth=15 \n"
     ]
    },
    {
     "name": "stderr",
     "output_type": "stream",
     "text": [
      "[Parallel(n_jobs=1)]: Using backend SequentialBackend with 1 concurrent workers.\n"
     ]
    },
    {
     "name": "stdout",
     "output_type": "stream",
     "text": [
      "[CV]  n_estimators=600, min_samples_split=10, min_samples_leaf=2, max_features=sqrt, max_depth=15, total=   4.8s\n",
      "[CV] n_estimators=600, min_samples_split=10, min_samples_leaf=2, max_features=sqrt, max_depth=15 \n"
     ]
    },
    {
     "name": "stderr",
     "output_type": "stream",
     "text": [
      "[Parallel(n_jobs=1)]: Done   1 out of   1 | elapsed:    4.7s remaining:    0.0s\n"
     ]
    },
    {
     "name": "stdout",
     "output_type": "stream",
     "text": [
      "[CV]  n_estimators=600, min_samples_split=10, min_samples_leaf=2, max_features=sqrt, max_depth=15, total=   5.0s\n",
      "[CV] n_estimators=600, min_samples_split=10, min_samples_leaf=2, max_features=sqrt, max_depth=15 \n",
      "[CV]  n_estimators=600, min_samples_split=10, min_samples_leaf=2, max_features=sqrt, max_depth=15, total=   5.0s\n",
      "[CV] n_estimators=600, min_samples_split=10, min_samples_leaf=2, max_features=sqrt, max_depth=15 \n",
      "[CV]  n_estimators=600, min_samples_split=10, min_samples_leaf=2, max_features=sqrt, max_depth=15, total=   6.6s\n",
      "[CV] n_estimators=600, min_samples_split=10, min_samples_leaf=2, max_features=sqrt, max_depth=15 \n",
      "[CV]  n_estimators=600, min_samples_split=10, min_samples_leaf=2, max_features=sqrt, max_depth=15, total=   5.3s\n",
      "[CV] n_estimators=1200, min_samples_split=15, min_samples_leaf=1, max_features=auto, max_depth=10 \n",
      "[CV]  n_estimators=1200, min_samples_split=15, min_samples_leaf=1, max_features=auto, max_depth=10, total=   9.9s\n",
      "[CV] n_estimators=1200, min_samples_split=15, min_samples_leaf=1, max_features=auto, max_depth=10 \n",
      "[CV]  n_estimators=1200, min_samples_split=15, min_samples_leaf=1, max_features=auto, max_depth=10, total=   9.6s\n",
      "[CV] n_estimators=1200, min_samples_split=15, min_samples_leaf=1, max_features=auto, max_depth=10 \n",
      "[CV]  n_estimators=1200, min_samples_split=15, min_samples_leaf=1, max_features=auto, max_depth=10, total=   9.8s\n",
      "[CV] n_estimators=1200, min_samples_split=15, min_samples_leaf=1, max_features=auto, max_depth=10 \n",
      "[CV]  n_estimators=1200, min_samples_split=15, min_samples_leaf=1, max_features=auto, max_depth=10, total=   9.6s\n",
      "[CV] n_estimators=1200, min_samples_split=15, min_samples_leaf=1, max_features=auto, max_depth=10 \n",
      "[CV]  n_estimators=1200, min_samples_split=15, min_samples_leaf=1, max_features=auto, max_depth=10, total=   9.7s\n",
      "[CV] n_estimators=100, min_samples_split=10, min_samples_leaf=5, max_features=sqrt, max_depth=15 \n",
      "[CV]  n_estimators=100, min_samples_split=10, min_samples_leaf=5, max_features=sqrt, max_depth=15, total=   0.8s\n",
      "[CV] n_estimators=100, min_samples_split=10, min_samples_leaf=5, max_features=sqrt, max_depth=15 \n",
      "[CV]  n_estimators=100, min_samples_split=10, min_samples_leaf=5, max_features=sqrt, max_depth=15, total=   0.8s\n",
      "[CV] n_estimators=100, min_samples_split=10, min_samples_leaf=5, max_features=sqrt, max_depth=15 \n",
      "[CV]  n_estimators=100, min_samples_split=10, min_samples_leaf=5, max_features=sqrt, max_depth=15, total=   0.9s\n",
      "[CV] n_estimators=100, min_samples_split=10, min_samples_leaf=5, max_features=sqrt, max_depth=15 \n",
      "[CV]  n_estimators=100, min_samples_split=10, min_samples_leaf=5, max_features=sqrt, max_depth=15, total=   0.9s\n",
      "[CV] n_estimators=100, min_samples_split=10, min_samples_leaf=5, max_features=sqrt, max_depth=15 \n",
      "[CV]  n_estimators=100, min_samples_split=10, min_samples_leaf=5, max_features=sqrt, max_depth=15, total=   0.8s\n",
      "[CV] n_estimators=500, min_samples_split=15, min_samples_leaf=10, max_features=auto, max_depth=15 \n",
      "[CV]  n_estimators=500, min_samples_split=15, min_samples_leaf=10, max_features=auto, max_depth=15, total=   3.8s\n",
      "[CV] n_estimators=500, min_samples_split=15, min_samples_leaf=10, max_features=auto, max_depth=15 \n",
      "[CV]  n_estimators=500, min_samples_split=15, min_samples_leaf=10, max_features=auto, max_depth=15, total=   3.7s\n",
      "[CV] n_estimators=500, min_samples_split=15, min_samples_leaf=10, max_features=auto, max_depth=15 \n",
      "[CV]  n_estimators=500, min_samples_split=15, min_samples_leaf=10, max_features=auto, max_depth=15, total=   3.9s\n",
      "[CV] n_estimators=500, min_samples_split=15, min_samples_leaf=10, max_features=auto, max_depth=15 \n",
      "[CV]  n_estimators=500, min_samples_split=15, min_samples_leaf=10, max_features=auto, max_depth=15, total=   4.8s\n",
      "[CV] n_estimators=500, min_samples_split=15, min_samples_leaf=10, max_features=auto, max_depth=15 \n",
      "[CV]  n_estimators=500, min_samples_split=15, min_samples_leaf=10, max_features=auto, max_depth=15, total=   4.9s\n",
      "[CV] n_estimators=600, min_samples_split=10, min_samples_leaf=2, max_features=auto, max_depth=25 \n",
      "[CV]  n_estimators=600, min_samples_split=10, min_samples_leaf=2, max_features=auto, max_depth=25, total=   5.9s\n",
      "[CV] n_estimators=600, min_samples_split=10, min_samples_leaf=2, max_features=auto, max_depth=25 \n",
      "[CV]  n_estimators=600, min_samples_split=10, min_samples_leaf=2, max_features=auto, max_depth=25, total=   5.6s\n",
      "[CV] n_estimators=600, min_samples_split=10, min_samples_leaf=2, max_features=auto, max_depth=25 \n",
      "[CV]  n_estimators=600, min_samples_split=10, min_samples_leaf=2, max_features=auto, max_depth=25, total=   5.0s\n",
      "[CV] n_estimators=600, min_samples_split=10, min_samples_leaf=2, max_features=auto, max_depth=25 \n",
      "[CV]  n_estimators=600, min_samples_split=10, min_samples_leaf=2, max_features=auto, max_depth=25, total=   5.0s\n",
      "[CV] n_estimators=600, min_samples_split=10, min_samples_leaf=2, max_features=auto, max_depth=25 \n",
      "[CV]  n_estimators=600, min_samples_split=10, min_samples_leaf=2, max_features=auto, max_depth=25, total=   4.9s\n",
      "[CV] n_estimators=200, min_samples_split=5, min_samples_leaf=1, max_features=sqrt, max_depth=10 \n",
      "[CV]  n_estimators=200, min_samples_split=5, min_samples_leaf=1, max_features=sqrt, max_depth=10, total=   1.8s\n",
      "[CV] n_estimators=200, min_samples_split=5, min_samples_leaf=1, max_features=sqrt, max_depth=10 \n",
      "[CV]  n_estimators=200, min_samples_split=5, min_samples_leaf=1, max_features=sqrt, max_depth=10, total=   1.7s\n",
      "[CV] n_estimators=200, min_samples_split=5, min_samples_leaf=1, max_features=sqrt, max_depth=10 \n",
      "[CV]  n_estimators=200, min_samples_split=5, min_samples_leaf=1, max_features=sqrt, max_depth=10, total=   1.7s\n",
      "[CV] n_estimators=200, min_samples_split=5, min_samples_leaf=1, max_features=sqrt, max_depth=10 \n",
      "[CV]  n_estimators=200, min_samples_split=5, min_samples_leaf=1, max_features=sqrt, max_depth=10, total=   1.6s\n",
      "[CV] n_estimators=200, min_samples_split=5, min_samples_leaf=1, max_features=sqrt, max_depth=10 \n",
      "[CV]  n_estimators=200, min_samples_split=5, min_samples_leaf=1, max_features=sqrt, max_depth=10, total=   1.7s\n",
      "[CV] n_estimators=900, min_samples_split=5, min_samples_leaf=2, max_features=auto, max_depth=20 \n",
      "[CV]  n_estimators=900, min_samples_split=5, min_samples_leaf=2, max_features=auto, max_depth=20, total=   7.4s\n",
      "[CV] n_estimators=900, min_samples_split=5, min_samples_leaf=2, max_features=auto, max_depth=20 \n",
      "[CV]  n_estimators=900, min_samples_split=5, min_samples_leaf=2, max_features=auto, max_depth=20, total=   7.5s\n",
      "[CV] n_estimators=900, min_samples_split=5, min_samples_leaf=2, max_features=auto, max_depth=20 \n",
      "[CV]  n_estimators=900, min_samples_split=5, min_samples_leaf=2, max_features=auto, max_depth=20, total=   7.4s\n",
      "[CV] n_estimators=900, min_samples_split=5, min_samples_leaf=2, max_features=auto, max_depth=20 \n",
      "[CV]  n_estimators=900, min_samples_split=5, min_samples_leaf=2, max_features=auto, max_depth=20, total=   7.5s\n",
      "[CV] n_estimators=900, min_samples_split=5, min_samples_leaf=2, max_features=auto, max_depth=20 \n",
      "[CV]  n_estimators=900, min_samples_split=5, min_samples_leaf=2, max_features=auto, max_depth=20, total=   7.6s\n",
      "[CV] n_estimators=600, min_samples_split=10, min_samples_leaf=1, max_features=auto, max_depth=25 \n",
      "[CV]  n_estimators=600, min_samples_split=10, min_samples_leaf=1, max_features=auto, max_depth=25, total=   5.0s\n",
      "[CV] n_estimators=600, min_samples_split=10, min_samples_leaf=1, max_features=auto, max_depth=25 \n",
      "[CV]  n_estimators=600, min_samples_split=10, min_samples_leaf=1, max_features=auto, max_depth=25, total=   4.9s\n",
      "[CV] n_estimators=600, min_samples_split=10, min_samples_leaf=1, max_features=auto, max_depth=25 \n",
      "[CV]  n_estimators=600, min_samples_split=10, min_samples_leaf=1, max_features=auto, max_depth=25, total=   4.8s\n",
      "[CV] n_estimators=600, min_samples_split=10, min_samples_leaf=1, max_features=auto, max_depth=25 \n",
      "[CV]  n_estimators=600, min_samples_split=10, min_samples_leaf=1, max_features=auto, max_depth=25, total=   5.0s\n",
      "[CV] n_estimators=600, min_samples_split=10, min_samples_leaf=1, max_features=auto, max_depth=25 \n",
      "[CV]  n_estimators=600, min_samples_split=10, min_samples_leaf=1, max_features=auto, max_depth=25, total=   4.9s\n",
      "[CV] n_estimators=300, min_samples_split=2, min_samples_leaf=5, max_features=auto, max_depth=25 \n"
     ]
    },
    {
     "name": "stdout",
     "output_type": "stream",
     "text": [
      "[CV]  n_estimators=300, min_samples_split=2, min_samples_leaf=5, max_features=auto, max_depth=25, total=   2.4s\n",
      "[CV] n_estimators=300, min_samples_split=2, min_samples_leaf=5, max_features=auto, max_depth=25 \n",
      "[CV]  n_estimators=300, min_samples_split=2, min_samples_leaf=5, max_features=auto, max_depth=25, total=   2.4s\n",
      "[CV] n_estimators=300, min_samples_split=2, min_samples_leaf=5, max_features=auto, max_depth=25 \n",
      "[CV]  n_estimators=300, min_samples_split=2, min_samples_leaf=5, max_features=auto, max_depth=25, total=   2.4s\n",
      "[CV] n_estimators=300, min_samples_split=2, min_samples_leaf=5, max_features=auto, max_depth=25 \n",
      "[CV]  n_estimators=300, min_samples_split=2, min_samples_leaf=5, max_features=auto, max_depth=25, total=   2.4s\n",
      "[CV] n_estimators=300, min_samples_split=2, min_samples_leaf=5, max_features=auto, max_depth=25 \n",
      "[CV]  n_estimators=300, min_samples_split=2, min_samples_leaf=5, max_features=auto, max_depth=25, total=   2.4s\n",
      "[CV] n_estimators=100, min_samples_split=5, min_samples_leaf=2, max_features=auto, max_depth=15 \n",
      "[CV]  n_estimators=100, min_samples_split=5, min_samples_leaf=2, max_features=auto, max_depth=15, total=   0.8s\n",
      "[CV] n_estimators=100, min_samples_split=5, min_samples_leaf=2, max_features=auto, max_depth=15 \n",
      "[CV]  n_estimators=100, min_samples_split=5, min_samples_leaf=2, max_features=auto, max_depth=15, total=   0.9s\n",
      "[CV] n_estimators=100, min_samples_split=5, min_samples_leaf=2, max_features=auto, max_depth=15 \n",
      "[CV]  n_estimators=100, min_samples_split=5, min_samples_leaf=2, max_features=auto, max_depth=15, total=   0.9s\n",
      "[CV] n_estimators=100, min_samples_split=5, min_samples_leaf=2, max_features=auto, max_depth=15 \n",
      "[CV]  n_estimators=100, min_samples_split=5, min_samples_leaf=2, max_features=auto, max_depth=15, total=   0.9s\n",
      "[CV] n_estimators=100, min_samples_split=5, min_samples_leaf=2, max_features=auto, max_depth=15 \n",
      "[CV]  n_estimators=100, min_samples_split=5, min_samples_leaf=2, max_features=auto, max_depth=15, total=   0.9s\n"
     ]
    },
    {
     "name": "stderr",
     "output_type": "stream",
     "text": [
      "[Parallel(n_jobs=1)]: Done  50 out of  50 | elapsed:  3.6min finished\n"
     ]
    },
    {
     "data": {
      "text/plain": [
       "RandomizedSearchCV(cv=5, estimator=RandomForestClassifier(), n_jobs=1,\n",
       "                   param_distributions={'max_depth': [5, 10, 15, 20, 25, 30],\n",
       "                                        'max_features': ['auto', 'sqrt'],\n",
       "                                        'min_samples_leaf': [1, 2, 5, 10],\n",
       "                                        'min_samples_split': [2, 5, 10, 15,\n",
       "                                                              100],\n",
       "                                        'n_estimators': [100, 200, 300, 400,\n",
       "                                                         500, 600, 700, 800,\n",
       "                                                         900, 1000, 1100,\n",
       "                                                         1200]},\n",
       "                   random_state=10, scoring='accuracy', verbose=2)"
      ]
     },
     "execution_count": 67,
     "metadata": {},
     "output_type": "execute_result"
    }
   ],
   "source": [
    "random_rf.fit(X_train,y_train)"
   ]
  },
  {
   "cell_type": "code",
   "execution_count": 68,
   "metadata": {},
   "outputs": [
    {
     "data": {
      "text/plain": [
       "{'n_estimators': 600,\n",
       " 'min_samples_split': 10,\n",
       " 'min_samples_leaf': 2,\n",
       " 'max_features': 'sqrt',\n",
       " 'max_depth': 15}"
      ]
     },
     "execution_count": 68,
     "metadata": {},
     "output_type": "execute_result"
    }
   ],
   "source": [
    "random_rf.best_params_"
   ]
  },
  {
   "cell_type": "code",
   "execution_count": 69,
   "metadata": {},
   "outputs": [
    {
     "data": {
      "text/plain": [
       "0.9357142857142857"
      ]
     },
     "execution_count": 69,
     "metadata": {},
     "output_type": "execute_result"
    }
   ],
   "source": [
    "random_rf.best_score_"
   ]
  },
  {
   "cell_type": "code",
   "execution_count": 70,
   "metadata": {},
   "outputs": [
    {
     "name": "stdout",
     "output_type": "stream",
     "text": [
      "Predictions finished\n"
     ]
    },
    {
     "data": {
      "text/plain": [
       "array([3, 3, 3, 2, 3, 3, 3, 3, 3, 3, 3, 3, 4, 3, 3, 3, 2, 3, 3, 3, 4, 3,\n",
       "       3, 2, 3, 2, 3, 3, 3, 3, 3, 3, 3, 3, 4, 3, 3, 3, 2, 3, 2, 2, 3, 2,\n",
       "       3, 3, 3, 2, 3, 2, 3, 3, 3, 2, 3, 3, 2, 3, 3, 2, 3, 3, 3, 3, 3, 3,\n",
       "       3, 3, 4, 3, 2, 2, 3, 3, 3, 3, 3, 3, 2, 4, 3, 2, 2, 3, 3, 3, 3, 3,\n",
       "       3, 3, 3, 3, 3, 2, 3, 3, 3, 3, 3, 3, 3, 3, 3, 3, 4, 4, 3, 3, 3, 3,\n",
       "       3, 3, 3, 3, 3, 4, 3, 4, 3, 2, 3, 3, 2, 3, 3, 3, 4, 3, 2, 3, 3, 3,\n",
       "       3, 2, 4, 3, 3, 3, 3, 3, 3, 3, 3, 3, 2, 3, 3, 3, 3, 3, 3, 3, 3, 3,\n",
       "       3, 3, 3, 3, 4, 3, 2, 3, 3, 3, 4, 3, 3, 3, 3, 2, 4, 3, 3, 3, 4, 2,\n",
       "       2, 3, 3, 3, 3, 3, 4, 4, 2, 3, 4, 3, 3, 3, 3, 3, 3, 3, 3, 3, 3, 3,\n",
       "       3, 3, 3, 2, 2, 3, 3, 3, 4, 3, 3, 3, 2, 3, 3, 3, 3, 3, 2, 3, 4, 3,\n",
       "       3, 3, 3, 3, 2, 3, 4, 2, 3, 3, 3, 3, 3, 3, 2, 3, 2, 3, 2, 3, 3, 3,\n",
       "       3, 2, 2, 2, 2, 4, 4, 3, 3, 3, 3, 3, 3, 2, 3, 2, 2, 3, 3, 3, 3, 3,\n",
       "       2, 2, 3, 3, 3, 3, 2, 3, 3, 2, 3, 2, 3, 3, 3, 3, 3, 3, 4, 3, 2, 3,\n",
       "       3, 3, 2, 4, 3, 3, 3, 3, 4, 3, 3, 3, 2, 3, 3, 3, 2, 2, 2, 3, 3, 3,\n",
       "       4, 3, 3, 3, 3, 3, 2, 3, 4, 3, 3, 3, 4, 3, 3, 3, 3, 3, 3, 3, 3, 3,\n",
       "       3, 3, 3, 3, 2, 3, 3, 3, 3, 3, 3, 3, 3, 3, 3, 3, 3, 3, 3, 2, 3, 3,\n",
       "       2, 3, 3, 3, 3, 2, 3, 3], dtype=int64)"
      ]
     },
     "metadata": {},
     "output_type": "display_data"
    },
    {
     "data": {
      "text/plain": [
       "123     3\n",
       "1036    3\n",
       "1034    3\n",
       "426     2\n",
       "726     3\n",
       "       ..\n",
       "805     3\n",
       "968     3\n",
       "411     2\n",
       "10      3\n",
       "276     3\n",
       "Name: PerformanceRating, Length: 360, dtype: int64"
      ]
     },
     "metadata": {},
     "output_type": "display_data"
    }
   ],
   "source": [
    "rf_predictions = random_rf.predict(X_test)\n",
    "print(\"Predictions finished\")\n",
    "\n",
    "\n",
    "display(rf_predictions)\n",
    "display(y_test)"
   ]
  },
  {
   "cell_type": "code",
   "execution_count": 71,
   "metadata": {},
   "outputs": [
    {
     "data": {
      "text/plain": [
       "0.925"
      ]
     },
     "execution_count": 71,
     "metadata": {},
     "output_type": "execute_result"
    }
   ],
   "source": [
    "y_predict5=random_rf.predict(X_test)\n",
    "random_accuracy=accuracy_score(y_test,y_predict5)\n",
    "random_accuracy"
   ]
  },
  {
   "cell_type": "markdown",
   "metadata": {},
   "source": [
    "## Naive Bayes"
   ]
  },
  {
   "cell_type": "code",
   "execution_count": 72,
   "metadata": {},
   "outputs": [
    {
     "data": {
      "text/plain": [
       "0.7305555555555555"
      ]
     },
     "execution_count": 72,
     "metadata": {},
     "output_type": "execute_result"
    }
   ],
   "source": [
    "# Training the model\n",
    "from sklearn.naive_bayes import BernoulliNB\n",
    "model_nb = BernoulliNB()\n",
    "model_nb.fit(X_train,y_train)\n",
    "# Predicting the model\n",
    "y_predict6 = model_nb.predict(X_test)\n",
    "#accuracy\n",
    "nb_accuracy=accuracy_score(y_test,y_predict6)\n",
    "nb_accuracy"
   ]
  },
  {
   "cell_type": "markdown",
   "metadata": {},
   "source": [
    "## DecisionTree with GridSearchCV"
   ]
  },
  {
   "cell_type": "code",
   "execution_count": 73,
   "metadata": {},
   "outputs": [
    {
     "data": {
      "text/plain": [
       "GridSearchCV(cv=10, estimator=DecisionTreeClassifier(random_state=42),\n",
       "             param_grid=[{'criterion': ['gini'],\n",
       "                          'min_samples_split': [2, 3, 4, 5]},\n",
       "                         {'criterion': ['entropy'],\n",
       "                          'min_samples_split': [2, 3, 4, 5]}],\n",
       "             scoring='accuracy')"
      ]
     },
     "execution_count": 73,
     "metadata": {},
     "output_type": "execute_result"
    }
   ],
   "source": [
    "# Training the model\n",
    "from sklearn.tree import DecisionTreeClassifier\n",
    "\n",
    "classifier_dtg=DecisionTreeClassifier(random_state=42,splitter='best')\n",
    "parameters=[{'min_samples_split':[2,3,4,5],'criterion':['gini']},{'min_samples_split':[2,3,4,5],'criterion':['entropy']}]\n",
    "\n",
    "model_griddtree=GridSearchCV(estimator=classifier_dtg, param_grid=parameters, scoring='accuracy',cv=10)\n",
    "model_griddtree.fit(X_train,y_train)"
   ]
  },
  {
   "cell_type": "code",
   "execution_count": 74,
   "metadata": {},
   "outputs": [
    {
     "data": {
      "text/plain": [
       "{'criterion': 'gini', 'min_samples_split': 4}"
      ]
     },
     "execution_count": 74,
     "metadata": {},
     "output_type": "execute_result"
    }
   ],
   "source": [
    "model_griddtree.best_params_"
   ]
  },
  {
   "cell_type": "code",
   "execution_count": 75,
   "metadata": {},
   "outputs": [],
   "source": [
    "y_predict7= model_griddtree.predict(X_test)"
   ]
  },
  {
   "cell_type": "code",
   "execution_count": 76,
   "metadata": {},
   "outputs": [
    {
     "data": {
      "text/plain": [
       "0.8722222222222222"
      ]
     },
     "execution_count": 76,
     "metadata": {},
     "output_type": "execute_result"
    }
   ],
   "source": [
    "\n",
    "dt_accuracy=accuracy_score(y_test,y_predict7)\n",
    "dt_accuracy"
   ]
  },
  {
   "cell_type": "code",
   "execution_count": 77,
   "metadata": {},
   "outputs": [
    {
     "name": "stdout",
     "output_type": "stream",
     "text": [
      "The accuracy_score of LogisticRegression is:0.7944444444444444 .\n",
      "The accuracy_score of KNN is:0.7444444444444445 .\n",
      "The accuracy_score of SVM is:0.7333333333333333 .\n",
      "The accuracy_score of XGboost is:0.925 .\n",
      "The accuracy_score of RandomForest_GCV is:0.9138888888888889 .\n",
      "The accuracy_score of RandomForest_RCV is:0.925 .\n",
      "The accuracy_score of Naive Bayes Bernoulli is:0.7305555555555555 .\n",
      "The accuracy_score of decisionTree is:0.8722222222222222 .\n"
     ]
    }
   ],
   "source": [
    "scores=[LR_accuracy,knn_accuracy,svm_accuracy,xgb_accuracy,rfg_accuracy,random_accuracy,nb_accuracy,dt_accuracy]\n",
    "algorithms=['LogisticRegression','KNN','SVM','XGboost','RandomForest_GCV','RandomForest_RCV','Naive Bayes Bernoulli','decisionTree']\n",
    "\n",
    "\n",
    "for i in range(len(algorithms)):\n",
    "    print('The accuracy_score of '+algorithms[i],'is:'+str(scores[i]),'.')"
   ]
  },
  {
   "cell_type": "code",
   "execution_count": 78,
   "metadata": {},
   "outputs": [
    {
     "data": {
      "text/plain": [
       "<AxesSubplot:xlabel='Algorithms', ylabel='accuracy_scores'>"
      ]
     },
     "execution_count": 78,
     "metadata": {},
     "output_type": "execute_result"
    },
    {
     "data": {
      "image/png": "[encoded data removed]",
      "text/plain": [
       "<Figure size 1080x432 with 1 Axes>"
      ]
     },
     "metadata": {
      "needs_background": "light"
     },
     "output_type": "display_data"
    }
   ],
   "source": [
    "plt.figure(figsize=(15,6))\n",
    "plt.xlabel('Algorithms')\n",
    "plt.ylabel('accuracy_scores')\n",
    "sns.barplot(algorithms,scores)"
   ]
  },
  {
   "cell_type": "markdown",
   "metadata": {},
   "source": [
    "### Random Forest Classifier with RandomizedSearchCV and Xgboost classifier gives the best accuracy of -92.5%"
   ]
  },
  {
   "cell_type": "code",
   "execution_count": 83,
   "metadata": {},
   "outputs": [
    {
     "data": {
      "text/plain": [
       "['INX_Future_Inc.ml']"
      ]
     },
     "execution_count": 83,
     "metadata": {},
     "output_type": "execute_result"
    }
   ],
   "source": [
    "# Exporting the trained model\n",
    "import joblib\n",
    "joblib.dump(random_rf,'INX_Future_Inc.ml')"
   ]
  },
  {
   "cell_type": "markdown",
   "metadata": {},
   "source": [
    "#### The overall employee performance can be achieved by employee environment satisfaction. The company needs to focus more on the employee environment.\n",
    "#### The salary hike will give the boost to the employees to perform well financially and psychologically.\n",
    "#### The promotion will help the employees to achieve more performance by giving the chance to be more responsible and leadership qualities.\n",
    "#### The experience years in current role need to be revised while offering the employment to the new employees.\n",
    "#### Employee's work-life balance affects the performance rating.\n",
    "#### The development and data science department is having an overall higher performance comparing to rest of the departments.\n"
   ]
  },
  {
   "cell_type": "code",
   "execution_count": null,
   "metadata": {},
   "outputs": [],
   "source": []
  },
  {
   "cell_type": "code",
   "execution_count": null,
   "metadata": {},
   "outputs": [],
   "source": []
  }
 ],
 "metadata": {
  "kernelspec": {
   "display_name": "Python 3",
   "language": "python",
   "name": "python3"
  },
  "language_info": {
   "codemirror_mode": {
    "name": "ipython",
    "version": 3
   },
   "file_extension": ".py",
   "mimetype": "text/x-python",
   "name": "python",
   "nbconvert_exporter": "python",
   "pygments_lexer": "ipython3",
   "version": "3.7.9"
  }
 },
 "nbformat": 4,
 "nbformat_minor": 4
}
